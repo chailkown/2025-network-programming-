{
 "cells": [
  {
   "cell_type": "markdown",
   "id": "993e5ae9",
   "metadata": {},
   "source": [
    "## 3장 노트정리\n",
    "\n",
    "이 파일은 3장을 학습한 내용을 정리한 내용입니다.\n",
    "\n",
    "날짜 : 2025 - 09 - 17\n",
    "\n",
    "저자 : 차일권\n",
    "\n",
    "학번 : 202111467"
   ]
  },
  {
   "cell_type": "markdown",
   "id": "e26c29f4",
   "metadata": {},
   "source": [
    "#### 조건문"
   ]
  },
  {
   "cell_type": "code",
   "execution_count": null,
   "id": "6cab83a2",
   "metadata": {},
   "outputs": [],
   "source": [
    "score = int(input(\"정수 입력: \"))   # 점수 입력받기\n",
    "\n",
    "if score >= 90:                     # 점수가 90 이상이면\n",
    "    print(\"성적 : A\")               # 성적 출력\n",
    "    print(\"장학금 수여\")            # 장학금 수여 출력\n",
    "\n",
    "age_0 = 22\n",
    "age_1 = 18\n",
    "age = int(input(\"your age? \"))      # 나이 입력받기\n",
    "\n",
    "if age < age_0 and age > age_1:     # 복합 조건문\n",
    "    print(\"당신의 나이는 18~22세 사이입니다\")"
   ]
  },
  {
   "cell_type": "markdown",
   "id": "1b6f221f",
   "metadata": {},
   "source": [
    "score = int(input(\"정수 입력: \"))\n",
    "> 정수 입력: 90\n",
    "\n",
    "if score >= 90:   \n",
    "    print(\"성적 : A\")   \n",
    "    print(\"장학금 수여\")   \n",
    "> 성적 : A   \n",
    "> 장학금 수여\n",
    "\n",
    "age_0 = 22   \n",
    "age_1 = 18   \n",
    "age = int(input(\"your age? \"))\n",
    "> your age? 20\n",
    "\n",
    "if age < age_0 and age > age_1:   \n",
    "    print(\"당신의 나이는 18~22세 사이입니다\")\n",
    "> 당신의 나이는 18~22세 사이입니다\n"
   ]
  },
  {
   "cell_type": "code",
   "execution_count": null,
   "id": "ec3ea363",
   "metadata": {},
   "outputs": [],
   "source": [
    "score = int(input(\"정수 입력: \"))  # 점수 입력받기\n",
    "\n",
    "if score >= 90 :                    # 점수가 90 이상이면\n",
    "    print(\"pass\")                   # pass 출력\n",
    "else :                              # 아니면\n",
    "    print(\"fail\")                   # fail 출력\n",
    "\n",
    "res = 'pass' if score >= 90 else 'fail'  # 삼항 연산자로 조건문 처리\n",
    "print(res)"
   ]
  },
  {
   "cell_type": "markdown",
   "id": "314f52d7",
   "metadata": {},
   "source": [
    "score = int(input(\"정수 입력: \"))\n",
    "> 정수 입력: 85\n",
    "\n",
    "if score >= 90 :   \n",
    "    print(\"pass\")   \n",
    "else :   \n",
    "    print(\"fail\")\n",
    "> fail\n",
    "\n",
    "res = 'pass' if score >= 90 else 'fail'   \n",
    "print(res)\n",
    "> fail\n"
   ]
  },
  {
   "cell_type": "code",
   "execution_count": null,
   "id": "ebf86d0e",
   "metadata": {},
   "outputs": [],
   "source": [
    "year = int(input(\"Type a year :\"))   # 연도 입력받기\n",
    "\n",
    "if (year % 4 == 0 and year % 100 != 0) or (year % 400 == 0):  # 윤년 조건\n",
    "    print(year, \"is a leap year\")       # 윤년일 경우 출력\n",
    "else:\n",
    "    print(year, \"is not a leap year\")   # 윤년이 아닐 경우 출력"
   ]
  },
  {
   "cell_type": "markdown",
   "id": "25bc0679",
   "metadata": {},
   "source": [
    "year = int(input(\"Type a year :\"))\n",
    "> Type a year : 2024\n",
    "\n",
    "if (year % 4 == 0 and year % 100 != 0) or (year % 400 == 0):   \n",
    "    print(year, \"is a leap year\")   \n",
    "else:   \n",
    "    print(year, \"is not a leap year\")\n",
    "> 2024 is a leap year\n"
   ]
  },
  {
   "cell_type": "code",
   "execution_count": null,
   "id": "4cda9ca5",
   "metadata": {},
   "outputs": [],
   "source": [
    "n = int(input(\"type intnumber : \"))   # 정수 입력받기\n",
    "\n",
    "if n > 0:                             # n이 0보다 크면\n",
    "    print(\"positive\")                 # 양수 출력\n",
    "elif n < 0:                           # n이 0보다 작으면\n",
    "    print(\"negative\")                 # 음수 출력\n",
    "else:                                 # 나머지 경우(0)\n",
    "    print(\"0\")                        # 0 출력\n",
    "\n",
    "n = int(input(\"type intnumber : \"))   # 정수 입력받기\n",
    "\n",
    "if n >= 0:                            # n이 0보다 크거나 같으면\n",
    "    if n == 0:                        # n이 0과 같으면\n",
    "        print(\"0\")                    # 0 출력\n",
    "    else:                             # 아니면\n",
    "        print(\"positive\")             # 양수출력\n",
    "else:                                 # 0보다 크거나 같지않으면\n",
    "    print(\"negative\")                 # 음수 출력"
   ]
  },
  {
   "cell_type": "markdown",
   "id": "b6023994",
   "metadata": {},
   "source": [
    "n = int(input(\"type intnumber : \"))\n",
    "> type intnumber : 5\n",
    "\n",
    "if n > 0:   \n",
    "    print(\"positive\")   \n",
    "elif n < 0:   \n",
    "    print(\"negative\")   \n",
    "else:   \n",
    "    print(\"0\")\n",
    "> positive\n",
    "\n",
    "n = int(input(\"type intnumber : \"))\n",
    "> type intnumber : -3\n",
    "\n",
    "if n >= 0:   \n",
    "    if n == 0:   \n",
    "        print(\"0\")   \n",
    "    else:   \n",
    "        print(\"positive\")   \n",
    "else:   \n",
    "    print(\"negative\")\n",
    "> negative"
   ]
  },
  {
   "cell_type": "code",
   "execution_count": null,
   "id": "83d8c1a9",
   "metadata": {},
   "outputs": [],
   "source": [
    "n = int(input(\"type int number : \"))   # 정수 입력 받기\n",
    "\n",
    "if n > 0:                              # n이 양수인지 확인\n",
    "    print(\"positive\")                  # 양수이면 positive 출력\n",
    "elif n < 0:                            # n이 음수인지 확인\n",
    "    print(\"negative\")                  # 음수이면 negative 출력\n",
    "else:                                  # n이 0인 경우\n",
    "    print(\"0\")                         # 0 출력"
   ]
  },
  {
   "cell_type": "markdown",
   "id": "e6d9c65a",
   "metadata": {},
   "source": [
    "n = int(input(\"type int number : \"))\n",
    "> type int number : -2\n",
    "\n",
    "if n > 0:   \n",
    "    print(\"positive\")   \n",
    "elif n < 0:   \n",
    "    print(\"negative\")   \n",
    "else:   \n",
    "    print(\"0\")\n",
    "> negative"
   ]
  },
  {
   "cell_type": "code",
   "execution_count": null,
   "id": "272d92bb",
   "metadata": {},
   "outputs": [],
   "source": [
    "age = 12                             # 나이 설정\n",
    "\n",
    "if age < 4:                          # 4세 미만\n",
    "    price = 0\n",
    "elif age < 18:                        # 4세 이상 18세 미만\n",
    "    price = 5\n",
    "elif age < 65:                        # 18세 이상 65세 미만\n",
    "    price = 10\n",
    "else:                                 # 65세 이상\n",
    "    price = 5\n",
    "\n",
    "print(\"Your admission cost is $\" + str(price) + \".\")  # 입장료 출력"
   ]
  },
  {
   "cell_type": "markdown",
   "id": "a3fb081e",
   "metadata": {},
   "source": [
    "age = 12   \n",
    "if age < 4:   \n",
    "    price = 0   \n",
    "elif age < 18:   \n",
    "    price = 5     \n",
    "elif age < 65:   \n",
    "    price = 10   \n",
    "else:   \n",
    "    price = 5   \n",
    "print(\"Your admission cost is $\" + str(price) + \".\")\n",
    "> Your admission cost is $5.\n"
   ]
  },
  {
   "cell_type": "markdown",
   "id": "d3e66ce5",
   "metadata": {},
   "source": [
    "#### while반복문"
   ]
  },
  {
   "cell_type": "code",
   "execution_count": null,
   "id": "1ddc80fe",
   "metadata": {},
   "outputs": [],
   "source": [
    "i = 1                  # 초기화\n",
    "sum = 0                # 합계 초기화\n",
    "\n",
    "while i <= 100:         # 1~100까지 반복\n",
    "    sum = sum + i       # 현재 i를 sum에 더함\n",
    "    i = i + 1           # i 증가\n",
    "\n",
    "print(\"sum=\", sum)      # 결과 출력"
   ]
  },
  {
   "cell_type": "markdown",
   "id": "9cffc87f",
   "metadata": {},
   "source": [
    "i = 1   \n",
    "sum = 0   \n",
    "\n",
    "while i <= 100:\n",
    "    sum = sum + i   \n",
    "    i = i + 1   \n",
    "\n",
    "print(\"sum=\", sum)\n",
    "> sum= 5050"
   ]
  },
  {
   "cell_type": "code",
   "execution_count": null,
   "id": "598b01be",
   "metadata": {},
   "outputs": [],
   "source": [
    "n = int(input('Number: '))        # 10진수 입력\n",
    "result = ''                        # 변환 결과 저장\n",
    "\n",
    "while n != 0:\n",
    "    m = n % 2                      # 나머지\n",
    "    result = str(m) + result       # 숫자를 문자열로 변환하여 앞에 추가\n",
    "    n = n // 2                     # 몫\n",
    "\n",
    "print(\"2진수=\", result)            # 결과 출력"
   ]
  },
  {
   "cell_type": "markdown",
   "id": "e532a484",
   "metadata": {},
   "source": [
    "n = int(input('Number: '))\n",
    "> Number: 19\n",
    "\n",
    "result = ''\n",
    "\n",
    "while n != 0:   \n",
    "    m = n % 2   \n",
    "    result = str(m) + result   \n",
    "    n = n // 2\n",
    "\n",
    "print(\"2진수=\", result)\n",
    "> 2진수= 10011\n"
   ]
  },
  {
   "cell_type": "markdown",
   "id": "bab69f97",
   "metadata": {},
   "source": [
    "####  for반복문"
   ]
  },
  {
   "cell_type": "code",
   "execution_count": null,
   "id": "8e91fcab",
   "metadata": {},
   "outputs": [],
   "source": [
    "for i in [1, 2, 3]:            # 리스트의 각 요소 반복\n",
    "    print(\"숫자\", i)           # 숫자와 함께 출력\n",
    "\n",
    "for i in (1, 2, 3):            # 튜플의 각 요소 반복\n",
    "    print(\"숫자\", i)           # 숫자와 함께 출력\n",
    "\n",
    "for i in 'hello':               # 문자열의 각 문자 반복\n",
    "    print(i)                    # 문자 출력"
   ]
  },
  {
   "cell_type": "markdown",
   "id": "a8d89969",
   "metadata": {},
   "source": [
    "for i in [1, 2, 3]:   \n",
    "    print(\"숫자\", i)\n",
    "> 숫자 1  \n",
    "> 숫자 2   \n",
    "> 숫자 3\n",
    "\n",
    "for i in (1, 2, 3):   \n",
    "    print(\"숫자\", i)\n",
    "> 숫자 1   \n",
    "> 숫자 2   \n",
    "> 숫자 3\n",
    "\n",
    "for i in 'hello':   \n",
    "    print(i)\n",
    "> h   \n",
    "> e   \n",
    "> l   \n",
    "> l   \n",
    "> o\n"
   ]
  },
  {
   "cell_type": "code",
   "execution_count": null,
   "id": "2661343e",
   "metadata": {},
   "outputs": [],
   "source": [
    "for i in range(1, 4, 1):  # 1부터 3까지 1씩 증가\n",
    "    print(\"Number\", i)     # 현재 숫자 출력"
   ]
  },
  {
   "cell_type": "markdown",
   "id": "6c9529a5",
   "metadata": {},
   "source": [
    "for i in range(1, 4, 1):   \n",
    "    print(\"Number\", i)\n",
    "> Number 1   \n",
    "> Number 2   \n",
    "> Number 3"
   ]
  },
  {
   "cell_type": "code",
   "execution_count": null,
   "id": "8c69d9ff",
   "metadata": {},
   "outputs": [],
   "source": [
    "sum = 0\n",
    "for i in range(1, 101, 1):  # 1부터 100까지 1씩 증가\n",
    "    sum = sum + i           # 합계 계산\n",
    "print(\"sum = \", sum)        # 합계 출력"
   ]
  },
  {
   "cell_type": "markdown",
   "id": "f99ba247",
   "metadata": {},
   "source": [
    "sum = 0   \n",
    "for i in range(1, 101, 1):   \n",
    "    sum = sum + i   \n",
    "print(\"sum = \", sum)\n",
    "> sum =  5050\n"
   ]
  },
  {
   "cell_type": "code",
   "execution_count": null,
   "id": "518aca18",
   "metadata": {},
   "outputs": [],
   "source": [
    "x = float(input('Type x : '))  # 밑 입력\n",
    "n = int(input('Type n : '))    # 지수 입력\n",
    "prod = 1\n",
    "for i in range(1, n+1):        # 1부터 n까지 반복\n",
    "    prod = prod * x            # 곱셈\n",
    "print(prod)                     # 결과 출력"
   ]
  },
  {
   "cell_type": "markdown",
   "id": "fbf6127b",
   "metadata": {},
   "source": [
    "x = float(input('Type x : '))\n",
    "> Type x : 2\n",
    "\n",
    "n = int(input('Type n : '))\n",
    "> Type n : 3\n",
    "\n",
    "prod = 1   \n",
    "for i in range(1, n+1):   \n",
    "    prod = prod * x   \n",
    "print(prod)\n",
    "> 8.0\n"
   ]
  },
  {
   "cell_type": "code",
   "execution_count": null,
   "id": "a051ecba",
   "metadata": {},
   "outputs": [],
   "source": [
    "for i in range(2, 10, 1):                  # 2단부터 9단까지 반복\n",
    "    for j in range(1, 10, 1):              # 1부터 9까지 곱셈 반복\n",
    "        print(\"%d x %d = %d\" % (i, j, i*j))  # 구구단 출력\n",
    "\n",
    "while True:                                # 조건이 항상 참인 무한루프\n",
    "    print(\"last forever\")                  # 계속 출력"
   ]
  },
  {
   "cell_type": "markdown",
   "id": "0c2bce05",
   "metadata": {},
   "source": [
    "for i in range(2, 10, 1):   \n",
    "    for j in range(1, 10, 1):   \n",
    "        print(\"%d x %d = %d\" % (i, j, i*j))\n",
    "> 2 x 1 = 2   \n",
    "> 2 x 2 = 4   \n",
    "> 2 x 3 = 6   \n",
    "> 2 x 4 = 8   \n",
    "> 2 x 5 = 10   \n",
    "> 2 x 6 = 12    \n",
    "> 2 x 7 = 14   \n",
    "> 2 x 8 = 16   \n",
    "> 2 x 9 = 18   \n",
    "> 3 x 1 = 3   \n",
    "> ...   \n",
    "> 9 x 9 = 81\n",
    "\n",
    "while True:   \n",
    "    print(\"last forever\")\n",
    "> last forever   \n",
    "> last forever   \n",
    "> last forever   \n",
    "> ..."
   ]
  },
  {
   "cell_type": "markdown",
   "id": "4f207863",
   "metadata": {},
   "source": [
    "#### 기타 제어문"
   ]
  },
  {
   "cell_type": "code",
   "execution_count": null,
   "id": "aec94d27",
   "metadata": {},
   "outputs": [],
   "source": [
    "n = 10   \n",
    "while n >= -10:   \n",
    "    if n == 0:   \n",
    "        break                    # n=0이면 while 블록 탈출\n",
    "    inv = 1.0 / n                 # 역수 계산\n",
    "    print(inv)                     # 출력\n",
    "    n = n - 1                      # n 감소"
   ]
  },
  {
   "cell_type": "markdown",
   "id": "7887fed6",
   "metadata": {},
   "source": [
    "n = 10   \n",
    "while n >= -10:   \n",
    "    if n == 0:   \n",
    "        break   \n",
    "    inv = 1.0 / n   \n",
    "    print(inv)\n",
    "> 0.1   \n",
    "> 0.1111111111111111   \n",
    "> 0.125   \n",
    "> 0.14285714285714285   \n",
    "> 0.16666666666666666   \n",
    "> 0.2   \n",
    "> 0.25   \n",
    "> 0.3333333333333333   \n",
    "> 0.5   \n",
    "> 1.0\n"
   ]
  },
  {
   "cell_type": "code",
   "execution_count": null,
   "id": "aae2faa0",
   "metadata": {},
   "outputs": [],
   "source": [
    "x = float(input('Type x : '))  # 밑 입력\n",
    "n = int(input('Type n : '))    # 지수 입력\n",
    "prod = 1\n",
    "for i in range(1, n+1):        # 1부터 n까지 반복\n",
    "    prod = prod * x            # 곱셈\n",
    "print(prod)                     # 결과 출력"
   ]
  },
  {
   "cell_type": "markdown",
   "id": "bd8b7958",
   "metadata": {},
   "source": [
    "x = float(input('Type x : '))\n",
    "> Type x : 2\n",
    "\n",
    "n = int(input('Type n : '))\n",
    "> Type n : 3\n",
    "\n",
    "prod = 1   \n",
    "for i in range(1, n+1):   \n",
    "    prod = prod * x   \n",
    "print(prod)\n",
    "> 8.0"
   ]
  },
  {
   "cell_type": "code",
   "execution_count": null,
   "id": "88776a65",
   "metadata": {},
   "outputs": [],
   "source": [
    "def handle_status(status):\n",
    "    match status:\n",
    "        case 200:\n",
    "            return \"성공\"                   # 상태 코드 200 처리\n",
    "        case 404:\n",
    "            return \"페이지를 찾을 수 없음\"    # 상태 코드 404 처리\n",
    "        case 500:\n",
    "            return \"서버 오류\"               # 상태 코드 500 처리\n",
    "        case _:\n",
    "            return \"알 수 없는 상태\"         # 그 외 코드 처리\n",
    "\n",
    "print(handle_status(200))                 # \"성공\"\n",
    "print(handle_status(999))                 # \"알 수 없는 상태\""
   ]
  },
  {
   "cell_type": "markdown",
   "id": "d9def9d8",
   "metadata": {},
   "source": [
    "def handle_status(status):\n",
    "    match status:   \n",
    "        case 200:   \n",
    "            return \"성공\"   \n",
    "        case 404:   \n",
    "            return \"페이지를 찾을 수 없음\"   \n",
    "        case 500:   \n",
    "            return \"서버 오류\"   \n",
    "        case _:   \n",
    "            return \"알 수 없는 상태\"\n",
    "\n",
    "print(handle_status(200))\n",
    "> 성공\n",
    "\n",
    "print(handle_status(999))\n",
    "> 알 수 없는 상태\n"
   ]
  }
 ],
 "metadata": {
  "language_info": {
   "name": "python"
  }
 },
 "nbformat": 4,
 "nbformat_minor": 5
}
