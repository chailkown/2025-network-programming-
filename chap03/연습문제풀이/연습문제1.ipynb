{
 "cells": [
  {
   "cell_type": "markdown",
   "id": "2cfa6393",
   "metadata": {},
   "source": [
    "## 4장 연습문제 풀이\n",
    "\n",
    "이 파일은 3장 연습문제 풀이 내용을 정리한 내용입니다.\n",
    "\n",
    "날짜 : 2025 - 09 - 17\n",
    "\n",
    "저자 : 차일권\n",
    "\n",
    "학번 : 202111467"
   ]
  },
  {
   "cell_type": "markdown",
   "id": "45eede1f",
   "metadata": {},
   "source": [
    " 숫자맞추기게임프로그램   \n",
    "❖ 1~100 사이의 난수를 만들고사용자가1~100     사이의수를입력하여맞추는프로그램. 5회까지   \n",
    "맞추지못하면종료"
   ]
  },
  {
   "cell_type": "code",
   "execution_count": null,
   "id": "2e18e1fa",
   "metadata": {},
   "outputs": [],
   "source": [
    "from random import randint\n",
    "\n",
    "secret_num = randint(1, 100)           # 1~100 사이의 난수 생성\n",
    "num_guesses = 0                         # 시도 회수\n",
    "guess = 0                               # 사용자 예상 숫자 초기화\n",
    "\n",
    "while guess != secret_num and num_guesses < 5:  # 최대 5회 반복\n",
    "    guess = eval(input('Enter your guess (1-100): '))  # 사용자 입력\n",
    "    num_guesses = num_guesses + 1\n",
    "\n",
    "    if guess < secret_num:               # 정답보다 작으면\n",
    "        print('더 큽니다.', 5 - num_guesses, '회 남았습니다.\\n')\n",
    "    elif guess > secret_num:             # 정답보다 크면\n",
    "        print('더 작습니다.', 5 - num_guesses, '회 남았습니다.\\n')\n",
    "    else:                                # 정답이면\n",
    "        print('맞았습니다!')\n",
    "\n",
    "if num_guesses == 5 and guess != secret_num:   # 5회 후 실패 시\n",
    "    print('당신이 졌습니다. 정답은', secret_num, '입니다')"
   ]
  },
  {
   "cell_type": "markdown",
   "id": "54301918",
   "metadata": {},
   "source": [
    "from random import randint\n",
    "\n",
    "secret_num = 42   \n",
    "num_guesses = 0   \n",
    "guess = 0\n",
    "\n",
    "while guess != secret_num and num_guesses < 5:   \n",
    "    guess = eval(input('Enter your guess (1-100): ')) \n",
    "> Enter your guess (1-100): 30\n",
    "\n",
    "    num_guesses = num_guesses + 1   \n",
    "    if guess < secret_num:   \n",
    "        print('더 큽니다.', 5 - num_guesses, '회 남았습니다.\\n')\n",
    "> 더 큽니다. 4 회 남았습니다.\n",
    "\n",
    "    guess = eval(input('Enter your guess (1-100): '))   \n",
    "> Enter your guess (1-100): 50   \n",
    "\n",
    "    num_guesses = num_guesses + 1   \n",
    "    elif guess > secret_num:   \n",
    "        print('더 작습니다.', 5 - num_guesses, '회 남았습니다.   \\n')\n",
    "> 더 작습니다. 3 회 남았습니다.\n",
    "\n",
    "    guess = eval(input('Enter your guess (1-100): '))\n",
    "> Enter your guess (1-100): 42\n",
    "\n",
    "    num_guesses = num_guesses + 1   \n",
    "    else:   \n",
    "        print('맞았습니다!')\n",
    "> 맞았습니다!\n"
   ]
  }
 ],
 "metadata": {
  "language_info": {
   "name": "python"
  }
 },
 "nbformat": 4,
 "nbformat_minor": 5
}
