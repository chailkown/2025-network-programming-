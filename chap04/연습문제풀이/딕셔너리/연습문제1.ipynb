{
 "cells": [
  {
   "cell_type": "markdown",
   "id": "2098f702",
   "metadata": {},
   "source": [
    "## 4장 연습문제 풀이\n",
    "\n",
    "이 파일은 4장 연습문제 풀이 내용을 정리한 내용입니다.\n",
    "\n",
    "날짜 : 2025 - 09 - 10\n",
    "\n",
    "저자 : 차일권\n",
    "\n",
    "학번 : 202111467"
   ]
  },
  {
   "cell_type": "markdown",
   "id": "20bcb86b",
   "metadata": {},
   "source": [
    "#### 다음딕셔너리에대해물음에답하라.\n",
    " days = {'January':31, 'February':28, 'March':31, 'April':30,   \n",
    " 'May':31, 'June':30, 'July':31, 'August':31,   \n",
    " 'September':30, 'October':31, 'November':30, 'December':31}   \n",
    " \n",
    " • 사용자가월을입력하면해당월에일수를출력하라   \n",
    "• 알파벳순서로모든월을출력하라   \n",
    "• 일수가31인월을모두출력하라   \n",
    "• 월의일수를기준으로오름차순으로(key-value) 쌍을 출력하라   \n",
    "• 사용자가월을3자리만입력하면월의일수를출력하라.(Jan, Feb 등)"
   ]
  }
 ],
 "metadata": {
  "language_info": {
   "name": "python"
  }
 },
 "nbformat": 4,
 "nbformat_minor": 5
}
