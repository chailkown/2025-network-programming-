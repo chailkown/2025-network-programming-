{
 "cells": [
  {
   "cell_type": "markdown",
   "id": "2098f702",
   "metadata": {},
   "source": [
    "## 4장 연습문제 풀이\n",
    "\n",
    "이 파일은 4장 연습문제 풀이 내용을 정리한 내용입니다.\n",
    "\n",
    "날짜 : 2025 - 09 - 10\n",
    "\n",
    "저자 : 차일권\n",
    "\n",
    "학번 : 202111467"
   ]
  },
  {
   "cell_type": "markdown",
   "id": "20bcb86b",
   "metadata": {},
   "source": [
    "#### 다음딕셔너리에대해물음에답하라.\n",
    " days = {'January':31, 'February':28, 'March':31, 'April':30,   \n",
    " 'May':31, 'June':30, 'July':31, 'August':31,   \n",
    " 'September':30, 'October':31, 'November':30, 'December':31}   \n",
    " \n",
    " • 사용자가월을입력하면해당월에일수를출력하라   \n",
    "• 알파벳순서로모든월을출력하라   \n",
    "• 일수가31인월을모두출력하라   \n",
    "• 월의일수를기준으로오름차순으로(key-value) 쌍을 출력하라   \n",
    "• 사용자가월을3자리만입력하면월의일수를출력하라.(Jan, Feb 등)"
   ]
  },
  {
   "cell_type": "code",
   "execution_count": null,
   "id": "ea6ac3e8",
   "metadata": {},
   "outputs": [],
   "source": [
    "days = {'January':31, 'February':28, 'March':31, 'April':30,\n",
    "        'May':31, 'June':30, 'July':31, 'August':31,\n",
    "        'September':30, 'October':31, 'November':30, 'December':31}\n",
    "\n",
    "month = input(\"월을 입력하시오: \")\n",
    "print(days[month])\n",
    "# 사용자가 입력한 month 키의 값 출력\n",
    "\n",
    "print(sorted(days.keys()))\n",
    "# days 딕셔너리의 키를 정렬하여 출력\n",
    "\n",
    "for m, d in days.items():\n",
    "    if d == 31:\n",
    "        print(m, end=' ')\n",
    "# 값이 31인 키만 출력\n",
    "\n",
    "# 4. 일수를 기준으로 오름차순 출력\n",
    "for m, d in sorted(days.items(), key=lambda x:x[1]):\n",
    "    print(m, d)\n",
    "# items를 일수 기준으로 정렬 후 key-value 출력\n",
    "\n",
    "month3 = input(\"월 3자리 입력: \")\n",
    "for m, d in days.items():\n",
    "    if m[:3] == month3:\n",
    "        print(d)\n",
    "# 월 이름의 앞 3글자와 입력값이 같으면 값 출력\n"
   ]
  },
  {
   "cell_type": "markdown",
   "id": "a66e9c36",
   "metadata": {},
   "source": [
    "days = {'January':31, 'February':28, 'March':31, 'April':30,\n",
    "        'May':31, 'June':30, 'July':31, 'August':31,\n",
    "        'September':30, 'October':31, 'November':30, 'December':31}\n",
    "\n",
    "month = input(\"월을 입력하시오: \")\n",
    "> March\n",
    "\n",
    "print(days[month])\n",
    "> 31\n",
    "\n",
    "print(sorted(days.keys()))\n",
    "> ['April', 'August', 'December', 'February', 'January', 'July', 'June', 'March', 'May', 'November', 'October', 'September']\n",
    "\n",
    "for m, d in days.items():   \n",
    "    if d == 31:   \n",
    "        print(m, end=' ')\n",
    "> January March May July August October December \n",
    "\n",
    "for m, d in sorted(days.items(), key=lambda x:x[1]):   \n",
    "    print(m, d)\n",
    "> February 28   \n",
    "> April 30   \n",
    "> June 30   \n",
    "> September 30   \n",
    "> January 31   \n",
    "> March 31   \n",
    "> May 31   \n",
    "> July 31   \n",
    "> August 31   \n",
    "> October 31   \n",
    "> November 30   \n",
    "> December 31\n",
    "\n",
    "month3 = input(\"월 3자리 입력: \")\n",
    "> Jan\n",
    "\n",
    "for m, d in days.items():   \n",
    "    if m[:3] == month3:   \n",
    "        print(d)\n",
    "> 31\n"
   ]
  }
 ],
 "metadata": {
  "language_info": {
   "name": "python"
  }
 },
 "nbformat": 4,
 "nbformat_minor": 5
}
