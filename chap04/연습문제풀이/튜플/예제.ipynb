{
 "cells": [
  {
   "cell_type": "markdown",
   "id": "5dbec859",
   "metadata": {},
   "source": [
    "## 4장 연습문제 풀이\n",
    "\n",
    "이 파일은 4장 예제 내용을 정리한 내용입니다.\n",
    "\n",
    "날짜 : 2025 - 09 - 10\n",
    "\n",
    "저자 : 차일권\n",
    "\n",
    "학번 : 202111467"
   ]
  },
  {
   "cell_type": "markdown",
   "id": "1ebc465f",
   "metadata": {},
   "source": [
    "#### 1부터45까지의수중에서6개를선택하여로또번호를만드는프로그램"
   ]
  },
  {
   "cell_type": "code",
   "execution_count": null,
   "id": "652497cb",
   "metadata": {},
   "outputs": [],
   "source": [
    "import random\n",
    "\n",
    "pick = set()                   # 빈 집합 생성\n",
    "while len(pick) < 6:           # 집합에 6개 숫자가 모일 때까지 반복\n",
    "    n = random.randint(1, 45)  # 1~45 사이 랜덤 숫자 생성\n",
    "    if n not in pick:           # 중복 방지\n",
    "        pick.add(n)             # 집합에 숫자 추가\n",
    "\n",
    "print(pick)                     # 집합 출력 (순서 무작위)\n",
    "print(sorted(pick))             # 집합을 오름차순으로 정렬하여 리스트로 출력"
   ]
  },
  {
   "cell_type": "markdown",
   "id": "1a565619",
   "metadata": {},
   "source": [
    "import random\n",
    "\n",
    "pick = set()   \n",
    "while len(pick) < 6:   \n",
    "    n = random.randint(1, 45)   \n",
    "    if n not in pick:   \n",
    "        pick.add(n)\n",
    "\n",
    "print(pick)\n",
    "> {3, 8, 12, 19, 27, 41}\n",
    "\n",
    "print(sorted(pick))\n",
    "> [3, 8, 12, 19, 27, 41]\n"
   ]
  }
 ],
 "metadata": {
  "language_info": {
   "name": "python"
  }
 },
 "nbformat": 4,
 "nbformat_minor": 5
}
