{
 "cells": [
  {
   "cell_type": "markdown",
   "id": "2a0a7d64",
   "metadata": {},
   "source": [
    "## 4장 연습문제 풀이2\n",
    "\n",
    "이 파일은 4장 연습문제 풀이 내용을 정리한 내용입니다.\n",
    "\n",
    "날짜 : 2025 - 09 - 10\n",
    "\n",
    "저자 : 차일권\n",
    "\n",
    "학번 : 202111467"
   ]
  },
  {
   "cell_type": "markdown",
   "id": "b71a4ed8",
   "metadata": {},
   "source": [
    "#### for 루프를 이용하여다음과같은리스트를생성하라.\n",
    "• 0~49까지의 수로 구성되는리스트   \n",
    "• 1~50까지 수의 제곱으로구성되는리스트"
   ]
  },
  {
   "cell_type": "code",
   "execution_count": null,
   "id": "004c262b",
   "metadata": {},
   "outputs": [],
   "source": [
    "lst1 = [i for i in range(50)]           # 0부터 49까지 수로 리스트 생성\n",
    "print(lst1)\n",
    "\n",
    "lst2 = [i**2 for i in range(1, 51)]    # 1부터 50까지 수의 제곱으로 리스트 생성\n",
    "print(lst2)"
   ]
  },
  {
   "cell_type": "markdown",
   "id": "9a20af89",
   "metadata": {},
   "source": [
    "lst1 = [i for i in range(50)]          \n",
    "print(lst1)\n",
    "> [0, 1, 2, 3, 4, 5, 6, 7, 8, 9, 10, 11, 12, 13, 14, 15, 16, 17, 18, 19, 20, 21, 22, 23, 24, 25, 26, 27, 28, 29, 30, 31, 32, 33, 34, 35, 36, 37, 38, 39, 40, 41, 42, 43, 44, 45, 46, 47, 48, 49]\n",
    "\n",
    "lst2 = [i**2 for i in range(1, 51)]    \n",
    "print(lst2)\n",
    "> [1, 4, 9, 16, 25, 36, 49, 64, 81, 100, 121, 144, 169, 196, 225, 256, 289, 324, 361, 400, 441, 484, 529, 576, 625, 676, 729, 784, 841, 900, 961, 1024, 1089, 1156, 1225, 1296, 1369, 1444, 1521, 1600, 1681, 1764, 1849, 1936, 2025, 2116, 2209, 2304, 2401, 2500]\n"
   ]
  },
  {
   "cell_type": "markdown",
   "id": "0f7426f8",
   "metadata": {},
   "source": [
    "#### 크기가같은두개의리스트L, M을생성하고두리스트의각요소합으로구성되는새로운리스트를생성하라. \n",
    "예를들어L=[1,2,3]이고 M=[4,5,6]이면 [5,7,9]인 리스트 생성"
   ]
  },
  {
   "cell_type": "code",
   "execution_count": null,
   "id": "f91541de",
   "metadata": {},
   "outputs": [],
   "source": [
    "L = [1, 2, 3]                           # 첫 번째 리스트\n",
    "M = [4, 5, 6]                           # 두 번째 리스트\n",
    "\n",
    "sum_list = [L[i] + M[i] for i in range(len(L))]  # 각 요소의 합으로 새로운 리스트 생성\n",
    "print(sum_list)                          # [5, 7, 9] 출력"
   ]
  },
  {
   "cell_type": "markdown",
   "id": "c7285606",
   "metadata": {},
   "source": [
    "L = [1, 2, 3]   \n",
    "M = [4, 5, 6]\n",
    "\n",
    "sum_list = [L[i] + M[i] for i in range(len(L))]   \n",
    "print(sum_list)\n",
    "> [5, 7, 9]"
   ]
  },
  {
   "cell_type": "markdown",
   "id": "36bf4abe",
   "metadata": {},
   "source": [
    "#### 사용자로부터5개의숫자를문자열로입력받아각숫자를+로연결한문자열을생성하라. \n",
    "예를들어2, 5, 11, 33, 55를 입력하면 '2+5+11+33+55'를 생성하라."
   ]
  },
  {
   "cell_type": "code",
   "execution_count": null,
   "id": "37cbaa9b",
   "metadata": {},
   "outputs": [],
   "source": [
    "nums = input(\"5개의 숫자를 입력하시오(쉼표로 구분): \").split(',')  \n",
    "# 입력받은 문자열을 쉼표로 나누어 리스트 생성\n",
    "\n",
    "result = '+'.join(nums)  \n",
    "# 리스트의 각 숫자를 '+'로 연결한 문자열 생성\n",
    "\n",
    "print(result)  \n"
   ]
  },
  {
   "cell_type": "markdown",
   "id": "04e538b9",
   "metadata": {},
   "source": [
    "nums = input(\"5개의 숫자를 입력하시오: \")\n",
    "> 2,5,11,33,55\n",
    "\n",
    "nums = nums.split(',')     \n",
    "result = '+'.join(nums)   \n",
    "print(result)\n",
    "> 2+5+11+33+55\n"
   ]
  }
 ],
 "metadata": {
  "language_info": {
   "name": "python"
  }
 },
 "nbformat": 4,
 "nbformat_minor": 5
}
