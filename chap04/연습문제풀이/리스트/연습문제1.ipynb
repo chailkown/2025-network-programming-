{
 "cells": [
  {
   "cell_type": "markdown",
   "id": "458e9a77",
   "metadata": {},
   "source": [
    "## 4장 연습문제 풀이\n",
    "\n",
    "이 파일은 4장 연습문제 풀이 내용을 정리한 내용입니다.\n",
    "\n",
    "날짜 : 2025 - 09 - 10\n",
    "\n",
    "저자 : 차일권\n",
    "\n",
    "학번 : 202111467"
   ]
  },
  {
   "cell_type": "markdown",
   "id": "a427cb12",
   "metadata": {},
   "source": [
    "#### 3명이상친구이름리스트를작성하고다음내용을프로그램하시오   \n",
    "• insert()로 맨 앞에 새로운 친구 추가   \n",
    "• insert()로 3번째 위치에 새로운 친구 추가   \n",
    "• append()로 마지막에 친구 추가"
   ]
  },
  {
   "cell_type": "code",
   "execution_count": null,
   "id": "4c3cd0dd",
   "metadata": {},
   "outputs": [],
   "source": [
    "friends = ['일권', '영준', '석한', '민상']  # 친구 이름 리스트\n",
    "\n",
    "friends.insert(0, '건호')      # 맨 앞에 친구 추가\n",
    "print(friends)                # 결과 출력\n",
    "\n",
    "friends.insert(2, '희태')    # 3번째 위치에 친구 추가\n",
    "print(friends)                # 결과 출력\n",
    "\n",
    "friends.append('연준')       # 마지막에 친구 추가\n",
    "print(friends)                # 결과 출력"
   ]
  },
  {
   "cell_type": "markdown",
   "id": "bbef39d0",
   "metadata": {},
   "source": [
    "friends = ['일권', '영준', '석한', '민상']\n",
    "\n",
    "friends.insert(0, '건호')      # 맨 앞에 친구 추가\n",
    "print(friends)\n",
    "> ['건호', '일권', '영준', '석한', '민상']\n",
    "\n",
    "friends.insert(2, '희태')    # 3번째 위치에 친구 추가\n",
    "print(friends)\n",
    "> ['건호', '일권', '희태', '영준', '석한', '민상']\n",
    "\n",
    "friends.append('연준')       # 마지막에 친구 추가\n",
    "print(friends)\n",
    "> ['건호', '일권', '희태', '영준', '석한', '민상', '연준']\n"
   ]
  },
  {
   "cell_type": "markdown",
   "id": "81a0a25f",
   "metadata": {},
   "source": [
    "#### 리스트[1, 2, 3]에 대해 다음과같은처리를하라.\n",
    "• 두 번째요소를17로수정   \n",
    "• 리스트에4, 5, 6을 추가   \n",
    "• 첫 번째요소제거   \n",
    "• 리스트를요소순서대로배열하기   \n",
    "• 인덱스3에25넣기"
   ]
  },
  {
   "cell_type": "code",
   "execution_count": null,
   "id": "38e3fdf3",
   "metadata": {},
   "outputs": [],
   "source": [
    "lst = [1, 2, 3]\n",
    "\n",
    "lst[1] = 17                 # 두 번째 요소를 17로 수정\n",
    "print(lst)\n",
    "\n",
    "lst.extend([4, 5, 6])       # 리스트에 4, 5, 6 추가\n",
    "print(lst)\n",
    "\n",
    "lst.pop(0)                   # 첫 번째 요소 제거\n",
    "print(lst)\n",
    "\n",
    "lst.sort()                   # 리스트를 오름차순으로 정렬\n",
    "print(lst)\n",
    "\n",
    "lst.insert(3, 25)            # 인덱스 3에 25 삽입\n",
    "print(lst)"
   ]
  },
  {
   "cell_type": "markdown",
   "id": "7f224139",
   "metadata": {},
   "source": [
    "lst = [1, 2, 3]\n",
    "\n",
    "lst[1] = 17                 \n",
    "print(lst)\n",
    "> [1, 17, 3]\n",
    "\n",
    "lst.extend([4, 5, 6])      \n",
    "print(lst)\n",
    "> [1, 17, 3, 4, 5, 6]\n",
    "\n",
    "lst.pop(0)                  \n",
    "print(lst)\n",
    "> [17, 3, 4, 5, 6]\n",
    "\n",
    "lst.sort()                  \n",
    "print(lst)\n",
    "> [3, 4, 5, 6, 17]\n",
    "\n",
    "lst.insert(3, 25)   \n",
    "print(lst)\n",
    "> [3, 4, 5, 25, 6, 17]\n"
   ]
  }
 ],
 "metadata": {
  "language_info": {
   "name": "python"
  }
 },
 "nbformat": 4,
 "nbformat_minor": 5
}
