{
 "cells": [
  {
   "cell_type": "markdown",
   "id": "6db6db09",
   "metadata": {},
   "source": [
    "## 4장 노트정리\n",
    "\n",
    "이 파일은 4장을 학습한 내용을 정리한 내용입니다.\n",
    "\n",
    "날짜 : 2025 - 09 - 10\n",
    "\n",
    "저자 : 차일권\n",
    "\n",
    "학번 : 202111467"
   ]
  },
  {
   "cell_type": "markdown",
   "id": "8ec04e94",
   "metadata": {},
   "source": [
    "#### 문자열"
   ]
  },
  {
   "cell_type": "code",
   "execution_count": null,
   "id": "342ad0cf",
   "metadata": {},
   "outputs": [],
   "source": [
    "word = 'Python'\n",
    "\n",
    "word[0]        # 첫 번째 문자\n",
    "word[5]        # 마지막 문자\n",
    "word[-1]       # 마지막 문자 (역방향 인덱스)\n",
    "word[-6]       # 첫 번째 문자 (역방향 인덱스)\n",
    "\n",
    "word[0:2]      # 0번째부터 1번째까지\n",
    "word[2:5]      # 2번째부터 4번째까지\n",
    "word[:2]       # 처음부터 1번째까지\n",
    "word[4:]       # 4번째부터 끝까지\n",
    "word[-2:]      # 뒤에서 두 번째부터 끝까지\n",
    "\n",
    "word[:2] + word[2:]  #붙여쓰기 원래 문자열과 동일\n",
    "\n",
    "#word[42]       # 인덱스 범위 초과 오류\n",
    "word[4:42]     # 4번째부터 끝까지 (범위를 넘어가도 에러 아님)\n",
    "word[42:]      # 빈 문자열 (범위를 넘어가면 빈 문자열 반환)\n",
    "\n",
    "#word[0] = 'J'  # 문자열은 변경 불가\n"
   ]
  },
  {
   "cell_type": "markdown",
   "id": "8881f187",
   "metadata": {},
   "source": [
    "word = 'Python'\n",
    "\n",
    "word[0]\n",
    "> 'P'\n",
    "\n",
    "word[5]\n",
    "> 'n'\n",
    "\n",
    "word[-1]\n",
    "> 'n'\n",
    "\n",
    "word[-6]\n",
    "> 'P'\n",
    "\n",
    "word[0:2]\n",
    "> 'Py'\n",
    "\n",
    "word[2:5]\n",
    "> 'tho'\n",
    "\n",
    "word[:2]\n",
    "> 'Py'\n",
    "\n",
    "word[4:]\n",
    "> 'on'\n",
    "\n",
    "word[-2:]\n",
    "> 'on'\n",
    "\n",
    "word[:2] + word[2:]\n",
    "> 'Python'\n",
    "\n",
    "word[4:42]\n",
    "> 'on'\n",
    "\n",
    "word[42:]\n",
    "> ''\n"
   ]
  },
  {
   "cell_type": "code",
   "execution_count": null,
   "id": "46cb1f28",
   "metadata": {},
   "outputs": [],
   "source": [
    "word = 'Python'                 # 원래 문자열\n",
    "word2 = 'J' + word[1:]          # 첫 글자를 'J'로 바꾸고 나머지 글자는 그대로 붙임\n",
    "word2                           # 결과 확인"
   ]
  },
  {
   "cell_type": "markdown",
   "id": "f1d9ea21",
   "metadata": {},
   "source": [
    "word = 'Python'   \n",
    "word2 = 'J' + word[1:]   \n",
    "\n",
    "word2\n",
    "> 'Jython'\n"
   ]
  },
  {
   "cell_type": "code",
   "execution_count": null,
   "id": "0de2ebd1",
   "metadata": {},
   "outputs": [],
   "source": [
    "s = 'smiles'       # 문자열 'smiles'를 변수 s에 저장\n",
    "len(s)             # 문자열 s길이 출력"
   ]
  },
  {
   "cell_type": "markdown",
   "id": "28f9f45c",
   "metadata": {},
   "source": [
    "s = 'smiles'\n",
    "\n",
    "len(s)\n",
    "> 6\n"
   ]
  },
  {
   "cell_type": "code",
   "execution_count": null,
   "id": "3de5317a",
   "metadata": {},
   "outputs": [],
   "source": [
    "outStr = \"\"                        # 결과를 저장할 빈 문자열\n",
    "count, i = 0, 0                     # 문자열 길이와 변수 초기화\n",
    "inStr = input(\"Type string : \")     # 사용자로부터 문자열 입력\n",
    "count = len(inStr)                  # 입력 문자열의 길이를 구함\n",
    "for i in range(0, count) :          # 문자열 길이만큼 반복\n",
    "    outStr += inStr[count - (i + 1)] # 마지막 문자부터 첫 문자까지 차례대로 outStr에 추가\n",
    "print(\"Reversed string : %s\" % outStr)  # 뒤집힌 문자열 출력"
   ]
  },
  {
   "cell_type": "markdown",
   "id": "e90a7135",
   "metadata": {},
   "source": [
    "outStr = \"\"    \n",
    "count, i = 0, 0  \n",
    "\n",
    "inStr = input(\"Type string : \")\n",
    "> Type string : hello\n",
    "\n",
    "count = len(inStr)   \n",
    "for i in range(0, count) :   \n",
    "    outStr += inStr[count - (i + 1)]\n",
    "    \n",
    "print(\"Reversed string : %s\" % outStr)\n",
    "> Reversed string : olleh\n"
   ]
  },
  {
   "cell_type": "code",
   "execution_count": null,
   "id": "a098baf7",
   "metadata": {},
   "outputs": [],
   "source": [
    "'a' in 'cat'        # 'cat' 문자열에 'a'가 포함되어 있는지 확인 \n",
    "'a' not in 'can'    # 'can' 문자열에 'a'가 포함되어 있지 않은지 확인 "
   ]
  },
  {
   "cell_type": "markdown",
   "id": "c4d32cd2",
   "metadata": {},
   "source": [
    "'a' in 'cat'\n",
    "> True\n",
    "\n",
    "'a' not in 'can'\n",
    "> False\n"
   ]
  },
  {
   "cell_type": "markdown",
   "id": "d7e2dfd2",
   "metadata": {},
   "source": [
    "#### 문자열 처리 메소드"
   ]
  },
  {
   "cell_type": "code",
   "execution_count": null,
   "id": "2ab52c91",
   "metadata": {},
   "outputs": [],
   "source": [
    "'123'.isdigit()         # 문자열이 숫자로만 구성되어 있는지 확인 \n",
    "'abcABC'.isalpha()      # 문자열이 알파벳 문자로만 구성되어 있는지 확인 \n",
    "'Ab122'.isalnum()       # 문자열이 문자와 숫자의 혼합인지 확인 \n",
    "'AB'.isupper()          # 문자열이 모두 대문자인지 확인 \n",
    "'ab'.islower()          # 문자열이 모두 소문자인지 확인 \n",
    "' '.isspace()           # 문자열이 공백문자인지 확인 \n",
    "\n",
    "str = 'Python programming is easy!'  # 문자열 변수 선언\n",
    "\n",
    "str.upper()              # 모든 문자를 대문자로 변환\n",
    "str.lower()              # 모든 문자를 소문자로 변환\n",
    "str.swapcase()           # 대문자는 소문자로, 소문자는 대문자로 변환\n",
    "str.title()              # 각 단어의 첫 글자를 대문자로 변환"
   ]
  },
  {
   "cell_type": "markdown",
   "id": "50600b8c",
   "metadata": {},
   "source": [
    "'123'.isdigit()\n",
    "> True\n",
    "\n",
    "'abcABC'.isalpha()\n",
    "> True\n",
    "\n",
    "'Ab122'.isalnum()\n",
    "> True\n",
    "\n",
    "'AB'.isupper()\n",
    "> True\n",
    "\n",
    "'ab'.islower()\n",
    "> True\n",
    "\n",
    "' '.isspace()\n",
    "> True\n",
    "\n",
    "str = 'Python programming is easy!'\n",
    "\n",
    "str.upper()\n",
    "> 'PYTHON PROGRAMMING IS EASY!'\n",
    "\n",
    "str.lower()\n",
    "> 'python programming is easy!'\n",
    "\n",
    "str.swapcase()\n",
    "> 'pYTHON PROGRAMMING IS EASY!'\n",
    "\n",
    "str.title()\n",
    "> 'Python Programming Is Easy!'\n"
   ]
  },
  {
   "cell_type": "code",
   "execution_count": null,
   "id": "7965b10d",
   "metadata": {},
   "outputs": [],
   "source": [
    "str = 'Python programming is easy!'  # 문자열 변수 선언\n",
    "str.count('i')        # 문자열에서 'i' 문자가 몇 번 등장하는지 반환 \n",
    "str.find('o')         # 문자열에서 'o'가 처음 등장하는 위치 반환 없으면 -1\n",
    "str.rfind('o')        # 문자열에서 'o'가 마지막으로 등장하는 위치 반환 \n",
    "str.index('on')       # 문자열에서 'on'이 처음 등장하는 위치 반환 없으면 ValueError"
   ]
  },
  {
   "cell_type": "markdown",
   "id": "4360780a",
   "metadata": {},
   "source": [
    "str = 'Python programming is easy!'\n",
    "\n",
    "str.count('i')\n",
    "> 2\n",
    "\n",
    "str.find('o')\n",
    "> 4\n",
    "\n",
    "str.rfind('o')\n",
    "> 9\n",
    "\n",
    "str.index('on')\n",
    "> 4\n"
   ]
  },
  {
   "cell_type": "code",
   "execution_count": null,
   "id": "2cda3f37",
   "metadata": {},
   "outputs": [],
   "source": [
    "x = 'a bc'        # 문자열 변수 선언\n",
    "x.split()         # 공백을 기준으로 문자열을 분리 \n",
    "x.split('b')      # 'b' 문자를 기준으로 문자열을 분리"
   ]
  },
  {
   "cell_type": "markdown",
   "id": "bd6eb2b8",
   "metadata": {},
   "source": [
    "x = 'a bc'  \n",
    "\n",
    "x.split()\n",
    "> ['a', 'bc']\n",
    "\n",
    "x.split('b')\n",
    "> ['a ', 'c']  \n"
   ]
  },
  {
   "cell_type": "code",
   "execution_count": null,
   "id": "74104d31",
   "metadata": {},
   "outputs": [],
   "source": [
    "str = ' hello '      # 문자열 변수 선언 \n",
    "str.strip()          # 양쪽 공백 제거 \n",
    "str                  # 원래 문자열은 변하지 않음 \n",
    "str.rstrip()         # 오른쪽 공백 제거 \n",
    "str.lstrip()         # 왼쪽 공백 제거 "
   ]
  },
  {
   "cell_type": "markdown",
   "id": "0e8fe994",
   "metadata": {},
   "source": [
    "str = ' hello '\n",
    "\n",
    "str.strip()\n",
    "> 'hello'\n",
    "\n",
    "str\n",
    "> ' hello '\n",
    "\n",
    "str.rstrip()\n",
    "> ' hello'\n",
    "\n",
    "str.lstrip()\n",
    "> 'hello '\n"
   ]
  },
  {
   "cell_type": "code",
   "execution_count": null,
   "id": "32e28da5",
   "metadata": {},
   "outputs": [],
   "source": [
    "'*'.join('hello')    # '*' 문자를 사용해 문자열의 각 문자를 연결 \n",
    "'12'.zfill(5)        # 문자열 '12' 왼쪽을 0으로 채워 5자리로 만듦 \n",
    "'he'.rjust(5)        # 5자리 공간에서 오른쪽 정렬 \n",
    "'he'.ljust(5)        # 5자리 공간에서 왼쪽 정렬 \n",
    "'he'.center(5)       # 5자리 공간에서 가운데 정렬 "
   ]
  },
  {
   "cell_type": "markdown",
   "id": "496fbc4d",
   "metadata": {},
   "source": [
    "'*'.join('hello')\n",
    "> 'h*e*l*l*o'\n",
    "\n",
    "'12'.zfill(5)\n",
    "> '00012'\n",
    "\n",
    "'he'.rjust(5)\n",
    "> '   he'\n",
    "\n",
    "'he'.ljust(5)\n",
    "> 'he   '\n",
    "\n",
    "'he'.center(5)\n",
    "> ' he '\n"
   ]
  },
  {
   "cell_type": "markdown",
   "id": "152cb69f",
   "metadata": {},
   "source": [
    "#### 리스트"
   ]
  },
  {
   "cell_type": "code",
   "execution_count": null,
   "id": "fc68124d",
   "metadata": {},
   "outputs": [],
   "source": [
    "odd = [1, 3, 5, 7, 9]          # 리스트 생성\n",
    "squares = [1, 4, 9, 16, 25]    # 정수 리스트 생성\n",
    "squares                          # 리스트 내용 확인\n",
    "empty = []                      # 공백 리스트 생성\n",
    "empty                          # 빈 리스트 출력\n",
    "a = [1, 'hello', 2, 'world', 1.23]  # 정수, 문자열, 실수 혼합 리스트 "
   ]
  },
  {
   "cell_type": "markdown",
   "id": "1a9e95e2",
   "metadata": {},
   "source": [
    "odd = [1, 3, 5, 7, 9]\n",
    "> [1, 3, 5, 7, 9]\n",
    "\n",
    "squares = [1, 4, 9, 16, 25]   \n",
    "squares\n",
    "> [1, 4, 9, 16, 25]\n",
    "\n",
    "empty = []   \n",
    "empty\n",
    "> []\n",
    "\n",
    "a = [1, 'hello', 2, 'world', 1.23]\n",
    "> [1, 'hello', 2, 'world', 1.23]\n"
   ]
  },
  {
   "cell_type": "code",
   "execution_count": null,
   "id": "35211ce1",
   "metadata": {},
   "outputs": [],
   "source": [
    "squares = [1, 4, 9, 16, 25]      # 리스트 생성\n",
    "squares[0]                       # 첫 번째 요소 \n",
    "squares[-1]                      # 마지막 요소 추출\n",
    "squares[0:3]                     # 0번째부터 2번째까지 슬라이싱\n",
    "squares[-3:]                     # 뒤에서 세 번째 요소부터 끝까지 슬라이싱"
   ]
  },
  {
   "cell_type": "markdown",
   "id": "55a10783",
   "metadata": {},
   "source": [
    "squares = [1, 4, 9, 16, 25]\n",
    "\n",
    "squares[0]\n",
    "> 1\n",
    "\n",
    "squares[-1]\n",
    "> 25\n",
    "\n",
    "squares[0:3]\n",
    "> [1, 4, 9]\n",
    "\n",
    "squares[-3:]\n",
    "> [9, 16, 25]\n"
   ]
  },
  {
   "cell_type": "code",
   "execution_count": null,
   "id": "6dc11833",
   "metadata": {},
   "outputs": [],
   "source": [
    "squares + [36, 49, 64, 81, 100]    # 기존 리스트에 새 리스트를 더하여 합치기\n",
    "a = [1, 2, 3]                      \n",
    "b = [4, 5, 6]\n",
    "a + b                               # 두 리스트를 더해 하나의 리스트로 합치기"
   ]
  },
  {
   "cell_type": "markdown",
   "id": "765dc85d",
   "metadata": {},
   "source": [
    "squares + [36, 49, 64, 81, 100]  \n",
    "> [1, 4, 9, 16, 25, 36, 49, 64, 81, 100]\n",
    "\n",
    "a = [1, 2, 3]   \n",
    "b = [4, 5, 6]   \n",
    "a + b  \n",
    "> [1, 2, 3, 4, 5, 6]\n"
   ]
  },
  {
   "cell_type": "code",
   "execution_count": null,
   "id": "0e240d68",
   "metadata": {},
   "outputs": [],
   "source": [
    "cubes = [1, 8, 27, 65, 125]  # 세제곱수 초기화\n",
    "4 ** 3                        # 4의 세제곱 계산\n",
    "cubes[3] = 64                # 인덱스 3의 요소를 64로 수정\n",
    "cubes                         # 수정된 리스트 확인\n",
    "cubes.append(216)             # 리스트 마지막에 216 추가\n",
    "cubes.append(7 ** 3)          # 리스트 마지막에 7의 세제곱(343) 추가\n",
    "cubes                         # 최종 리스트 확인"
   ]
  },
  {
   "cell_type": "markdown",
   "id": "1dc2c66f",
   "metadata": {},
   "source": [
    "cubes = [1, 8, 27, 65, 125]  \n",
    "4 ** 3                        \n",
    "> 64\n",
    "\n",
    "cubes[3] = 64                \n",
    "cubes\n",
    "> [1, 8, 27, 64, 125]\n",
    "\n",
    "cubes.append(216)             \n",
    "cubes.append(7 ** 3)         \n",
    "cubes\n",
    "> [1, 8, 27, 64, 125, 216, 343]\n"
   ]
  },
  {
   "cell_type": "code",
   "execution_count": null,
   "id": "563b34d8",
   "metadata": {},
   "outputs": [],
   "source": [
    "letters = ['a', 'b', 'c', 'd', 'e', 'f', 'g']  # 초기 리스트\n",
    "letters                                        # 리스트 확인\n",
    "letters[2:5] = ['C', 'D', 'E']                 # 인덱스 2~4 요소를 새 값으로 수정\n",
    "letters                                        # 수정된 리스트 확인\n",
    "letters[2:5] = []                              # 인덱스 2~4 요소 제거\n",
    "letters                                        # 제거 후 리스트 확인\n",
    "letters[:] = []                                # 리스트의 모든 요소 제거\n",
    "letters                                        # 최종 빈 리스트 확인"
   ]
  },
  {
   "cell_type": "markdown",
   "id": "42ae6e95",
   "metadata": {},
   "source": [
    "letters = ['a', 'b', 'c', 'd', 'e', 'f', 'g']   \n",
    "letters\n",
    "> ['a', 'b', 'c', 'd', 'e', 'f', 'g']\n",
    "\n",
    "letters[2:5] = ['C', 'D', 'E']   \n",
    "letters\n",
    "> ['a', 'b', 'C', 'D', 'E', 'f', 'g']\n",
    "\n",
    "letters[2:5] = []   \n",
    "letters\n",
    "> ['a', 'b', 'f', 'g']\n",
    "\n",
    "letters[:] = []   \n",
    "letters\n",
    "> []\n"
   ]
  },
  {
   "cell_type": "code",
   "execution_count": null,
   "id": "62b74485",
   "metadata": {},
   "outputs": [],
   "source": [
    "a = ['a', 'b', 'c']          # 첫 번째 리스트\n",
    "n = [1, 2, 3]                # 두 번째 리스트\n",
    "x = [a, n]                   # 리스트 안에 리스트를 포함 \n",
    "x                            # 중첩 리스트 확인\n",
    "x[0]                         # 첫 번째 리스트 요소 확인\n",
    "x[0][1]                      # 첫 번째 리스트의 두 번째 요소 확인 "
   ]
  },
  {
   "cell_type": "markdown",
   "id": "0b8d93fa",
   "metadata": {},
   "source": [
    "a = ['a', 'b', 'c']   \n",
    "n = [1, 2, 3]   \n",
    "x = [a, n]   \n",
    "\n",
    "x\n",
    "> [['a', 'b', 'c'], [1, 2, 3]]\n",
    "\n",
    "x[0]\n",
    "> ['a', 'b', 'c']\n",
    "\n",
    "x[0][1]\n",
    "> 'b'\n"
   ]
  },
  {
   "cell_type": "code",
   "execution_count": null,
   "id": "93bd57b1",
   "metadata": {},
   "outputs": [],
   "source": [
    "list2d = [[1,2,3],       # 2차원 배열\n",
    "          [4,5,6],\n",
    "          [7,8,9]]\n",
    "\n",
    "list2d[0][0]             # 첫 번째 행, 첫 번째 열 \n",
    "list2d[2][2]             # 세 번째 행, 세 번째 열 "
   ]
  },
  {
   "cell_type": "markdown",
   "id": "63f37d3b",
   "metadata": {},
   "source": [
    "list2d = [[1,2,3],    \n",
    "          [4,5,6],   \n",
    "          [7,8,9]]   \n",
    "\n",
    "list2d[0][0]\n",
    "> 1\n",
    "\n",
    "list2d[2][2]\n",
    "> 9\n"
   ]
  },
  {
   "cell_type": "code",
   "execution_count": null,
   "id": "981b0e36",
   "metadata": {},
   "outputs": [],
   "source": [
    "letters = ['a', 'b', 'c', 'd']   # 리스트 생성\n",
    "len(letters)                     # 리스트 길이 \n",
    "num = [1, 2, 3, 4, 5]            # 숫자 리스트\n",
    "sum(num)                         # 합계 \n",
    "min(num)                         # 최소값 \n",
    "max(num)                         # 최대값 "
   ]
  },
  {
   "cell_type": "markdown",
   "id": "2ea99c87",
   "metadata": {},
   "source": [
    "letters = ['a', 'b', 'c', 'd']   \n",
    "len(letters)\n",
    "> 4\n",
    "\n",
    "num = [1, 2, 3, 4, 5]   \n",
    "\n",
    "sum(num)\n",
    "> 15\n",
    "\n",
    "min(num)\n",
    "> 1\n",
    "\n",
    "max(num)\n",
    "> 5\n"
   ]
  },
  {
   "cell_type": "markdown",
   "id": "80230664",
   "metadata": {},
   "source": [
    "#### 리스트 메소드"
   ]
  },
  {
   "cell_type": "code",
   "execution_count": 7,
   "id": "a74d3074",
   "metadata": {},
   "outputs": [
    {
     "name": "stdout",
     "output_type": "stream",
     "text": [
      "Help on method_descriptor:\n",
      "\n",
      "sort(self, /, *, key=None, reverse=False) unbound builtins.list method\n",
      "    Sort the list in ascending order and return None.\n",
      "\n",
      "    The sort is in-place (i.e. the list itself is modified) and stable (i.e. the\n",
      "    order of two equal elements is maintained).\n",
      "\n",
      "    If a key function is given, apply it once to each list item and sort them,\n",
      "    ascending or descending, according to their function values.\n",
      "\n",
      "    The reverse flag can be set to sort in descending order.\n",
      "\n"
     ]
    }
   ],
   "source": [
    "help(list.sort)"
   ]
  },
  {
   "cell_type": "code",
   "execution_count": null,
   "id": "c0bf760b",
   "metadata": {},
   "outputs": [],
   "source": [
    "cars = ['taxi', 'sedan', 'bus', 'truck']\n",
    "cars.sort()                       # 오름차순 정렬\n",
    "print(cars)                       # 정렬된 cars 출력\n",
    "cars.sort(reverse=True)           # 내림차순 정렬\n",
    "print(cars)                       # 정렬된 cars 출력\n",
    "print(\"Here is the original list:\")  \n",
    "print(cars)                       # 정렬된 리스트 그대로 출력\n",
    "print(\"\\nHere is the sorted list:\")  \n",
    "print(sorted(cars))               # 오름차순 정렬된 새 리스트 반환\n",
    "print(\"\\nHere is the original list again:\")  \n",
    "print(cars)                       # 원래 리스트는 여전히 내림차순 상태 출력"
   ]
  },
  {
   "cell_type": "markdown",
   "id": "58802bda",
   "metadata": {},
   "source": [
    "cars = ['taxi', 'sedan', 'bus', 'truck']   \n",
    "cars.sort()   \n",
    "\n",
    "print(cars)\n",
    "> ['bus', 'sedan', 'taxi', 'truck']\n",
    "\n",
    "cars.sort(reverse=True)   \n",
    "print(cars)   \n",
    "> ['truck', 'taxi', 'sedan', 'bus']\n",
    "\n",
    "print(\"Here is the original list:\")   \n",
    "\n",
    "> Here is the original list:   \n",
    "\n",
    "print(cars)\n",
    "> ['truck', 'taxi', 'sedan', 'bus']\n",
    "\n",
    "print(\"\\nHere is the sorted list:\")\n",
    "> Here is the sorted list:\n",
    "\n",
    "print(sorted(cars))\n",
    "> ['bus', 'sedan', 'taxi', 'truck']\n",
    "\n",
    "print(\"\\nHere is the original list again:\")\n",
    "> Here is the original list again:\n",
    "\n",
    "print(cars)\n",
    "> ['truck', 'taxi', 'sedan', 'bus']\n"
   ]
  },
  {
   "cell_type": "code",
   "execution_count": null,
   "id": "62effa4c",
   "metadata": {},
   "outputs": [],
   "source": [
    "cars = ['taxi', 'sedan', 'bus', 'truck ']\n",
    "\n",
    "print(cars)                # 원래 리스트 출력\n",
    "# ['taxi', 'sedan', 'bus', 'truck ']\n",
    "\n",
    "cars.reverse()             # 리스트 요소 순서를 거꾸로 뒤집기\n",
    "print(cars)                # ['truck ', 'bus', 'sedan', 'taxi']\n",
    "\n",
    "motorcycles = ['honda', 'yamaha', 'suzuki']\n",
    "\n",
    "# motorcycles[3]은 존재하지 않음 (인덱스 0~2까지만 있음)\n",
    "# 따라서 IndexError 발생\n",
    "print(motorcycles[3])      \n"
   ]
  },
  {
   "cell_type": "markdown",
   "id": "61cc8623",
   "metadata": {},
   "source": [
    "cars = ['taxi', 'sedan', 'bus', 'truck ']\n",
    "print(cars)\n",
    "> ['taxi', 'sedan', 'bus', 'truck ']\n",
    "\n",
    "cars.reverse()\n",
    "print(cars)\n",
    "> ['truck ', 'bus', 'sedan', 'taxi']\n",
    "\n",
    "motorcycles = ['honda', 'yamaha', 'suzuki']\n",
    "print(motorcycles[3])\n",
    "> Traceback (most recent call last):   \n",
    ">   File \"motorcycles.py\", line 3, in <module>   \n",
    ">     print(motorcycles[3])   \n",
    "> IndexError: list index out of range\n"
   ]
  },
  {
   "cell_type": "code",
   "execution_count": null,
   "id": "8cea7030",
   "metadata": {},
   "outputs": [],
   "source": [
    "# a 원소의 3배수로 구성되는 리스트 생성\n",
    "a = [1, 2, 3, 4]\n",
    "result = [num*3 for num in a]     \n",
    "print(result)  # [3, 6, 9, 12]\n",
    "\n",
    "# a의 원소 중 짝수만 골라 3배수로 구성되는 리스트 생성\n",
    "result = [num*3 for num in a if num % 2 == 0]\n",
    "print(result)  # [6, 12]\n",
    "\n",
    "# range(0~9)에서 짝수는 2배, 홀수는 제곱으로 처리\n",
    "result = [i*2 if i%2 == 0 else i**2 for i in range(10)]\n",
    "print(result)  # [0, 1, 4, 9, 8, 25, 12, 49, 16, 81]"
   ]
  },
  {
   "cell_type": "markdown",
   "id": "9e95f842",
   "metadata": {},
   "source": [
    "a = [1, 2, 3, 4]   \n",
    "result = [num*3 for num in a]   \n",
    "print(result)\n",
    "> [3, 6, 9, 12]\n",
    "\n",
    "result = [num*3 for num in a if num % 2 == 0]   \n",
    "print(result)   \n",
    "> [6, 12]\n",
    "\n",
    "result = [i*2 if i%2 == 0 else i**2 for i in range(10)]   \n",
    "print(result)   \n",
    "> [0, 1, 4, 9, 8, 25, 12, 49, 16, 81]\n"
   ]
  },
  {
   "cell_type": "markdown",
   "id": "e32886dd",
   "metadata": {},
   "source": [
    "#### 튜플(tuple)"
   ]
  },
  {
   "cell_type": "code",
   "execution_count": null,
   "id": "d332d8a1",
   "metadata": {},
   "outputs": [],
   "source": [
    "t1 = (1,2,3)        # () 안에 요소를 나열하여 튜플 생성\n",
    "t1                  # (1, 2, 3)\n",
    "t2 = 1,2,3          # 괄호 없이 나열해도 튜플 생성 (패킹)\n",
    "t2                  # (1, 2, 3)\n",
    "t3 = 1,             # 요소가 하나뿐인 튜플 (쉼표 반드시 필요)\n",
    "t3                  # (1,)\n",
    "t4 = tuple()        # 빈 튜플 생성\n",
    "t4                  # ()"
   ]
  },
  {
   "cell_type": "markdown",
   "id": "b1f5a125",
   "metadata": {},
   "source": [
    "t1 = (1,2,3)   \n",
    "t1\n",
    "> (1, 2, 3)\n",
    "\n",
    "t2 = 1,2,3   \n",
    "t2\n",
    "> (1, 2, 3)\n",
    "\n",
    "t3 = 1,   \n",
    "t3\n",
    "> (1,)\n",
    "\n",
    "t4 = tuple()   \n",
    "t4\n",
    "> ()\n"
   ]
  },
  {
   "cell_type": "code",
   "execution_count": null,
   "id": "fdc8013d",
   "metadata": {},
   "outputs": [],
   "source": [
    "t1 = (1,2,3)\n",
    "t1[1]              # 인덱스 1번 요소 추출\n",
    "t1[1:3]            # 인덱스 1~2 범위 추출\n",
    "\n",
    "t1 = (1,2,3)\n",
    "t2 = ('a','b')\n",
    "t1 + t2            # 두 튜플을 하나로 합치기\n",
    "t1 * 2             # 같은 튜플을 두 번 반복"
   ]
  },
  {
   "cell_type": "markdown",
   "id": "20669537",
   "metadata": {},
   "source": [
    "t1 = (1,2,3)   \n",
    "t1[1]\n",
    "> 2\n",
    "\n",
    "t1[1:3]   \n",
    "> (2, 3)\n",
    "\n",
    "t1 = (1,2,3)   \n",
    "t2 = ('a','b')   \n",
    "t1 + t2   \n",
    "> (1, 2, 3, 'a', 'b')\n",
    "\n",
    "t1 * 2   \n",
    "> (1, 2, 3, 1, 2, 3)\n"
   ]
  },
  {
   "cell_type": "code",
   "execution_count": null,
   "id": "64196b41",
   "metadata": {},
   "outputs": [],
   "source": [
    "T1 = (1,2,3)           # 튜플 생성\n",
    "L1 = list(T1)          # 튜플을 리스트로 변환\n",
    "L1.append(4)           # 리스트에 요소 4 추가\n",
    "T1 = tuple(L1)         # 리스트를 다시 튜플로 변환\n",
    "T1                     # 결과 확인\n",
    "\n",
    "a, b, c = (1, 2, 3)    # 튜플 언패킹: 각 요소를 변수에 할당\n",
    "a                      # 1\n",
    "b                      # 2\n",
    "c                      # 3"
   ]
  },
  {
   "cell_type": "markdown",
   "id": "f38641a9",
   "metadata": {},
   "source": [
    "T1 = (1,2,3)   \n",
    "L1 = list(T1)   \n",
    "L1.append(4)   \n",
    "T1 = tuple(L1)   \n",
    "T1\n",
    "> (1, 2, 3, 4)\n",
    "\n",
    "a, b, c = (1, 2, 3)   \n",
    "a\n",
    "> 1\n",
    "b\n",
    "> 2\n",
    "c\n",
    "> 3\n"
   ]
  },
  {
   "cell_type": "markdown",
   "id": "7e87ec1b",
   "metadata": {},
   "source": [
    "#### 딕셔너리(dictionary)"
   ]
  },
  {
   "cell_type": "code",
   "execution_count": null,
   "id": "05b6cb3f",
   "metadata": {},
   "outputs": [],
   "source": [
    "height = {'Jun':174, 'Kim':170, 'Lee':165}   # key: 값 쌍으로 딕셔너리 생성\n",
    "height                                        # 딕셔너리 출력\n",
    "\n",
    "test = dict()                                 # 빈 딕셔너리 생성\n",
    "test                                          # {}\n",
    "\n",
    "height['Kim']                                 # key 'Kim'의 값 조회"
   ]
  },
  {
   "cell_type": "markdown",
   "id": "c7541faa",
   "metadata": {},
   "source": [
    "height = {'Jun':174, 'Kim':170, 'Lee':165}   \n",
    "height\n",
    "> {'Jun': 174, 'Kim': 170, 'Lee': 165}\n",
    "\n",
    "test = dict()   \n",
    "test\n",
    "> {}\n",
    "\n",
    "height['Kim']\n",
    "> 170\n"
   ]
  },
  {
   "cell_type": "code",
   "execution_count": null,
   "id": "ad9645e3",
   "metadata": {},
   "outputs": [],
   "source": [
    "height = {'Jun':174, 'Kim':170, 'Lee':165}    # 딕셔너리 생성\n",
    "'Kim' in height                               # key 'Kim'이 있는지 확인\n",
    "\n",
    "height['Lee'] = 180                            # key 'Lee' 값 수정\n",
    "height                                         # 딕셔너리 출력\n",
    "\n",
    "height['Ihm'] = 168                            # 새로운 key 'Ihm' 값 추가\n",
    "height                                         # 딕셔너리 출력\n"
   ]
  },
  {
   "cell_type": "markdown",
   "id": "14004f49",
   "metadata": {},
   "source": [
    "height = {'Jun':174, 'Kim':170, 'Lee':165}   \n",
    "'Kim' in height\n",
    "> True\n",
    "\n",
    "height['Lee'] = 180   \n",
    "height\n",
    "> {'Jun': 174, 'Kim': 170, 'Lee': 180}\n",
    "\n",
    "height['Ihm'] = 168   \n",
    "height\n",
    "> {'Jun': 174, 'Kim': 170, 'Lee': 180, 'Ihm': 168}\n"
   ]
  },
  {
   "cell_type": "code",
   "execution_count": null,
   "id": "fb88af3b",
   "metadata": {},
   "outputs": [],
   "source": [
    "height.keys()                           # 딕셔너리의 모든 key 추출\n",
    "\n",
    "height.values()                         # 딕셔너리의 모든 value 추출\n",
    "\n",
    "height.items()                          # 딕셔너리의 (key, value) 튜플 추출\n",
    "\n",
    "dict_keys = height.keys()                # keys 추출\n",
    "keys_list = list(dict_keys)             # keys를 리스트로 변환\n",
    "keys_list"
   ]
  },
  {
   "cell_type": "markdown",
   "id": "242c85ee",
   "metadata": {},
   "source": [
    "height.keys()\n",
    "> dict_keys(['Jun', 'Kim', 'Lee', 'Ihm'])\n",
    "\n",
    "height.values()\n",
    "> dict_values([174, 170, 165, 168])\n",
    "\n",
    "height.items()\n",
    "> dict_items([('Jun', 174), ('Kim', 170), ('Lee', 165), ('Ihm', 168)])\n",
    "\n",
    "dict_keys = height.keys()   \n",
    "keys_list = list(dict_keys)   \n",
    "keys_list\n",
    "> ['Jun', 'Kim', 'Lee', 'Ihm']\n"
   ]
  },
  {
   "cell_type": "code",
   "execution_count": null,
   "id": "d39e1efa",
   "metadata": {},
   "outputs": [],
   "source": [
    "height.pop('Ihm')              # key 'Ihm'에 해당하는 요소 제거, 제거된 value 반환\n",
    "\n",
    "height                         # 'Ihm' 제거 후 딕셔너리 확인\n",
    "\n",
    "height.clear()                  # 딕셔너리의 모든 요소 제거\n",
    "height\n"
   ]
  },
  {
   "cell_type": "markdown",
   "id": "a81f16ff",
   "metadata": {},
   "source": [
    "height.pop('Ihm')\n",
    "> 168\n",
    "\n",
    "height\n",
    "> {'Jun': 174, 'Kim': 170, 'Lee': 165}\n",
    "\n",
    "height.clear()   \n",
    "height\n",
    "> {}\n"
   ]
  },
  {
   "cell_type": "markdown",
   "id": "42ffcb0a",
   "metadata": {},
   "source": [
    "#### 집합(set)"
   ]
  },
  {
   "cell_type": "code",
   "execution_count": null,
   "id": "d8f89850",
   "metadata": {},
   "outputs": [],
   "source": [
    "numbers = {1,2,3}                       # 집합 생성\n",
    "name = set(['Kim', 'Lee', 'Park'])      # 리스트로부터 집합 생성\n",
    "empty = set()                            # 빈 집합 생성\n",
    "\n",
    "len(numbers)                             # 집합 요소 개수 확인\n",
    "\n",
    "numbers.add(4)                           # 요소 추가\n",
    "numbers\n",
    "\n",
    "numbers.remove(4)                        # 요소 제거\n",
    "numbers"
   ]
  },
  {
   "cell_type": "markdown",
   "id": "4abed343",
   "metadata": {},
   "source": [
    "numbers = {1,2,3}   \n",
    "name = set(['Kim', 'Lee', 'Park'])   \n",
    "empty = set()\n",
    "\n",
    "len(numbers)\n",
    "> 3\n",
    "\n",
    "numbers.add(4)   \n",
    "numbers\n",
    "> {1, 2, 3, 4}\n",
    "\n",
    "numbers.remove(4)   \n",
    "numbers\n",
    "> {1, 2, 3}\n"
   ]
  },
  {
   "cell_type": "code",
   "execution_count": null,
   "id": "1de5afb7",
   "metadata": {},
   "outputs": [],
   "source": [
    "setA = {1, 2, 3}\n",
    "setB = {1, 2, 3}\n",
    "setA == setB                        # 두 집합이 같은가?\n",
    "\n",
    "setA = {1, 2, 3, 4, 5, 6}\n",
    "setB = {1, 2, 3}\n",
    "setB < setA                         # setB가 setA의 부분집합인가?\n",
    "\n",
    "setB.issubset(setA)                 # 부분집합 여부 확인"
   ]
  },
  {
   "cell_type": "markdown",
   "id": "139965c7",
   "metadata": {},
   "source": [
    "setA = {1, 2, 3}   \n",
    "setB = {1, 2, 3}   \n",
    "setA == setB\n",
    "> True\n",
    "\n",
    "setA = {1, 2, 3, 4, 5, 6}   \n",
    "setB = {1, 2, 3}   \n",
    "setB < setA\n",
    "> True\n",
    "\n",
    "setB.issubset(setA)   \n",
    "> True\n"
   ]
  }
 ],
 "metadata": {
  "kernelspec": {
   "display_name": "Python 3",
   "language": "python",
   "name": "python3"
  },
  "language_info": {
   "codemirror_mode": {
    "name": "ipython",
    "version": 3
   },
   "file_extension": ".py",
   "mimetype": "text/x-python",
   "name": "python",
   "nbconvert_exporter": "python",
   "pygments_lexer": "ipython3",
   "version": "3.12.9"
  }
 },
 "nbformat": 4,
 "nbformat_minor": 5
}
