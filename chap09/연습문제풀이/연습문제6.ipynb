{
  "cells": [
    {
      "cell_type": "markdown",
      "metadata": {},
      "source": [
        "# 연습문제 6\n",
        "\n",
        "날짜 : 2025 - 10 - 15   \n",
        "저자 : 차일권   \n",
        "학번 : 202111467\n",
        "\n",
        "## 문제\n",
        "\n",
        "간단한 리눅스 명령어를 실습하라.\n"
      ]
    },
    {
      "cell_type": "markdown",
      "metadata": {},
      "source": []
    }
  ],
  "metadata": {
    "language_info": {
      "name": "python"
    }
  },
  "nbformat": 4,
  "nbformat_minor": 2
}
