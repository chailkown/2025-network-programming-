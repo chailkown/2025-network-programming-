{
  "cells": [
    {
      "cell_type": "markdown",
      "metadata": {},
      "source": [
        "# 연습문제 3\n",
        "\n",
        "날짜 : 2025 - 10 - 15   \n",
        "저자 : 차일권   \n",
        "학번 : 202111467\n",
        "\n",
        "## 문제\n",
        "\n",
        "Windows 호스트머신과 Ubuntu 가상머신과 통신이 되는지 확인하라.\n"
      ]
    },
    {
      "cell_type": "markdown",
      "metadata": {},
      "source": []
    }
  ],
  "metadata": {
    "language_info": {
      "name": "python"
    }
  },
  "nbformat": 4,
  "nbformat_minor": 2
}
