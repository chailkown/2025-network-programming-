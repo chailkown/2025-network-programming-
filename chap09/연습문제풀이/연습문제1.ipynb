{
  "cells": [
    {
      "cell_type": "markdown",
      "metadata": {},
      "source": [
        "# 연습문제 1\n",
        "\n",
        "날짜 : 2025 - 10 - 15\n",
        "저자 : 차일권\n",
        "학번 : 202111467\n",
        "\n",
        "## 문제\n",
        "\n",
        "WSL2를 Windows 환경에 설치하고 Ubuntu 최신 버전을 MS Store에서 찾아 설치하라.\n"
      ]
    },
    {
      "cell_type": "markdown",
      "metadata": {},
      "source": [
        "### 1. WSL2 설치 과정\n",
        "![WSL2 설치](1-1.png)\n",
        "\n",
        "### 2. Ubuntu 설치 및 실행\n",
        "![Ubuntu 설치](1-2.png)"
      ]
    }
  ],
  "metadata": {
    "language_info": {
      "name": "python"
    }
  },
  "nbformat": 4,
  "nbformat_minor": 2
}
