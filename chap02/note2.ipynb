{
 "cells": [
  {
   "cell_type": "markdown",
   "id": "432f2b29",
   "metadata": {},
   "source": [
    "## 2장 노트정리\n",
    "\n",
    "이 파일은 2장을 학습한 내용을 정리한 내용입니다.\n",
    "\n",
    "날짜 : 2025 - 09 - 09\n",
    "\n",
    "저자 : 차일권\n",
    "\n",
    "학번 : 202111467"
   ]
  },
  {
   "cell_type": "markdown",
   "id": "ff6aecfd",
   "metadata": {},
   "source": [
    "#### print() 함수-서식지정"
   ]
  },
  {
   "cell_type": "code",
   "execution_count": null,
   "id": "419b42ae",
   "metadata": {},
   "outputs": [
    {
     "name": "stdout",
     "output_type": "stream",
     "text": [
      "30\n",
      "1020\n",
      "abc abc abc \n",
      "n=10\n",
      "m=5.2, n=10\n"
     ]
    }
   ],
   "source": [
    "print(10+20)                     # 숫자 10과 20을 더해서 결과를 출력함\n",
    "print(\"10\"+\"20\")                  # 문자열 10과 20을 이어 붙여서 출력함\n",
    "print(\"abc \" * 3)                 # abc라는 문자열을 3번 반복해서 출력함\n",
    "n = 10; print(\"n=%d\" %n)         # 변수 n에 10을 넣고, n의 값을 출력함\n",
    "m = 5.2; print(\"m=%.1f, n=%d\" %(m,n))  # 변수 m에 5.2를 넣고 소수점 한 자리까지 m과 n을 같이 출력함"
   ]
  },
  {
   "cell_type": "markdown",
   "id": "ee46a21d",
   "metadata": {},
   "source": [
    "#### input() 함수"
   ]
  },
  {
   "cell_type": "code",
   "execution_count": null,
   "id": "532147fd",
   "metadata": {},
   "outputs": [],
   "source": [
    "n = input('type a number : ')      # 사용자에게 숫자를 입력받음, 입력값은 문자열로 저장됨\n",
    "n                               # 입력된 값 확인, 문자열 형태\n",
    "int(n)                              # 문자열을 정수형으로 변환\n",
    "float(n)                            # 문자열을 실수형으로 변환\n",
    "n = str(3)                          # 정수를 문자열로 변환\n",
    "n                                  # 변환된 값 확인"
   ]
  },
  {
   "cell_type": "markdown",
   "id": "3d37872d",
   "metadata": {},
   "source": [
    "n = input('type a number : ')<br>\n",
    ">type a number : 5<br>\n",
    "\n",
    "n<br>\n",
    ">'5'<br>\n",
    "\n",
    "int(n)<br>\n",
    ">5<br>\n",
    "\n",
    "float(n)<br>\n",
    ">5.0<br>\n",
    "\n",
    "n = str(5); n<br>\n",
    ">'5'"
   ]
  },
  {
   "cell_type": "markdown",
   "id": "4a15f64d",
   "metadata": {},
   "source": [
    "#### 입출력 함수의 사용 예시"
   ]
  },
  {
   "cell_type": "code",
   "execution_count": null,
   "id": "172c6b55",
   "metadata": {},
   "outputs": [],
   "source": [
    "name = input('Name: ')               # 사용자에게 이름을 입력받음\n",
    "print(\"Hello,\" + name)               # 입력받은 이름과 함께 인사 출력\n",
    "a = int(input('Number 1: '))        # 첫 번째 정수를 입력받아 a에 저장\n",
    "b = int(input('Number 2: '))        # 두 번째 정수를 입력받아 b에 저장\n",
    "print(a * b)                         # a와 b를 곱한 결과 출력\n",
    "C = float(input(\"Type 섭씨온도 : \")) # 섭씨 온도를 실수로 입력받아 C에 저장\n",
    "F = C*9/5 + 32                        # 섭씨를 화씨로 변환\n",
    "print(\"화씨온도는\", F)               # 변환된 화씨 온도 출력"
   ]
  },
  {
   "cell_type": "markdown",
   "id": "8de3b117",
   "metadata": {},
   "source": [
    "name = input('Name: ') \n",
    ">Name: chailgwon\n",
    "\n",
    "print(\"Hello,\" + name)\n",
    ">Hello,chailgwon\n",
    "\n",
    "a = int(input('Number 1: ')) \n",
    ">Number 1: 10\n",
    "\n",
    "b = int(input('Number 2: '))\n",
    ">Number 2: 20\n",
    "\n",
    "print(a * b)\n",
    ">200\n",
    "\n",
    "C = float(input(\"Type 섭씨온도 : \")) \n",
    ">Type 섭씨온도 : 32\n",
    "\n",
    "F = C*9/5 + 32 ; print(\"화씨온도는\", F)\n",
    ">화씨온도는 89.6"
   ]
  },
  {
   "cell_type": "markdown",
   "id": "bafdfe58",
   "metadata": {},
   "source": [
    "#### 연습문제1\n",
    " 1. 키보드에서임의의두실수를입력받아곱한후그결과를출력하는프로그램을작성하고실행\n",
    "하라"
   ]
  },
  {
   "cell_type": "code",
   "execution_count": null,
   "id": "8e8678c7",
   "metadata": {},
   "outputs": [],
   "source": [
    "x = float(input(\"첫번째 실수를 입력하시오: \"))   # 사용자로부터 첫 번째 실수를 입력받아 x에 저장\n",
    "y = float(input(\"두번째 실수를 입력하시오: \"))   # 사용자로부터 두 번째 실수를 입력받아 y에 저장\n",
    "print(x * y)                                      # x와 y를 곱한 결과를 출력"
   ]
  },
  {
   "cell_type": "markdown",
   "id": "b00425f2",
   "metadata": {},
   "source": [
    "x = float(input(\"첫번쨰 실수를 입력하시오: \"))\n",
    ">첫번쨰 실수를 입력하시오: 20.4\n",
    "\n",
    "y = float(input(\"두번쨰 실수를 입력하시오: \"))\n",
    ">두번쨰 실수를 입력하시오: 30.2\n",
    "\n",
    "print(x * y)\n",
    ">616.0799999999999"
   ]
  },
  {
   "cell_type": "markdown",
   "id": "db453b77",
   "metadata": {},
   "source": [
    "2. 1마일은1.609km이다. 키보드에서마일(정수)을입력받아km로변환해출력하는프로그램을\n",
    "작성하고실행하라"
   ]
  },
  {
   "cell_type": "code",
   "execution_count": null,
   "id": "5c8c0cbe",
   "metadata": {},
   "outputs": [],
   "source": [
    "n = int(input(\"마일을 입력하시오: \"))   # 사용자로부터 마일 값을 정수로 입력받아 n에 저장\n",
    "km = n * 1.609                         # 마일을 km로 변환 \n",
    "print(f\"{n}마일은 {km}km입니다\")       # 변환된 km 값을 출력"
   ]
  },
  {
   "cell_type": "markdown",
   "id": "6e389e2e",
   "metadata": {},
   "source": [
    "n = int(input(\"마일을 입력하시오: \"))\n",
    ">마일을 입력하시오: 10\n",
    "\n",
    "km = n * 1.609\n",
    "\n",
    "print(f\"{n}마일은 {km}km입니다\")\n",
    ">10마일은 16.09km입니다"
   ]
  },
  {
   "cell_type": "markdown",
   "id": "8c7b1577",
   "metadata": {},
   "source": [
    "3. 원의반지름을입력받아원의둘레와원의면적을출력하는프로그램을작성하라\n"
   ]
  },
  {
   "cell_type": "code",
   "execution_count": null,
   "id": "6439b3f9",
   "metadata": {},
   "outputs": [],
   "source": [
    "r = float(input(\"반지름을 입력하시오: \"))  # 사용자로부터 원의 반지름을 실수로 입력받아 r에 저장\n",
    "s = r ** 2                                   # 원의 면적 계산용 \n",
    "d = r * 2                                    # 원의 둘레 계산용 \n",
    "print(f\"둘레는 {d}π, 면적은 {s}π\")       # 계산값과 π 기호를 포함하여 출력"
   ]
  },
  {
   "cell_type": "markdown",
   "id": "cb9295db",
   "metadata": {},
   "source": [
    "r = float(input(\"반지름을 입력하시오: \"))\n",
    ">반지름을 입력하시오: 5.2\n",
    "\n",
    "s = r * r   \n",
    "d = r * 2\n",
    "\n",
    "print(f\"둘레는 {s}π, 면적은 {d}π\")\n",
    ">둘레는 27.040000000000003π, 면적은 10.4π"
   ]
  },
  {
   "cell_type": "markdown",
   "id": "95a304b5",
   "metadata": {},
   "source": [
    "#### 부울형(Boolean)"
   ]
  },
  {
   "cell_type": "code",
   "execution_count": null,
   "id": "2a31edfc",
   "metadata": {},
   "outputs": [],
   "source": [
    "aVar = True                 # aVar에 True 저장\n",
    "bVar = False                # bVar에 False 저장\n",
    "\n",
    "type(aVar)                  # aVar의 자료형 확인 \n",
    "\n",
    "a = 1; b = 2                # 변수 a에 1, b에 2 저장\n",
    "\n",
    "c = a > b                   # a가 b보다 큰지 비교 \n",
    "c                           # 결과 출력\n",
    "\n",
    "d = a < b                   # a가 b보다 작은지 비교 \n",
    "d                           # 결과 출력"
   ]
  },
  {
   "cell_type": "markdown",
   "id": "25d307ee",
   "metadata": {},
   "source": [
    "aVar = True   \n",
    "bVar = False\n",
    "\n",
    "type(aVar)\n",
    "><class 'bool'>\n",
    "\n",
    "a = 1; b = 2   \n",
    "\n",
    "c = a > b   \n",
    "c\n",
    ">False\n",
    "\n",
    "d = a < b   \n",
    "d\n",
    ">True\n"
   ]
  },
  {
   "cell_type": "markdown",
   "id": "daca94e4",
   "metadata": {},
   "source": [
    "#### 정수(integer)형"
   ]
  },
  {
   "cell_type": "code",
   "execution_count": null,
   "id": "fa7350dc",
   "metadata": {},
   "outputs": [],
   "source": [
    "intVar = 5\n",
    "int1Var = 0b010101\n",
    "int2Var = 0o1\n",
    "int3Var = 0x1\n",
    "type(intVar)\n",
    "type(int1Var)\n",
    "type(int2Var)\n",
    "type(int3Var)\n",
    "\n",
    "1, 23, 3493 # 10진수\n",
    "0b010101, 0b110010 # 2진수\n",
    "0o1, 0o27, 0o6645 # 8진수\n",
    "0x1, 0x17, 0xDA5 # 16진수"
   ]
  },
  {
   "cell_type": "markdown",
   "id": "71f35977",
   "metadata": {},
   "source": [
    "intVar = 5   \n",
    "int1Var = 0b010101   \n",
    "int2Var = 0o1   \n",
    "int3Var = 0x1   \n",
    "\n",
    "type(intVar)\n",
    "><class 'int'>\n",
    "\n",
    "type(int1Var)\n",
    "><class 'int'>\n",
    "\n",
    "type(int2Var)\n",
    "><class 'int'>\n",
    "\n",
    "type(int3Var)\n",
    "><class 'int'>\n",
    "\n",
    "1, 23, 3493 # 10진수\n",
    ">(1, 23, 3493)\n",
    "\n",
    "0b010101, 0b110010 # 2진수\n",
    ">(21, 50)\n",
    "\n",
    "0o1, 0o27, 0o6645 # 8진수\n",
    ">(1, 23, 3493)\n",
    "\n",
    "0x1, 0x17, 0xDA5 # 16진수\n",
    ">(1, 23, 3493)"
   ]
  },
  {
   "cell_type": "markdown",
   "id": "b0d8ea2e",
   "metadata": {},
   "source": [
    "#### 실수(float)형"
   ]
  },
  {
   "cell_type": "code",
   "execution_count": null,
   "id": "e727523d",
   "metadata": {},
   "outputs": [],
   "source": [
    "fVar = 1.0                          # 변수 fVar에 실수 1.0 저장\n",
    "type(fVar)                          # 자료형 확인\n",
    "\n",
    "0., 0.0, .0, 1., 1.0, 1e0, 1.e0     # 0.0 아님 0.1 출력 자동변환\n",
    "1.0e2                               # 100.0\n",
    "\n",
    "100_000.000_0001                    # 100000.0000001\n",
    "0x_FF_FF                            # 65535 (16진수)\n",
    "0o7_777                             # 4095 (8진수)\n",
    "0b_1010_1010                        # 170 (2진수)\n",
    "\n",
    "0.00_10_27                          # 0.001027"
   ]
  },
  {
   "cell_type": "markdown",
   "id": "f8747a13",
   "metadata": {},
   "source": [
    "fVar = 1.0   \n",
    "type(fVar) \n",
    "><class 'float'>\n",
    "\n",
    "0., 0.0, .0, 1., 1.0, 1e0, 1.e0\n",
    ">(0.0, 0.0, 0.0, 1.0, 1.0, 1.0, 1.0)\n",
    "\n",
    "1.0e2  \n",
    ">100.0\n",
    "\n",
    "100_000.000_0001 \n",
    ">100000.0000001\n",
    "\n",
    "0x_FF_FF  \n",
    ">65535\n",
    "\n",
    "0o7_777                             \n",
    ">4095\n",
    "\n",
    "0b_1010_1010\n",
    ">170\n",
    "\n",
    "0.00_10_27 \n",
    ">0.001027\n"
   ]
  },
  {
   "cell_type": "markdown",
   "id": "1699a63a",
   "metadata": {},
   "source": [
    "#### 문자열(string)"
   ]
  },
  {
   "cell_type": "code",
   "execution_count": null,
   "id": "a2a69f52",
   "metadata": {},
   "outputs": [],
   "source": [
    "strVar = \"test\"                     # 문자열 \"test\"를 변수 strVar에 저장\n",
    "type(strVar)                        # <class 'str'>\n",
    "\n",
    "'This is a literal string'          # 작은따옴표 문자열\n",
    "\"This is another string\"            # 큰따옴표 문자열\n",
    "\"I'm a Python fanatic\"              # 문자열 안에 작은따옴표 포함\n",
    "'I\"m a Python fanatic'              # 문자열 안에 큰따옴표 포함\n",
    "'A not very long string \\           \n",
    "that spans two lines'               \n",
    "                                    # \\ 를 이용해 줄바꿈 없이 이어쓰기"
   ]
  },
  {
   "cell_type": "markdown",
   "id": "b9e6985d",
   "metadata": {},
   "source": [
    "strVar = \"test\"   \n",
    "type(strVar)\n",
    "><class 'str'>\n",
    "\n",
    "'This is a literal string'\n",
    ">'This is a literal string'\n",
    "\n",
    "\"This is another string\"\n",
    ">'This is another string'\n",
    "\n",
    "\"I'm a Python fanatic\" \n",
    ">\"I'm a Python fanatic\"\n",
    "\n",
    "'I\"m a Python fanatic'\n",
    ">'I\"m a Python fanatic'\n",
    "\n",
    "'A not very long string \\\n",
    "that spans two lines'\n",
    ">'A not very long string that spans two lines'"
   ]
  },
  {
   "cell_type": "markdown",
   "id": "529342c8",
   "metadata": {},
   "source": [
    "#### 지정연산자(assignment operator); 할당연산자"
   ]
  },
  {
   "cell_type": "code",
   "execution_count": null,
   "id": "c3c9d3e9",
   "metadata": {},
   "outputs": [],
   "source": [
    "i = 3              # 변수 i에 3 저장\n",
    "i = i + 2          # i + 2 값을 다시 i에 저장"
   ]
  },
  {
   "cell_type": "markdown",
   "id": "bad90c6f",
   "metadata": {},
   "source": [
    "i = 3; i = i + 2   \n",
    "\n",
    "i\n",
    ">5"
   ]
  },
  {
   "cell_type": "markdown",
   "id": "de730311",
   "metadata": {},
   "source": [
    "#### 산술연산자(arithmetic operator)"
   ]
  },
  {
   "cell_type": "code",
   "execution_count": null,
   "id": "b867cefc",
   "metadata": {},
   "outputs": [],
   "source": [
    "a = 10                 # 변수 a에 10 저장\n",
    "b = 3                  # 변수 b에 3 저장\n",
    "c = a % b              # 10을 3으로 나눈 나머지 \n",
    "d = a // b             # 10을 3으로 나눈 몫 \n",
    "e = a / b              # 10을 3으로 나눈 실수 결과"
   ]
  },
  {
   "cell_type": "markdown",
   "id": "5c305941",
   "metadata": {},
   "source": [
    "a = 10;b = 3   \n",
    "\n",
    "c = a%b\n",
    ">1\n",
    "\n",
    "d = a//b\n",
    ">3\n",
    "\n",
    "e = a/b\n",
    ">3.3333333333333335\n"
   ]
  },
  {
   "cell_type": "markdown",
   "id": "af8da8a4",
   "metadata": {},
   "source": [
    "#### 관계연산자(relation operator)"
   ]
  },
  {
   "cell_type": "code",
   "execution_count": null,
   "id": "2d93ffca",
   "metadata": {},
   "outputs": [],
   "source": [
    "score = 95                  # 변수 score에 95 저장\n",
    "print(score >= 90)          # 95는 90 이상인지 확인\n",
    "print(score < 80)           # 95는 80보다 작지 않은지 확인\n",
    "print(score == 90)          # 95는 90과 같지 않은지 확인\n",
    "print(score != 80)          # 95는 80과 다른지 확인"
   ]
  },
  {
   "cell_type": "markdown",
   "id": "b70a490c",
   "metadata": {},
   "source": [
    "score = 95\n",
    "\n",
    "print(score >= 90)\n",
    ">True\n",
    "\n",
    "print(score < 80)\n",
    ">False\n",
    "\n",
    "print(score == 90)\n",
    ">False\n",
    "\n",
    "print(score != 80)\n",
    ">True"
   ]
  },
  {
   "cell_type": "markdown",
   "id": "3ae31ba4",
   "metadata": {},
   "source": [
    "#### 산술 및 관계 연산자 연습문제"
   ]
  },
  {
   "cell_type": "markdown",
   "id": "946a5f8e",
   "metadata": {},
   "source": [
    "1. 5와 3을 더한 값을 출력하는 프로그램을 작성하라."
   ]
  },
  {
   "cell_type": "code",
   "execution_count": null,
   "id": "c7f64d5f",
   "metadata": {},
   "outputs": [],
   "source": [
    "i = 5 + 3     # 5와 3을 더한 값을 변수 i에 저장\n",
    "i             # i의 값 출력 "
   ]
  },
  {
   "cell_type": "markdown",
   "id": "665b22b8",
   "metadata": {},
   "source": [
    "i = 5 + 3\n",
    "\n",
    "i\n",
    ">8"
   ]
  },
  {
   "cell_type": "markdown",
   "id": "fad23938",
   "metadata": {},
   "source": [
    "2. 7에서 3을 뺀 값을 출력하는 프로그램을 작성하라."
   ]
  },
  {
   "cell_type": "code",
   "execution_count": null,
   "id": "2d4f6d9d",
   "metadata": {},
   "outputs": [],
   "source": [
    "i = 7 - 3     # 7에서 3을 뺀 값을 변수 i에 저장\n",
    "i             # i의 값 출력 "
   ]
  },
  {
   "cell_type": "markdown",
   "id": "5a17a3f6",
   "metadata": {},
   "source": [
    "i = 7 - 3\n",
    "\n",
    "i\n",
    ">4"
   ]
  },
  {
   "cell_type": "markdown",
   "id": "957f773f",
   "metadata": {},
   "source": [
    " 3. 4를2로나눈값을출력하는프로그램을작성하라."
   ]
  },
  {
   "cell_type": "code",
   "execution_count": null,
   "id": "7520df54",
   "metadata": {},
   "outputs": [],
   "source": [
    "i = 4 / 2    # 4를 2로 나눈 결과값 저장\n",
    "i            # i의 값 출력 "
   ]
  },
  {
   "cell_type": "markdown",
   "id": "261c6c36",
   "metadata": {},
   "source": [
    "i = 4 / 2\n",
    "\n",
    "i\n",
    ">2.0"
   ]
  },
  {
   "cell_type": "markdown",
   "id": "9649c116",
   "metadata": {},
   "source": [
    "4. 8을3으로나눈몫과나머지를출력하는프로그램을작성하라."
   ]
  },
  {
   "cell_type": "code",
   "execution_count": null,
   "id": "9d4115dd",
   "metadata": {},
   "outputs": [],
   "source": [
    "i = 8             # 변수 i에 8 저장\n",
    "j = i / 3         # 8을 3으로 나눈 실수 결과 j에 저장\n",
    "k = i % 3         # 8을 3으로 나눈 나머지 k에 저장\n",
    "int(j), k         # 몫을 정수형j로 나머지는 k로 출력"
   ]
  },
  {
   "cell_type": "markdown",
   "id": "051afeb5",
   "metadata": {},
   "source": [
    "i = 8           \n",
    "j = i / 3        \n",
    "k = i % 3        \n",
    "\n",
    "int(j), k\n",
    ">2,2 "
   ]
  },
  {
   "cell_type": "markdown",
   "id": "24c3a03e",
   "metadata": {},
   "source": [
    "5. 2의5제곱을출력하는프로그램을작성하라."
   ]
  },
  {
   "cell_type": "code",
   "execution_count": null,
   "id": "85b74b81",
   "metadata": {},
   "outputs": [],
   "source": [
    "i = 2 ** 5    # 2를 5제곱 한 값 i에 저장\n",
    "i             # i의 값 출력 "
   ]
  },
  {
   "cell_type": "markdown",
   "id": "b430987e",
   "metadata": {},
   "source": [
    "i = 2 ** 5\n",
    "\n",
    "i\n",
    ">32"
   ]
  },
  {
   "cell_type": "markdown",
   "id": "de0edd5f",
   "metadata": {},
   "source": [
    "6. 입력된정수가10보다크고20보다작은지검사하는프로그램을작성하라"
   ]
  },
  {
   "cell_type": "code",
   "execution_count": null,
   "id": "18e54341",
   "metadata": {},
   "outputs": [],
   "source": [
    "score = int(input(\"정수를 입력하시오.\"))      # 사용자로부터 정수를 입력받아 score에 저장\n",
    "print(\"10보다 크다 = \", score > 10)          # 입력값이 10보다 큰지 비교한 결과 출력\n",
    "print(\"20보다 작다 = \", score < 20)          # 입력값이 20보다 작은지 비교한 결과 출력\n"
   ]
  },
  {
   "cell_type": "markdown",
   "id": "2902ad60",
   "metadata": {},
   "source": [
    "score = int(input(\"정수를 입력하시오.\"))\n",
    ">정수를 입력하시오.14\n",
    "\n",
    "print(\"10보다 크다 = \", score > 10)\n",
    ">10보다 크다 =  True\n",
    "\n",
    "print(\"20보다 작다 = \", score < 20) \n",
    ">20보다 작다 =  True"
   ]
  },
  {
   "cell_type": "markdown",
   "id": "641e4242",
   "metadata": {},
   "source": [
    " 7. 문자열\"hello\"와 문자열\"world\"를 이어붙인결과를출력하는프로그램을작성하라."
   ]
  },
  {
   "cell_type": "code",
   "execution_count": null,
   "id": "6625cf07",
   "metadata": {},
   "outputs": [],
   "source": [
    "q = \"hello\"                  # 변수 q에 문자열 \"hello\" 저장\n",
    "p = \"world\"                  # 변수 p에 문자열 \"world\" 저장\n",
    "print(q + \" \" + p)           # q와 p 사이에 공백을 넣어 연결 "
   ]
  },
  {
   "cell_type": "markdown",
   "id": "51a52420",
   "metadata": {},
   "source": [
    "q = \"hello\"   \n",
    "p = \"world\"\n",
    "\n",
    "print(q + \" \" + p)\n",
    ">hello world"
   ]
  },
  {
   "cell_type": "markdown",
   "id": "a92b2a41",
   "metadata": {},
   "source": [
    "8. 7을2로나눈결과가3보다작은지검사하는프로그램을작성하라"
   ]
  },
  {
   "cell_type": "code",
   "execution_count": null,
   "id": "d1fc5279",
   "metadata": {},
   "outputs": [],
   "source": [
    "i = int(7 / 2)                             # 7을 2로 나눈 결과를 정수로 변환\n",
    "print(\"7을 2로 나눈 결과가 3보다 작은가 =\", i < 3)   # i < 3의 결과 출력"
   ]
  },
  {
   "cell_type": "markdown",
   "id": "92eba0e9",
   "metadata": {},
   "source": [
    "i = int(7 / 2)\n",
    "\n",
    "print(\"7을2로나눈결과가3보다작은가 = \", i < 3)\n",
    ">7을2로나눈결과가3보다작은가 = false"
   ]
  },
  {
   "cell_type": "markdown",
   "id": "a776160d",
   "metadata": {},
   "source": [
    " 9. 변수x의값이5와같지않은지검사하는프로그램을작성하라."
   ]
  },
  {
   "cell_type": "code",
   "execution_count": null,
   "id": "67b3a9c7",
   "metadata": {},
   "outputs": [],
   "source": [
    "x = int(input(\"정수를 입력하시오 = \"))   # 사용자로부터 정수를 입력받아 x에 저장\n",
    "print(\"x는 5와 같다 = \", x == 5)        # x가 5와 같은지 비교한 결과 출력"
   ]
  },
  {
   "cell_type": "markdown",
   "id": "3609972c",
   "metadata": {},
   "source": [
    "x = int(input(\"정수를 입력하시오 = \"))\n",
    "> 5\n",
    "\n",
    "print(\"x는 5와 같다 = \", x == 5)\n",
    ">x는 5와 같다 = True"
   ]
  },
  {
   "cell_type": "markdown",
   "id": "70924caf",
   "metadata": {},
   "source": [
    "10.변수 y의 값이10에서20 사이의값인지검사하는프로그램을작성하라."
   ]
  },
  {
   "cell_type": "code",
   "execution_count": null,
   "id": "83ede8ae",
   "metadata": {},
   "outputs": [],
   "source": [
    "y = int(input(\"정수를 입력하시오 = \"))      # 사용자로부터 정수를 입력받아 y에 저장\n",
    "print(\"y의 값은 10~20 사이의 값이다 = \", 10 <= y <= 20)  # y가 10 이상 20 이하인지 비교한 결과 출력 "
   ]
  },
  {
   "cell_type": "markdown",
   "id": "40db846d",
   "metadata": {},
   "source": [
    "y = int(input(\"정수를 입력하시오 = \"))\n",
    "> 12\n",
    "\n",
    "print(\"y의 값은 10~20 사이의 값이다 = \", 10 <= y <= 20)\n",
    ">y의 값은 10~20 사이의 값이다 = True"
   ]
  },
  {
   "cell_type": "markdown",
   "id": "1e19086a",
   "metadata": {},
   "source": [
    "#### 논리연산자(logical operator)"
   ]
  },
  {
   "cell_type": "code",
   "execution_count": null,
   "id": "517dfc31",
   "metadata": {},
   "outputs": [],
   "source": [
    "exam = 85                  # 시험 점수 85 저장\n",
    "report = 85                # 보고서 점수 85 저장\n",
    "\n",
    "exam >= 80 and report >= 80    # exam과 report가 모두 80 이상인지 확인 \n",
    "exam >= 90 or report >= 90     # exam 또는 report가 90 이상인지 확인\n",
    "not(exam < 90)                 # exam이 90 미만이 아닌지 확인 "
   ]
  },
  {
   "cell_type": "markdown",
   "id": "36b78bd5",
   "metadata": {},
   "source": [
    "exam = 85   \n",
    "report = 85\n",
    "\n",
    "exam >= 80 and report >= 80\n",
    ">True\n",
    "\n",
    "exam >= 90 or report >= 90\n",
    ">False\n",
    "\n",
    "not(exam < 90)\n",
    ">False"
   ]
  },
  {
   "cell_type": "markdown",
   "id": "c1ec961b",
   "metadata": {},
   "source": [
    "#### 논리연산자연습문제"
   ]
  },
  {
   "cell_type": "markdown",
   "id": "5122bb56",
   "metadata": {},
   "source": [
    "1. 5가3보다크고7보다작은지검사하는프로그램을작성하라."
   ]
  },
  {
   "cell_type": "code",
   "execution_count": null,
   "id": "d03153e9",
   "metadata": {},
   "outputs": [],
   "source": [
    "i = 5                 # 변수 i에 5 저장\n",
    "i > 3 and i < 7       # i가 3보다 크고 7보다 작은지 확인 "
   ]
  },
  {
   "cell_type": "markdown",
   "id": "5863c08a",
   "metadata": {},
   "source": [
    "i = 5   \n",
    "i > 3 and i < 7\n",
    ">True"
   ]
  },
  {
   "cell_type": "markdown",
   "id": "55db0ef8",
   "metadata": {},
   "source": [
    "2. 변수x가10 이상이고20 이하인지검사하는프로그램을작성하라."
   ]
  },
  {
   "cell_type": "code",
   "execution_count": null,
   "id": "31d73a6c",
   "metadata": {},
   "outputs": [],
   "source": [
    "x = int(input(\"정수를 입력하시오 = \"))   # 사용자로부터 정수를 입력받아 x에 저장\n",
    "x > 10 and x < 20                        # x가 10보다 크고 20보다 작은지 확인 "
   ]
  },
  {
   "cell_type": "markdown",
   "id": "b6c01520",
   "metadata": {},
   "source": [
    "x = int(input(\"정수를 입력하시오 = \"))   \n",
    ">15\n",
    "\n",
    "x > 10 and x < 20\n",
    ">True"
   ]
  },
  {
   "cell_type": "markdown",
   "id": "39d76351",
   "metadata": {},
   "source": [
    " 3. 변수y가5의배수이거나7의배수인지검사하는프로그램을작성하라."
   ]
  },
  {
   "cell_type": "code",
   "execution_count": null,
   "id": "15148370",
   "metadata": {},
   "outputs": [],
   "source": [
    "y = int(input(\"정수를 입력하시오 = \"))   # 사용자로부터 정수를 입력받아 y에 저장\n",
    "y % 5 == 0 or y % 7 == 0                  # y가 5 또는 7의 배수인지 확인"
   ]
  },
  {
   "cell_type": "markdown",
   "id": "236c61cd",
   "metadata": {},
   "source": [
    "y = int(input(\"정수를 입력하시오 = \"))\n",
    "> 14\n",
    "\n",
    "y % 5 == 0 or y % 7 == 0\n",
    "> True"
   ]
  },
  {
   "cell_type": "markdown",
   "id": "4a9dc149",
   "metadata": {},
   "source": [
    "4. 변수z가양수이면서짝수인지검사하는프로그램을작성하라"
   ]
  },
  {
   "cell_type": "code",
   "execution_count": null,
   "id": "1c183d63",
   "metadata": {},
   "outputs": [],
   "source": [
    "z = int(input(\"정수를 입력하시오 = \"))   # 사용자로부터 정수를 입력받아 z에 저장\n",
    "z > 0 and z % 2 == 0                      # z가 양수이고 짝수인지 확인"
   ]
  },
  {
   "cell_type": "markdown",
   "id": "1d7e95f8",
   "metadata": {},
   "source": [
    "z = int(input(\"정수를 입력하시오 = \"))\n",
    "> 14\n",
    "\n",
    "z > 0 and z % 2 == 0\n",
    "> True"
   ]
  },
  {
   "cell_type": "markdown",
   "id": "d58f73f8",
   "metadata": {},
   "source": [
    " 5. 변수a가문자열\"hello\"나문자열\"world\" 중하나인지검사하는프로그램을작성하라"
   ]
  },
  {
   "cell_type": "code",
   "execution_count": null,
   "id": "82a610e8",
   "metadata": {},
   "outputs": [],
   "source": [
    "a = input(\"문자열을 입력하시오 = \")    # 사용자로부터 문자열을 입력받아 a에 저장\n",
    "a == 'hello' or a == 'world'           # a가 'hello' 또는 'world'와 같은지 확인"
   ]
  },
  {
   "cell_type": "markdown",
   "id": "e1d9ba89",
   "metadata": {},
   "source": [
    "a = input(\"문자열을 입력하시오 = \")\n",
    "> hello\n",
    "\n",
    "a == 'hello' or a == 'world'\n",
    "> True"
   ]
  },
  {
   "cell_type": "markdown",
   "id": "ee62d101",
   "metadata": {},
   "source": [
    "#### 멤버연산자(membership operator)"
   ]
  },
  {
   "cell_type": "code",
   "execution_count": null,
   "id": "aafa58bc",
   "metadata": {},
   "outputs": [],
   "source": [
    "'py' in 'python'        # 'python' 문자열에 'py'가 포함되어 있는지 확인 \n",
    "'ty' not in 'python'    # 'python' 문자열에 'ty'가 포함되어 있지 않은지 확인 "
   ]
  },
  {
   "cell_type": "markdown",
   "id": "f0ada87c",
   "metadata": {},
   "source": [
    "'py' in 'python'\n",
    ">True\n",
    "\n",
    "'ty' not in 'python'\n",
    ">True"
   ]
  },
  {
   "cell_type": "markdown",
   "id": "8ac282c2",
   "metadata": {},
   "source": [
    "#### 식별연산자(identity operator)"
   ]
  },
  {
   "cell_type": "code",
   "execution_count": null,
   "id": "58ed043d",
   "metadata": {},
   "outputs": [],
   "source": [
    "a, b = 2, 2          # a와 b에 각각 2를 할당\n",
    "c = 3                # c에 3을 할당\n",
    "id(a)                # a가 저장된 메모리 주소 출력\n",
    "id(b)                # b가 저장된 메모리 주소 출력\n",
    "id(c)                # c가 저장된 메모리 주소 출력\n",
    "id(a) == id(b)       # a와 b가 같은 메모리 주소를 갖는지 확인 \n",
    "a is b               # a와 b가 동일 객체인지 확인 \n",
    "a is not b           # a와 b가 동일 객체가 아닌지 확인 "
   ]
  },
  {
   "cell_type": "markdown",
   "id": "a2e60f25",
   "metadata": {},
   "source": [
    "a, b = 2, 2   \n",
    "c = 2\n",
    "\n",
    "id(a)\n",
    ">140718723230168\n",
    "\n",
    "id(b)\n",
    ">140718723230168\n",
    "\n",
    "id(c)\n",
    ">140718723230200\n",
    "\n",
    "id(a) == id(b)\n",
    ">True\n",
    "\n",
    "a is b \n",
    ">True\n",
    "\n",
    "a is not b\n",
    ">False"
   ]
  },
  {
   "cell_type": "markdown",
   "id": "6fa62f57",
   "metadata": {},
   "source": [
    "#### 멤버연산자연습문제"
   ]
  },
  {
   "cell_type": "markdown",
   "id": "84bae03d",
   "metadata": {},
   "source": [
    "1. 숫자7이리스트[1, 2, 3, 4, 5]에 포함되어 있는지 검사하는프로그램을작성하라."
   ]
  },
  {
   "cell_type": "code",
   "execution_count": null,
   "id": "182f6dae",
   "metadata": {},
   "outputs": [],
   "source": [
    "list = [1, 2, 3, 4, 5]   # 리스트 생성\n",
    "7 in list                # 리스트에 7이 포함되어 있는지 확인 "
   ]
  },
  {
   "cell_type": "markdown",
   "id": "6a02fa33",
   "metadata": {},
   "source": [
    "list= [1,2,3,4,5]\n",
    "\n",
    "7 in list\n",
    ">False"
   ]
  },
  {
   "cell_type": "markdown",
   "id": "bbc518f1",
   "metadata": {},
   "source": [
    "2. 문자열\"apple\"이 세트{\"orange\", \"banana\", \"kiwi\"}에 포함되어 있는지 검사하는 프로\n",
    "그램을작성하라."
   ]
  },
  {
   "cell_type": "code",
   "execution_count": null,
   "id": "2da8a416",
   "metadata": {},
   "outputs": [],
   "source": [
    "fruits = {\"orange\", \"banana\", \"kiwi\"}   # 집합 생성\n",
    "'apple' in fruits                        # 집합에 'apple'이 포함되어 있는지 확인 "
   ]
  },
  {
   "cell_type": "markdown",
   "id": "92f29f33",
   "metadata": {},
   "source": [
    "set = {\"orange\", \"banana\", \"kiwi\"}\n",
    "\n",
    "'apple' in set\n",
    "> False"
   ]
  },
  {
   "cell_type": "markdown",
   "id": "f0ad4618",
   "metadata": {},
   "source": [
    "3. 숫자6이딕셔너리{\"a\": 1, \"b\": 2, \"c\": 3, \"d\": 4}의 값들 중 하나인지 검사하는 프로그램을\n",
    "작성하라."
   ]
  },
  {
   "cell_type": "code",
   "execution_count": null,
   "id": "49c49ab9",
   "metadata": {},
   "outputs": [],
   "source": [
    "dic = {\"a\": 1, \"b\": 2, \"c\": 3, \"d\": 4}   # 딕셔너리 생성\n",
    "6 in dic                                 # 딕셔너리의 키 중에 6이 있는지 확인 "
   ]
  },
  {
   "cell_type": "markdown",
   "id": "1ce66392",
   "metadata": {},
   "source": [
    "dic = {\"a\": 1, \"b\": 2, \"c\": 3, \"d\": 4}\n",
    "\n",
    "6 in dic\n",
    "> False"
   ]
  },
  {
   "cell_type": "markdown",
   "id": "9b3bc168",
   "metadata": {},
   "source": [
    " 4. 문자열\"cat\"이 튜플(\"dog\", \"cat\", \"bird\", \"hamster\")에 포함되어 있는지 검사하는 프로\n",
    "그램을작성하라."
   ]
  },
  {
   "cell_type": "code",
   "execution_count": null,
   "id": "56c71c38",
   "metadata": {},
   "outputs": [],
   "source": [
    "chr = (\"dog\", \"cat\", \"bird\", \"hamster\")   # 튜플 생성\n",
    "'cat' in chr                              # 튜플에 'cat'이 포함되어 있는지 확인 "
   ]
  },
  {
   "cell_type": "markdown",
   "id": "71859512",
   "metadata": {},
   "source": [
    "chr = (\"dog\", \"cat\", \"bird\", \"hamster\")\n",
    "\n",
    "'cat' in chr\n",
    "> True"
   ]
  },
  {
   "cell_type": "markdown",
   "id": "a599cd5d",
   "metadata": {},
   "source": [
    " 5. 숫자10이세트{2, 4, 6, 8, 10}에 포함되어 있는지 검사하는 프로그램을작성하라."
   ]
  },
  {
   "cell_type": "code",
   "execution_count": null,
   "id": "012d415d",
   "metadata": {},
   "outputs": [],
   "source": [
    "num = {2, 4, 6, 8, 10}   # 집합 생성\n",
    "10 in num                 # 집합에 10이 포함되어 있는지 확인 "
   ]
  },
  {
   "cell_type": "markdown",
   "id": "4b17b4f0",
   "metadata": {},
   "source": [
    "num = {2, 4, 6, 8, 10}\n",
    "\n",
    "10 in num\n",
    "> True"
   ]
  },
  {
   "cell_type": "markdown",
   "id": "a86ae53f",
   "metadata": {},
   "source": [
    "#### 타입에러(type error)"
   ]
  },
  {
   "cell_type": "code",
   "execution_count": null,
   "id": "3224816b",
   "metadata": {},
   "outputs": [],
   "source": [
    "age = 23\n",
    "message = \"Happy \" + age + \"rd Birthday!\"\n",
    "print(message)\n",
    "Traceback (most recent call last):\n",
    "File \"birthday.py\", line 2, in <module> #➊\n",
    "message = \"Happy \" + age + \"rd Birthday!\"\n",
    "TypeError: Can't convert 'int' object to str implicitly' #➋\n",
    " \n",
    "#➊ 에러발생위치\n",
    "#➋ 에러내용; int 형을암시적으로문자열로변환할수없음"
   ]
  },
  {
   "cell_type": "markdown",
   "id": "2c9d8dbc",
   "metadata": {},
   "source": [
    "#### 연습문제2"
   ]
  },
  {
   "cell_type": "markdown",
   "id": "857a92eb",
   "metadata": {},
   "source": [
    " 1. 초를입력하면분과초로표시하는프로그램. 예를들어, 200초를입력하면3분20초로표현하라"
   ]
  },
  {
   "cell_type": "code",
   "execution_count": null,
   "id": "5a90f548",
   "metadata": {},
   "outputs": [],
   "source": [
    "sec = int(input(\"초를 입력하시오 = \"))      # 사용자로부터 초를 입력받아 정수로 변환하여 sec에 저장\n",
    "print(f\"현재시간은 {sec // 60}분 {sec % 60}초 입니다.\")  # 초를 분과 초로 나누어 출력"
   ]
  },
  {
   "cell_type": "markdown",
   "id": "25b5493d",
   "metadata": {},
   "source": [
    "sec = int(input(\"초를 입력하시오 = \"))\n",
    "> 200\n",
    "\n",
    "print(f\"현재시간은 {sec // 60}분 {sec % 60}초 입니다.\")\n",
    "> 현재시간은 3분 20초 입니다."
   ]
  },
  {
   "cell_type": "markdown",
   "id": "9848d21a",
   "metadata": {},
   "source": [
    "2. 분(min)을 입력 하면, 일, 시간, 분으로출력하는프로그램을만들어라. (예: 1550분은1일1시간50분)"
   ]
  },
  {
   "cell_type": "code",
   "execution_count": null,
   "id": "0cf46431",
   "metadata": {},
   "outputs": [],
   "source": [
    "min = int(input(\"분을 입력하시오 = \"))    # 사용자로부터 분을 입력받아 정수로 변환하여 min에 저장\n",
    "print(f\"{min}분은 {min // 1440}일 {(min % 1440) // 60 }시간 {min % 60}분 입니다.\")  # 입력된 분을 일, 시간, 분으로 나누어 계산하여 출력"
   ]
  },
  {
   "cell_type": "markdown",
   "id": "b645d8e5",
   "metadata": {},
   "source": [
    "min = int(input(\"분을 입력하시오 = \"))\n",
    "> 1550\n",
    "\n",
    "print(f\"{min}분은 {min // 1440}일 {(min % 1440) // 60 }시간 {min % 60}분 입니다.\")\n",
    "> 1550분은 1일 1시간 50분 입니다."
   ]
  },
  {
   "cell_type": "markdown",
   "id": "53e7fce5",
   "metadata": {},
   "source": [
    " 3. 500만원을년이율5%로복리저금했을때5년후의원리금의합계를출력하는프로그램"
   ]
  },
  {
   "cell_type": "code",
   "execution_count": null,
   "id": "275956e1",
   "metadata": {},
   "outputs": [],
   "source": [
    "q = 5000000 * (1 + 0.05) ** 5   # 500만원을 연이율 5%로 5년간 복리 계산\n",
    "print(f\"{int(q)}원 입니다\")      # 계산된 원리금을 정수로 변환하여 출력"
   ]
  },
  {
   "cell_type": "markdown",
   "id": "47256c1b",
   "metadata": {},
   "source": [
    "q = 5000000 * (1 + 0.05) ** 5\n",
    "\n",
    "print(f\"{int(q)}원 입니다\") \n",
    ">6381407원 입니다"
   ]
  },
  {
   "cell_type": "markdown",
   "id": "35a76c38",
   "metadata": {},
   "source": [
    "4. 1부터n까지의합은n(n+1)/2로 주어진다. 1부터100까지의합을구하여출력하는프로그램을\n",
    "작성하고실행하라."
   ]
  },
  {
   "cell_type": "code",
   "execution_count": null,
   "id": "1459c1f7",
   "metadata": {},
   "outputs": [],
   "source": [
    "i = 100 * (100 + 1) // 2        # 1부터 100까지 합 공식: n*(n+1)//2\n",
    "print(f\"1부터 100까지의 합은 {int(i)}입니다.\")  # 합계를 정수로 출력"
   ]
  },
  {
   "cell_type": "markdown",
   "id": "fb186655",
   "metadata": {},
   "source": [
    "i = 100 * (100 + 1) // 2 \n",
    "\n",
    "print(f\"1부터 100까지의 합은 {int(i)}입니다.\")\n",
    ">1부터 100까지의 합은 5050입니다."
   ]
  },
  {
   "cell_type": "markdown",
   "id": "3c0b1e7e",
   "metadata": {},
   "source": [
    " 5. 판매자가딸기와포도를판매하고있다. 포도한알의무게는75g이고딸기한알의무게는\n",
    "113.5g이다. 사용자로부터 포도알의개수와딸기의개수를입력받아총무게를계산하여출력\n",
    "하는프로그램을작성하고실행하라."
   ]
  },
  {
   "cell_type": "code",
   "execution_count": 65,
   "id": "9332f22b",
   "metadata": {},
   "outputs": [
    {
     "name": "stdout",
     "output_type": "stream",
     "text": [
      "포도알의 총 무게는 375g입니다 , 딸기의 총 무게는 567.5g입니다, 총 무게는 942.5g입니다.\n"
     ]
    }
   ],
   "source": [
    "x = int(input(\"포도알의 개수를 입력하시오 = \"))    # 사용자로부터 포도알 개수를 입력받아 정수로 변환\n",
    "y = float(input(\"딸기의 개수를 입력하시오 = \"))  # 사용자로부터 딸기 개수를 입력받아 실수로 변환\n",
    "print(f\"포도알의 총 무게는 {int(x * 75)}g입니다 , \"  # 포도알 총 무게 계산 및 출력\n",
    "      f\"딸기의 총 무게는 {y * 113.5}g입니다, \"       # 딸기 총 무게 계산 및 출력\n",
    "      f\"총 무게는 {(x * 75) + (y * 113.5)}g입니다.\") # 전체 무게 계산 및 출력"
   ]
  },
  {
   "cell_type": "markdown",
   "id": "302b2840",
   "metadata": {},
   "source": [
    "x = int(input(\"포도알의 개수를 입력하시오 = \"))\n",
    "> 5\n",
    "\n",
    "y = float(input(\"딸기의 개수를 입력하시오 = \"))\n",
    "> 5\n",
    "\n",
    "print(f\"포도알의 총 무게는 {int(x * 75)}g입니다 , 딸기의 총 무게는 {y * 113.5}g입니다, 총 무게는 {(x * 75 ) + (y * 113.5)}g입니다.\")\n",
    "> 포도알의 총 무게는 375g입니다 , 딸기의 총 무게는 567.5g입니다, 총 무게는 942.5g입니다."
   ]
  }
 ],
 "metadata": {
  "kernelspec": {
   "display_name": "Python 3",
   "language": "python",
   "name": "python3"
  },
  "language_info": {
   "codemirror_mode": {
    "name": "ipython",
    "version": 3
   },
   "file_extension": ".py",
   "mimetype": "text/x-python",
   "name": "python",
   "nbconvert_exporter": "python",
   "pygments_lexer": "ipython3",
   "version": "3.12.9"
  }
 },
 "nbformat": 4,
 "nbformat_minor": 5
}
