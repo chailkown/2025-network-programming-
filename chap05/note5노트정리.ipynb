{
 "cells": [
  {
   "cell_type": "markdown",
   "id": "a70a16a9",
   "metadata": {},
   "source": [
    "## 5장 노트정리\n",
    "\n",
    "이 파일은 5장을 학습한 내용을 정리한 내용입니다.\n",
    "\n",
    "날짜 : 2025 - 09 - 17\n",
    "\n",
    "저자 : 차일권\n",
    "\n",
    "학번 : 202111467"
   ]
  },
  {
   "cell_type": "markdown",
   "id": "0617d633",
   "metadata": {},
   "source": [
    "함수 (Function)   \n",
    "정의: 특정 코드를 묶어 이름을 붙인 것.\n",
    "\n",
    "> 사용 이유:\n",
    "\n",
    "코드 중복 제거   \n",
    "프로그램을 간단히 분해   \n",
    "코드 재사용   \n",
    "가독성 및 유지관리 용이   \n",
    "\n",
    ">파이썬의 일급 함수: 함수를 변수처럼 다룰 수 있음.\n",
    "\n",
    "변수에 할당 가능: a = func   \n",
    "다른 함수의 인자로 전달 가능: func1(func)   \n",
    "반환 값으로 반환 가능: return func\n",
    "\n",
    ">종류:\n",
    "\n",
    "내장 함수: 파이썬이 제공 (print(), len())   \n",
    "사용자 정의 함수: 직접 정의하는 함수"
   ]
  },
  {
   "cell_type": "code",
   "execution_count": null,
   "id": "fec1b923",
   "metadata": {},
   "outputs": [],
   "source": [
    "def welcome(name):\n",
    "    print(\"Hello,\", name)      # 이름을 받아 인사 출력\n",
    "\n",
    "welcome('John')                # 'John'으로 함수 호출"
   ]
  },
  {
   "cell_type": "markdown",
   "id": "ed1ad630",
   "metadata": {},
   "source": [
    "def welcome(name):   \n",
    "    print(\"Hello,\", name)   \n",
    "\n",
    "welcome('John')\n",
    "> Hello, John"
   ]
  },
  {
   "cell_type": "code",
   "execution_count": null,
   "id": "0b12f0d0",
   "metadata": {},
   "outputs": [],
   "source": [
    "def prtStr(str):\n",
    "    print(\"%s\" % str)        # 전달받은 문자열 출력\n",
    "\n",
    "str = \"Welcome to Python\"\n",
    "prtStr(str)                  # 함수 호출"
   ]
  },
  {
   "cell_type": "markdown",
   "id": "f3bde716",
   "metadata": {},
   "source": [
    "def prtStr(str):   \n",
    "    print(\"%s\" % str)\n",
    "\n",
    "str = \"Welcome to Python\"   \n",
    "prtStr(str)\n",
    "> Welcome to Python\n"
   ]
  },
  {
   "cell_type": "code",
   "execution_count": null,
   "id": "e2072512",
   "metadata": {},
   "outputs": [],
   "source": [
    "def squareArea(s):\n",
    "    area = s * s            # 한 변의 길이 s로 정사각형 넓이 계산\n",
    "    return area             # 계산된 넓이 반환\n",
    "\n",
    "a = squareArea(5)          # 변의 길이 5인 정사각형 넓이\n",
    "b = squareArea(7)          # 변의 길이 7인 정사각형 넓이\n",
    "\n",
    "print(\"한변의 길이가 %d인 정사각형의 넓이는 %d\" % (5, a))  \n",
    "print(\"한변의 길이가 %d인 정사각형의 넓이는 %d\" % (7, b))  "
   ]
  },
  {
   "cell_type": "markdown",
   "id": "f0e433a0",
   "metadata": {},
   "source": [
    "def squareArea(s):   \n",
    "    area = s * s   \n",
    "    return area\n",
    "\n",
    "a = squareArea(5)   \n",
    "b = squareArea(7)\n",
    "\n",
    "print(\"한변의 길이가 %d인 정사각형의 넓이는 %d\" % (5, a))\n",
    "> 한변의 길이가 5인 정사각형의 넓이는 25\n",
    "\n",
    "print(\"한변의 길이가 %d인 정사각형의 넓이는 %d\" % (7, b))\n",
    "> 한변의 길이가 7인 정사각형의 넓이는 49\n"
   ]
  },
  {
   "cell_type": "code",
   "execution_count": null,
   "id": "959e891c",
   "metadata": {},
   "outputs": [],
   "source": [
    "def sum(n):\n",
    "    hab = 0                     # 합을 저장할 변수 초기화\n",
    "    for i in range(1, n+1):     # 1부터 n까지 반복\n",
    "        hab = hab + i           # 합에 i를 더함\n",
    "    return hab                  # 최종 합 반환\n",
    "\n",
    "a = sum(50)                     # 1~50까지 합\n",
    "b = sum(1000)                   # 1~1000까지 합\n",
    "\n",
    "print(a)                        \n",
    "print(b)                        "
   ]
  },
  {
   "cell_type": "markdown",
   "id": "4f5b6629",
   "metadata": {},
   "source": [
    "def sum(n):   \n",
    "    hab = 0   \n",
    "    for i in range(1, n+1):   \n",
    "        hab = hab + i   \n",
    "    return hab\n",
    "\n",
    "a = sum(50)   \n",
    "b = sum(1000)\n",
    "\n",
    "print(a)\n",
    "> 1275\n",
    "\n",
    "print(b)\n",
    "> 500500\n"
   ]
  },
  {
   "cell_type": "markdown",
   "id": "ac3a3048",
   "metadata": {},
   "source": [
    "#### 함수와 변수"
   ]
  },
  {
   "cell_type": "code",
   "execution_count": null,
   "id": "0364a975",
   "metadata": {},
   "outputs": [],
   "source": [
    "def func1():\n",
    "    v = 10           # func1() 안의 지역 변수\n",
    "    print(\"func1()의 v = %d\" % v)\n",
    "\n",
    "def func2():\n",
    "    v = 20           # func2() 안의 지역 변수\n",
    "    print(\"func2()의 v = %d\" % v)\n",
    "\n",
    "func1()\n",
    "func2()"
   ]
  },
  {
   "cell_type": "markdown",
   "id": "540a079a",
   "metadata": {},
   "source": [
    "def func1():   \n",
    "    v = 10   \n",
    "    print(\"func1()의 v = %d\" % v)\n",
    "\n",
    "def func2():   \n",
    "    v = 20   \n",
    "    print(\"func2()의 v = %d\" % v)\n",
    "\n",
    "func1()\n",
    "> func1()의 v = 10\n",
    "\n",
    "func2()\n",
    "> func2()의 v = 20\n"
   ]
  },
  {
   "cell_type": "code",
   "execution_count": null,
   "id": "e5424ac2",
   "metadata": {},
   "outputs": [],
   "source": [
    "def func1():\n",
    "    v = 10          \n",
    "    print(\"func1()의 v = %d\" % v)\n",
    "\n",
    "def func2():\n",
    "    print(\"func2()의 v = %d\" % v)  \n",
    "\n",
    "# 전역 변수\n",
    "v = 20                # 프로그램 전체에서 유효\n",
    "\n",
    "func1()               # 지역 변수 v=10 출력\n",
    "func2()               # 전역 변수 v=20 출력"
   ]
  },
  {
   "cell_type": "markdown",
   "id": "c9c0ab75",
   "metadata": {},
   "source": [
    "def func1():   \n",
    "    v = 10   \n",
    "    print(\"func1()의 v = %d\" % v)\n",
    "\n",
    "def func2():   \n",
    "    print(\"func2()의 v = %d\" % v)\n",
    "\n",
    "v = 20\n",
    "\n",
    "func1()\n",
    "> func1()의 v = 10\n",
    "\n",
    "func2()\n",
    "> func2()의 v = 20\n"
   ]
  },
  {
   "cell_type": "code",
   "execution_count": null,
   "id": "74a1fa0a",
   "metadata": {},
   "outputs": [],
   "source": [
    "def func1():\n",
    "    v = 10               # func1() 안의 지역 변수\n",
    "    print(\"func1()의 v = %d\" % v)\n",
    "\n",
    "def func2():\n",
    "    global v             # v를 전역 변수로 선언\n",
    "    v = 30               # 전역 변수 v를 변경\n",
    "    print(\"func2()의 변경된 전역 v = %d\" % v)\n",
    "\n",
    "v = 20                   # 전역 변수\n",
    "\n",
    "func1()                  # 지역 변수 v=10 출력\n",
    "func2()                  # 전역 변수 v=30 출력\n",
    "print(v)                  # 전역 변수 v=30 출력"
   ]
  },
  {
   "cell_type": "markdown",
   "id": "37fd19ec",
   "metadata": {},
   "source": [
    "def func1():   \n",
    "    v = 10   \n",
    "    print(\"func1()의 v = %d\" % v)\n",
    "\n",
    "def func2():   \n",
    "    global v   \n",
    "    v = 30   \n",
    "    print(\"func2()의 변경된 전역 v = %d\" % v)\n",
    "\n",
    "v = 20\n",
    "\n",
    "func1()\n",
    "> func1()의 v = 10\n",
    "\n",
    "func2()\n",
    "> func2()의 변경된 전역 v =\n"
   ]
  },
  {
   "cell_type": "code",
   "execution_count": null,
   "id": "70f13149",
   "metadata": {},
   "outputs": [],
   "source": [
    "def prtMesg(message, count=1):  # count의 기본값 1\n",
    "    print(message * count)\n",
    "\n",
    "prtMesg('default')             # message='default', count=기본값 1 사용\n",
    "prtMesg('Hi! ', 5)             # message='Hi! ', count=5 전달\n",
    "\n",
    "def greet(name, msg=\"Nothing new?\"):  # msg 기본값 지정\n",
    "    print(\"Hi! \", name + ', ' + msg)\n",
    "\n",
    "greet(\"Abe\")                   # name만 전달\n",
    "greet(\"Bob\", \"Good morning!\")  # name과 msg 전달\n",
    "\n",
    "# 잘못된 호출 예시\n",
    "prtMesg(count=3)               # message 인자 누락"
   ]
  },
  {
   "cell_type": "markdown",
   "id": "084eed1c",
   "metadata": {},
   "source": [
    "def prtMesg(message, count=1):   \n",
    "    print(message * count)\n",
    "\n",
    "prtMesg('default')\n",
    "> default\n",
    "\n",
    "prtMesg('Hi! ', 5)\n",
    "> Hi! Hi! Hi! Hi! Hi! \n",
    "\n",
    "def greet(name, msg=\"Nothing new?\"):\n",
    "    print(\"Hi! \", name + ', ' + msg)\n",
    "\n",
    "greet(\"Abe\")\n",
    "> Hi!  Abe, Nothing new?\n",
    "\n",
    "greet(\"Bob\", \"Good morning!\")\n",
    "> Hi!  Bob, Good morning!\n",
    "\n",
    "prtMesg(count=3)\n",
    "> Traceback (most recent call last):   \n",
    ">   File \"<stdin>\", line 1, in <module>   \n",
    "> TypeError: prtMesg() missing 1 required positional argument: 'message'\n"
   ]
  },
  {
   "cell_type": "code",
   "execution_count": null,
   "id": "3aa5d002",
   "metadata": {},
   "outputs": [],
   "source": [
    "def total(*numbers):  # 매개변수를 튜플로 받아 합계를 계산\n",
    "    sum = 0\n",
    "    for n in numbers:  # 전달받은 모든 숫자를 순회\n",
    "        sum += n\n",
    "    return sum\n",
    "\n",
    "print(total(1,2,3))        # 3개의 인자 전달\n",
    "print(total(1,2,3,4,5))    # 5개의 인자 전달\n",
    "\n",
    "def dicPresident(**keywords):  # 키워드 인자를 딕셔너리로 처리\n",
    "    for i in keywords.keys():  # 키 하나씩 처리\n",
    "        print(\"%s : %d-th president\" % (i, keywords[i]))\n",
    "\n",
    "dicPresident(Kennedy=35, Obama=44, Trump=45)  # 키워드 인자 전달"
   ]
  },
  {
   "cell_type": "markdown",
   "id": "9c59c617",
   "metadata": {},
   "source": [
    "def total(*numbers):   \n",
    "    sum = 0   \n",
    "    for n in numbers:   \n",
    "        sum += n   \n",
    "    return sum\n",
    "\n",
    "print(total(1,2,3))\n",
    "> 6\n",
    "\n",
    "print(total(1,2,3,4,5))\n",
    "> 15\n",
    "\n",
    "def dicPresident(**keywords):   \n",
    "    for i in keywords.keys():   \n",
    "        print(\"%s : %d-th president\" % (i, keywords[i]))\n",
    "\n",
    "dicPresident(Kennedy=35, Obama=44, Trump=45)\n",
    "> Kennedy : 35-th president   \n",
    "> Obama : 44-th president   \n",
    "> Trump : 45-th president\n"
   ]
  },
  {
   "cell_type": "markdown",
   "id": "1a13bd1e",
   "metadata": {},
   "source": [
    "def total(*numbers):   \n",
    "    sum = 0   \n",
    "    for n in numbers:   \n",
    "        sum += n   \n",
    "    return sum\n",
    "\n",
    "print(total(1,2,3))\n",
    "> 6\n",
    "\n",
    "print(total(1,2,3,4,5))\n",
    "> 15\n",
    "\n",
    "def dicPresident(**keywords):   \n",
    "    for i in keywords.keys():   \n",
    "        print(\"%s : %d-th president\" % (i, keywords[i]))\n",
    "\n",
    "dicPresident(Kennedy=35, Obama=44, Trump=45)\n",
    "> Kennedy : 35-th president   \n",
    "> Obama : 44-th president   \n",
    "> Trump : 45-th president\n"
   ]
  },
  {
   "cell_type": "code",
   "execution_count": null,
   "id": "83b12dc4",
   "metadata": {},
   "outputs": [],
   "source": [
    "def func(a, b=2, c=3):  # a: 위치 매개변수, b, c: 기본값이 있는 키워드 매개변수\n",
    "    print('a=', a, 'b=', b, 'c=', c)\n",
    "    return a + b + c\n",
    "\n",
    "print(func(4, 5))        # 위치 인자 전달, a=4, b=5, c는 기본값 사용\n",
    "print(func(5, c=7))      # 키워드 인자 전달, a=5, c=7, b는 기본값 사용"
   ]
  },
  {
   "cell_type": "markdown",
   "id": "0e8a163d",
   "metadata": {},
   "source": [
    "def func(a, b=2, c=3):   \n",
    "    print('a=', a, 'b=', b, 'c=', c)   \n",
    "    return a + b + c\n",
    "\n",
    "print(func(4, 5))\n",
    "> a= 4 b= 5 c= 3   \n",
    "> 12\n",
    "\n",
    "print(func(5, c=7))\n",
    "> a= 5 b= 2 c= 7   \n",
    "> 14\n"
   ]
  },
  {
   "cell_type": "markdown",
   "id": "549d7f1a",
   "metadata": {},
   "source": [
    "#### 람다(lambda) 함수"
   ]
  },
  {
   "cell_type": "markdown",
   "id": "e2dfa573",
   "metadata": {},
   "source": [
    "이름이없는한줄짜리함수"
   ]
  },
  {
   "cell_type": "code",
   "execution_count": null,
   "id": "03cb1006",
   "metadata": {},
   "outputs": [],
   "source": [
    "sum = lambda x, y: x + y  # 두 수의 합을 반환하는 lambda 함수\n",
    "\n",
    "print(\"정수의 합 : \", sum(10, 20))  # 10 + 20 계산\n",
    "print(\"정수의 합 : \", sum(20, 20))  # 20 + 20 계산"
   ]
  },
  {
   "cell_type": "markdown",
   "id": "f0290c46",
   "metadata": {},
   "source": [
    "sum = lambda x, y: x + y\n",
    "\n",
    "print(\"정수의 합 : \", sum(10, 20))\n",
    "> 정수의 합 :  30\n",
    "\n",
    "print(\"정수의 합 : \", sum(20, 20))\n",
    "> 정수의 합 :  40\n"
   ]
  },
  {
   "cell_type": "markdown",
   "id": "b41c8d94",
   "metadata": {},
   "source": [
    "#### 재귀 함수"
   ]
  },
  {
   "cell_type": "markdown",
   "id": "13e8c202",
   "metadata": {},
   "source": [
    "함수내에서자기자신을호출하는함수   \n",
    "같은동작을반복할때재귀함수사용   \n",
    "함수가종료되는조건을반드시포함해야한다"
   ]
  },
  {
   "cell_type": "code",
   "execution_count": null,
   "id": "a65b3d53",
   "metadata": {},
   "outputs": [],
   "source": [
    "def fact(n):\n",
    "    if n == 1:          # 재귀 종료 조건\n",
    "        return 1\n",
    "    else:\n",
    "        return n * fact(n - 1)  # n! = n * (n-1)!\n",
    "\n",
    "print(fact(5))          # 5! 계산"
   ]
  },
  {
   "cell_type": "markdown",
   "id": "fd5b1485",
   "metadata": {},
   "source": [
    "def fact(n):   \n",
    "    if n == 1:   \n",
    "        return 1   \n",
    "    else:   \n",
    "        return n * fact(n - 1)\n",
    "\n",
    "print(fact(5))\n",
    "> 120"
   ]
  },
  {
   "cell_type": "markdown",
   "id": "aa5d3673",
   "metadata": {},
   "source": [
    "#### 내장 함수"
   ]
  },
  {
   "cell_type": "code",
   "execution_count": null,
   "id": "0f0a9fa4",
   "metadata": {},
   "outputs": [],
   "source": [
    "eval('1+2*3')  # 문자열로 된 수식을 계산"
   ]
  },
  {
   "cell_type": "markdown",
   "id": "6da0a131",
   "metadata": {},
   "source": [
    "eval('1+2*3')\n",
    "> 7"
   ]
  },
  {
   "cell_type": "code",
   "execution_count": null,
   "id": "0ca6c4d8",
   "metadata": {},
   "outputs": [],
   "source": [
    "int('123')         # 문자열 '123'을 10진 정수로 변환\n",
    "int('1010', 2)     # 문자열 '1010'을 2진수로 해석하여 10진수로 변환"
   ]
  },
  {
   "cell_type": "markdown",
   "id": "c10a89eb",
   "metadata": {},
   "source": [
    "int('123')\n",
    "> 123\n",
    "\n",
    "int('1010', 2)\n",
    "> 10\n"
   ]
  },
  {
   "cell_type": "code",
   "execution_count": null,
   "id": "2008c395",
   "metadata": {},
   "outputs": [],
   "source": [
    "list(filter(lambda x: len(x) > 2, ['this', 'is', 'a', 'test']))\n",
    "# 길이가 2보다 큰 문자열 요소만 필터링하여 새로운 리스트 생성"
   ]
  },
  {
   "cell_type": "markdown",
   "id": "250e2954",
   "metadata": {},
   "source": [
    "list(filter(lambda x: len(x) > 2, ['this', 'is', 'a', 'test']))\n",
    "> ['this', 'test']\n"
   ]
  },
  {
   "cell_type": "code",
   "execution_count": null,
   "id": "1a680e26",
   "metadata": {},
   "outputs": [],
   "source": [
    "def Squares(n):\n",
    "    return n**2  # 입력값 n의 제곱 반환\n",
    "\n",
    "numbers = [1, 3, 5, 9]\n",
    "list(map(Squares, numbers))\n",
    "# numbers 리스트의 각 요소를 Squares 함수에 적용하여 새로운 리스트 생성"
   ]
  },
  {
   "cell_type": "markdown",
   "id": "e55368af",
   "metadata": {},
   "source": [
    "def Squares(n):   \n",
    "    return n**2\n",
    "\n",
    "numbers = [1, 3, 5, 9]   \n",
    "list(map(Squares, numbers))\n",
    "> [1, 9, 25, 81]\n"
   ]
  },
  {
   "cell_type": "markdown",
   "id": "b89c5a59",
   "metadata": {},
   "source": [
    "ord  (반대: chr)   \n",
    "Ch에 대한ASCII 코드 반환 ord('A') → 65"
   ]
  },
  {
   "cell_type": "markdown",
   "id": "3379ceca",
   "metadata": {},
   "source": [
    "repr   \n",
    "obj를 문자열로 변환 repr(b'0011') → \"b'0011’”"
   ]
  },
  {
   "cell_type": "code",
   "execution_count": null,
   "id": "394051ab",
   "metadata": {},
   "outputs": [],
   "source": [
    "round(12.345, 1)  # 소수점 첫째 자리까지 반올림\n",
    "round(12.345, 2)  # 소수점 둘째 자리까지 반올림"
   ]
  },
  {
   "cell_type": "markdown",
   "id": "b3e9e450",
   "metadata": {},
   "source": [
    "round(12.345, 1)\n",
    "> 12.3\n",
    "\n",
    "round(12.345, 2)\n",
    "> 12.35"
   ]
  },
  {
   "cell_type": "code",
   "execution_count": null,
   "id": "5466c396",
   "metadata": {},
   "outputs": [],
   "source": [
    "names = ['Peter Parker', 'Clark Kent', 'Wade Wilson', 'Bruce Wayne']\n",
    "heroes = ['Spiderman', 'Superman', 'Deadpool', 'Batman']\n",
    "\n",
    "for name, hero in zip(names, heroes):  # 두 리스트를 순회하며 각각의 요소를 튜플로 묶음\n",
    "    print(f'{name} is actually {hero}')  # 각 이름과 히어로 이름 출력\n",
    "\n",
    "list(zip(names, heroes))  # 두 리스트의 요소를 튜플로 묶어 리스트 생성"
   ]
  },
  {
   "cell_type": "markdown",
   "id": "d56533e8",
   "metadata": {},
   "source": [
    "names = ['Peter Parker', 'Clark Kent', 'Wade Wilson','Bruce Wayne']    \n",
    "heroes = ['Spiderman', 'Superman', 'Deadpool', 'Batman']\n",
    "\n",
    "for name, hero in zip(names, heroes):   \n",
    "    print(f'{name} is actually {hero}')\n",
    "> Peter Parker is actually Spiderman   \n",
    "> Clark Kent is actually Superman   \n",
    "> Wade Wilson is actually Deadpool   \n",
    "> Bruce Wayne is actually Batman\n",
    "\n",
    "list(zip(names, heroes))\n",
    "> [('Peter Parker', 'Spiderman'), ('Clark Kent', 'Superman'), ('Wade Wilson', 'Deadpool'), ('Bruce Wayne', 'Batman')]\n"
   ]
  },
  {
   "cell_type": "markdown",
   "id": "af80be40",
   "metadata": {},
   "source": [
    "#### 명시적 타입 습관"
   ]
  },
  {
   "cell_type": "code",
   "execution_count": null,
   "id": "38dad971",
   "metadata": {},
   "outputs": [],
   "source": [
    "def add(a, b):  # 두 수를 더하는 함수\n",
    "    return a + b\n",
    "\n",
    "def greet(name):  # 이름을 받아 인사 문자열 반환\n",
    "    return f\"Hello, {name}!\"\n",
    "\n",
    "def get_list():  # 고정된 리스트 반환\n",
    "    return [1, 2, 3]\n",
    "\n",
    "# 타입 힌트를 포함한 함수 정의\n",
    "def add(a: int, b: int) -> int:  # a, b는 정수, 반환값도 정수\n",
    "    return a + b\n",
    "\n",
    "def greet(name: str) -> str:  # name은 문자열, 반환값도 문자열\n",
    "    return f\"Hello, {name}!\"\n",
    "\n",
    "def get_list() -> list:  # 반환값은 리스트\n",
    "    return [1, 2, 3]"
   ]
  },
  {
   "cell_type": "markdown",
   "id": "19c59871",
   "metadata": {},
   "source": [
    "def add(a, b):\n",
    "    return a + b\n",
    "> \n",
    "\n",
    "def greet(name):\n",
    "    return f\"Hello, {name}!\"\n",
    "> \n",
    "\n",
    "def get_list():\n",
    "    return [1, 2, 3]\n",
    "> \n",
    "\n",
    "def add(a: int, b: int) -> int:\n",
    "    return a + b\n",
    "> \n",
    "\n",
    "def greet(name: str) -> str:\n",
    "    return f\"Hello, {name}!\"\n",
    "> \n",
    "\n",
    "def get_list() -> list:\n",
    "    return [1, 2, 3]\n",
    "> "
   ]
  }
 ],
 "metadata": {
  "language_info": {
   "name": "python"
  }
 },
 "nbformat": 4,
 "nbformat_minor": 5
}
