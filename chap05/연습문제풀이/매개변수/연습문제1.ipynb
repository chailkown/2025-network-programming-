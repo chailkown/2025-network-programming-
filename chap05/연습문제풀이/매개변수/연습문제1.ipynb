{
 "cells": [
  {
   "cell_type": "markdown",
   "id": "8019bd70",
   "metadata": {},
   "source": [
    "## 5장 연습문제 풀이\n",
    "\n",
    "이 파일은 5장 연습문제 풀이 내용을 정리한 내용입니다.\n",
    "\n",
    "날짜 : 2025 - 09 - 17\n",
    "\n",
    "저자 : 차일권\n",
    "\n",
    "학번 : 202111467"
   ]
  },
  {
   "cell_type": "markdown",
   "id": "aa15b165",
   "metadata": {},
   "source": [
    "1. 두개의매개변수n, m을전달받아m x n개의*     상자를출력하는프로그램을함수로작성   \n",
    "예: 2, 4 → **** ****"
   ]
  },
  {
   "cell_type": "code",
   "execution_count": null,
   "id": "82ba8381",
   "metadata": {},
   "outputs": [],
   "source": [
    "def box(n, m):           # n 가로 길이, m 세로 길이\n",
    "    for i in range(m):   # 세로 방향으로 반복\n",
    "        print('*' * n)  # 한 줄에 * n개 출력\n",
    "\n",
    "box(2,4)                 # 가로 2 세로 4 크기의 사각형 출력"
   ]
  },
  {
   "cell_type": "markdown",
   "id": "bcd642a0",
   "metadata": {},
   "source": [
    "def box(n, m):   \n",
    "    for i in range(m):   \n",
    "        print('*' * n)\n",
    "> \n",
    "\n",
    "box(2,4)\n",
    "> **   \n",
    "> **   \n",
    "> **   \n",
    "> **\n"
   ]
  }
 ],
 "metadata": {
  "kernelspec": {
   "display_name": "Python 3",
   "language": "python",
   "name": "python3"
  },
  "language_info": {
   "codemirror_mode": {
    "name": "ipython",
    "version": 3
   },
   "file_extension": ".py",
   "mimetype": "text/x-python",
   "name": "python",
   "nbconvert_exporter": "python",
   "pygments_lexer": "ipython3",
   "version": "3.12.9"
  }
 },
 "nbformat": 4,
 "nbformat_minor": 5
}
