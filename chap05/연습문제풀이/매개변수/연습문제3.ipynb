{
 "cells": [
  {
   "cell_type": "markdown",
   "id": "c1e8683d",
   "metadata": {},
   "source": [
    "## 5장 연습문제 풀이\n",
    "\n",
    "이 파일은 5장 연습문제 풀이 내용을 정리한 내용입니다.\n",
    "\n",
    "날짜 : 2025 - 09 - 17\n",
    "\n",
    "저자 : 차일권\n",
    "\n",
    "학번 : 202111467"
   ]
  },
  {
   "cell_type": "markdown",
   "id": "ed25c923",
   "metadata": {},
   "source": [
    "두개의문자열이서로다른처음위치를반환하는함수를작성.       두개의문자열이같으면-1을 반환"
   ]
  },
  {
   "cell_type": "code",
   "execution_count": null,
   "id": "c18ec148",
   "metadata": {},
   "outputs": [],
   "source": [
    "def find(a: str, b: str):\n",
    "    lens = min(len(a), len(b))       # 두 문자열 중 짧은 길이\n",
    "\n",
    "    for i in range(lens):\n",
    "        if a[i] != b[i]:            # 다른 문자를 찾으면\n",
    "            return i+1              # 위치 1부터 시작 반환\n",
    "    \n",
    "    if len(a) != len(b):            # 길이가 다르면\n",
    "        return lens+1               # 다른 위치는 길이+1\n",
    "\n",
    "    return -1                        # 두 문자열이 완전히 같으면 -1 반환\n",
    "\n",
    "print(f\"두개의 다른 위치: {find('apple', 'apple')}\")\n",
    "print(f\"두개의 다른 위치: {find('appley', 'apple')}\")\n",
    "print(f\"두개의 다른 위치: {find('asple', 'apple')}\")"
   ]
  },
  {
   "cell_type": "markdown",
   "id": "af3238eb",
   "metadata": {},
   "source": [
    "def find(a: str, b: str):   \n",
    "    lens = min(len(a), len(b))\n",
    "    \n",
    "    for i in range(lens):\n",
    "        if a[i] != b[i]:   \n",
    "            return i+1\n",
    "    \n",
    "    if len(a) != len(b):   \n",
    "        return lens+1\n",
    "\n",
    "    return -1   \n",
    "\n",
    "print(f\"두개의 다른 위치: {find('apple', 'apple')}\")\n",
    "> 두개의 다른 위치: -1\n",
    "\n",
    "print(f\"두개의 다른 위치: {find('appley', 'apple')}\")\n",
    "> 두개의 다른 위치: 6\n",
    "\n",
    "print(f\"두개의 다른 위치: {find('asple', 'apple')}\")\n",
    "> 두개의 다른 위치: 2\n"
   ]
  }
 ],
 "metadata": {
  "kernelspec": {
   "display_name": "Python 3",
   "language": "python",
   "name": "python3"
  },
  "language_info": {
   "codemirror_mode": {
    "name": "ipython",
    "version": 3
   },
   "file_extension": ".py",
   "mimetype": "text/x-python",
   "name": "python",
   "nbconvert_exporter": "python",
   "pygments_lexer": "ipython3",
   "version": "3.12.9"
  }
 },
 "nbformat": 4,
 "nbformat_minor": 5
}
