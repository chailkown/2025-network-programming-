{
 "cells": [
  {
   "cell_type": "markdown",
   "id": "413331bb",
   "metadata": {},
   "source": [
    "## 5장 연습문제 풀이\n",
    "\n",
    "이 파일은 5장 연습문제 풀이 내용을 정리한 내용입니다.\n",
    "\n",
    "날짜 : 2025 - 09 - 17\n",
    "\n",
    "저자 : 차일권\n",
    "\n",
    "학번 : 202111467"
   ]
  },
  {
   "cell_type": "markdown",
   "id": "093b6182",
   "metadata": {},
   "source": [
    "숫자를전달받아그수의약수를리스트로반환하는함수를작성"
   ]
  },
  {
   "cell_type": "code",
   "execution_count": null,
   "id": "3e0e6f63",
   "metadata": {},
   "outputs": [],
   "source": [
    "def lists(a: int):\n",
    "    s = []                  # 약수를 저장할 빈 리스트 생성\n",
    "    for i in range(1, a+1): # 1부터 a까지 반복\n",
    "        if a % i == 0:       # i가 a의 약수이면\n",
    "            s.append(i)      # 리스트에 추가\n",
    "    return s                 # 리스트 반환\n",
    "\n",
    "print(f\"약수의 리스트: {lists(10)}\")\n"
   ]
  },
  {
   "cell_type": "markdown",
   "id": "d91b0571",
   "metadata": {},
   "source": [
    "def lists(a: int):   \n",
    "    s = []   \n",
    "    for i in range(1, a+1):   \n",
    "        if a % i == 0:   \n",
    "            s.append(i)   \n",
    "    return s\n",
    "\n",
    "print(f\"약수의 리스트: {lists(10)}\")\n",
    "> 약수의 리스트: [1, 2, 5, 10]\n"
   ]
  }
 ],
 "metadata": {
  "kernelspec": {
   "display_name": "Python 3",
   "language": "python",
   "name": "python3"
  },
  "language_info": {
   "codemirror_mode": {
    "name": "ipython",
    "version": 3
   },
   "file_extension": ".py",
   "mimetype": "text/x-python",
   "name": "python",
   "nbconvert_exporter": "python",
   "pygments_lexer": "ipython3",
   "version": "3.12.9"
  }
 },
 "nbformat": 4,
 "nbformat_minor": 5
}
