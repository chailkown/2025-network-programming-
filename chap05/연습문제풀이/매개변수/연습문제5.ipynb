{
 "cells": [
  {
   "cell_type": "markdown",
   "id": "6f0cfc2d",
   "metadata": {},
   "source": [
    "## 5장 연습문제 풀이\n",
    "\n",
    "이 파일은 5장 연습문제 풀이 내용을 정리한 내용입니다.\n",
    "\n",
    "날짜 : 2025 - 09 - 17\n",
    "\n",
    "저자 : 차일권\n",
    "\n",
    "학번 : 202111467"
   ]
  },
  {
   "cell_type": "markdown",
   "id": "69fca645",
   "metadata": {},
   "source": [
    "문자열과하나의문자를전달받아문자열에서문자의위치를모두찾아리스트로반환하는함수\n",
    "를작성"
   ]
  },
  {
   "cell_type": "code",
   "execution_count": 4,
   "id": "b468799f",
   "metadata": {},
   "outputs": [
    {
     "name": "stdout",
     "output_type": "stream",
     "text": [
      "문자의 위치 리스트: [2, 4, 6]\n"
     ]
    }
   ],
   "source": [
    "def finds(a: str,b: str ):\n",
    "    s = []\n",
    "    i = 0\n",
    "\n",
    "    for _ in a:\n",
    "        i = i+1\n",
    "        if b == _:\n",
    "            s.append(i)\n",
    "    return s\n",
    "\n",
    "print(f\"문자의 위치 리스트: {finds('banana','a')}\")"
   ]
  },
  {
   "cell_type": "markdown",
   "id": "6c8cd7ff",
   "metadata": {},
   "source": [
    "def finds(a: str, b: str):   \n",
    "    s = []   \n",
    "    i = 0   \n",
    "\n",
    "    for _ in a:   \n",
    "        i = i + 1   \n",
    "        if b == _:   \n",
    "            s.append(i)   \n",
    "    return s\n",
    "\n",
    "print(f\"문자의 위치 리스트: {finds('banana','a')}\")\n",
    "> 문자의 위치 리스트: [2, 4, 6]\n"
   ]
  }
 ],
 "metadata": {
  "kernelspec": {
   "display_name": "Python 3",
   "language": "python",
   "name": "python3"
  },
  "language_info": {
   "codemirror_mode": {
    "name": "ipython",
    "version": 3
   },
   "file_extension": ".py",
   "mimetype": "text/x-python",
   "name": "python",
   "nbconvert_exporter": "python",
   "pygments_lexer": "ipython3",
   "version": "3.12.9"
  }
 },
 "nbformat": 4,
 "nbformat_minor": 5
}
