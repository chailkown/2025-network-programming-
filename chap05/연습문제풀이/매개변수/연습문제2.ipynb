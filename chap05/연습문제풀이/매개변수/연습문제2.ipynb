{
 "cells": [
  {
   "cell_type": "markdown",
   "id": "9b749208",
   "metadata": {},
   "source": [
    "## 5장 연습문제 풀이\n",
    "\n",
    "이 파일은 5장 연습문제 풀이 내용을 정리한 내용입니다.\n",
    "\n",
    "날짜 : 2025 - 09 - 17\n",
    "\n",
    "저자 : 차일권\n",
    "\n",
    "학번 : 202111467"
   ]
  },
  {
   "cell_type": "markdown",
   "id": "a35b179a",
   "metadata": {},
   "source": [
    "하나의숫자를전달받아숫자의자리합을구하는함수를작성   \n",
    "예: 123 → 1+2+3 = 6"
   ]
  },
  {
   "cell_type": "code",
   "execution_count": 9,
   "id": "31a9d509",
   "metadata": {},
   "outputs": [
    {
     "name": "stdout",
     "output_type": "stream",
     "text": [
      "24\n"
     ]
    }
   ],
   "source": [
    "def one(n: str):\n",
    "    s = 0\n",
    "    for i in n:            # 문자열 n의 각 문자에 대해 반복\n",
    "        s += int(i)        # 문자를 정수로 변환 후 합산\n",
    "    return s\n",
    "\n",
    "result = one('888')        # '123'의 각 자리수 합 계산\n",
    "print(result)              # 합계 출력  6\n"
   ]
  },
  {
   "cell_type": "markdown",
   "id": "b95e6a73",
   "metadata": {},
   "source": [
    "def one(n: str):   \n",
    "    s = 0   \n",
    "    for i in n:   \n",
    "        s += int(i)   \n",
    "    return s   \n",
    "\n",
    "result = one('888')   \n",
    "print(result)\n",
    "> 24"
   ]
  }
 ],
 "metadata": {
  "kernelspec": {
   "display_name": "Python 3",
   "language": "python",
   "name": "python3"
  },
  "language_info": {
   "codemirror_mode": {
    "name": "ipython",
    "version": 3
   },
   "file_extension": ".py",
   "mimetype": "text/x-python",
   "name": "python",
   "nbconvert_exporter": "python",
   "pygments_lexer": "ipython3",
   "version": "3.12.9"
  }
 },
 "nbformat": 4,
 "nbformat_minor": 5
}
