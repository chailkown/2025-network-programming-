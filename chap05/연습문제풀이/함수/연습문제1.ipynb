{
 "cells": [
  {
   "cell_type": "markdown",
   "id": "8380902e",
   "metadata": {},
   "source": [
    "## 5장 연습문제 풀이\n",
    "\n",
    "이 파일은 5장 연습문제 풀이 내용을 정리한 내용입니다.\n",
    "\n",
    "날짜 : 2025 - 09 - 17\n",
    "\n",
    "저자 : 차일권\n",
    "\n",
    "학번 : 202111467"
   ]
  },
  {
   "cell_type": "markdown",
   "id": "2c93c9a4",
   "metadata": {},
   "source": [
    "반지름을전달하면원의면적을반환하는cir_area(r) 함수와   \n",
    "원의둘레를반환하는cir_cirm(r) 함수를 작성하라. 이들함수를   \n",
    "이용하여반지름이3.5cm인원의면적과둘레를소수점아래   \n",
    "첫자리까지구하라."
   ]
  },
  {
   "cell_type": "code",
   "execution_count": null,
   "id": "ced5a4bb",
   "metadata": {},
   "outputs": [],
   "source": [
    "import math\n",
    "\n",
    "def cir_area(r):\n",
    "    \"반지름(r)을 입력받아 원의 면적을 반환\"\n",
    "    return math.pi * r**2\n",
    "\n",
    "def cir_cirm(r):\n",
    "    \"반지름(r)을 입력받아 원의 둘레를 반환\"\n",
    "    return 2 * math.pi * r\n",
    "\n",
    "radius = 3.5                # 반지름 설정\n",
    "\n",
    "area = cir_area(radius)     # 원의 면적 계산\n",
    "print(f\"반지름이 {radius}cm인 원의 면적: {area:.1f}cm²\")\n",
    "\n",
    "circumference = cir_cirm(radius)  # 원의 둘레 계산\n",
    "print(f\"반지름이 {radius}cm인 원의 둘레: {circumference:.1f}cm\")"
   ]
  },
  {
   "cell_type": "markdown",
   "id": "6e07af6c",
   "metadata": {},
   "source": [
    "import math\n",
    "\n",
    "def cir_area(r):   \n",
    "    return math.pi * r**2   \n",
    "\n",
    "def cir_cirm(r):   \n",
    "    return 2 * math.pi * r\n",
    "\n",
    "radius = 3.5\n",
    "\n",
    "area = cir_area(radius)   \n",
    "print(f\"반지름이 {radius}cm인 원의 면적: {area:.1f}cm²\")   \n",
    "> 반지름이 3.5cm인 원의 면적: 38.5cm²\n",
    "\n",
    "circumference = cir_cirm(radius)   \n",
    "print(f\"반지름이 {radius}cm인 원의 둘레: {circumference:.1f}cm\")\n",
    "> 반지름이 3.5cm인 원의 둘레: 22.0cm"
   ]
  }
 ],
 "metadata": {
  "language_info": {
   "name": "python"
  }
 },
 "nbformat": 4,
 "nbformat_minor": 5
}
