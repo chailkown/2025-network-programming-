{
 "cells": [
  {
   "cell_type": "markdown",
   "id": "231855b9",
   "metadata": {},
   "source": [
    "## 5장 연습문제 풀이\n",
    "\n",
    "이 파일은 5장 연습문제 풀이 내용을 정리한 내용입니다.\n",
    "\n",
    "날짜 : 2025 - 09 - 17\n",
    "\n",
    "저자 : 차일권\n",
    "\n",
    "학번 : 202111467"
   ]
  },
  {
   "cell_type": "markdown",
   "id": "723b7cb5",
   "metadata": {},
   "source": [
    "재귀함수를이용하여1부터100까지의합을계산하는프로그램"
   ]
  },
  {
   "cell_type": "code",
   "execution_count": null,
   "id": "9e69b16e",
   "metadata": {},
   "outputs": [
    {
     "name": "stdout",
     "output_type": "stream",
     "text": [
      "5050\n"
     ]
    }
   ],
   "source": [
    "def re(n: int):\n",
    "    if n == 1:          # 종료 조건: n이 1이면 1 반환\n",
    "        return 1\n",
    "    else:               # 재귀 호출: n + re(n-1)\n",
    "        return n + re(n-1)\n",
    "\n",
    "print(re(100))          # 1부터 100까지 합 (5050) 출력\n"
   ]
  },
  {
   "cell_type": "markdown",
   "id": "1943f1d1",
   "metadata": {},
   "source": [
    "def re(n: int):   \n",
    "    if n == 1:   \n",
    "        return 1   \n",
    "    else:   \n",
    "        return n + re(n-1)\n",
    "\n",
    "print(re(100))\n",
    "> 5050"
   ]
  }
 ],
 "metadata": {
  "kernelspec": {
   "display_name": "Python 3",
   "language": "python",
   "name": "python3"
  },
  "language_info": {
   "codemirror_mode": {
    "name": "ipython",
    "version": 3
   },
   "file_extension": ".py",
   "mimetype": "text/x-python",
   "name": "python",
   "nbconvert_exporter": "python",
   "pygments_lexer": "ipython3",
   "version": "3.12.9"
  }
 },
 "nbformat": 4,
 "nbformat_minor": 5
}
