{
 "cells": [
  {
   "cell_type": "markdown",
   "id": "0d1df76a",
   "metadata": {},
   "source": [
    "## 6장 노트정리\n",
    "\n",
    "이 파일은 6장을 학습한 내용을 정리한 내용입니다.\n",
    "\n",
    "날짜 : 2025 - 09 - 24\n",
    "\n",
    "저자 : 차일권\n",
    "\n",
    "학번 : 202111467"
   ]
  },
  {
   "cell_type": "markdown",
   "id": "85b872c2",
   "metadata": {},
   "source": [
    "#### 객체지향 프로그래밍"
   ]
  },
  {
   "cell_type": "markdown",
   "id": "010a011e",
   "metadata": {},
   "source": [
    "##### 기본 구조\n",
    "OOP: 클래스를 정의하고, 이로부터 객체(인스턴스)를 생성하여 작성한 프로그램\n",
    "\n",
    "클래스: 객체의 속성과 함수를 정의하는 틀 \n",
    "\n",
    "객체: 클래스로부터 생성된 실체\n",
    "\n",
    "메소드: 클래스의 동작을 나타내는 함수\n",
    "\n",
    "##### 주요 특징\n",
    "상속: 클래스는 다른 클래스로부터 속성과 메소드를 물려받을 수 있음\n",
    "\n",
    "상속 클래스는 부모에 없는 속성과 메소드를 추가로 가질 수 있음\n",
    "\n",
    "객체는 클래스의 속성과 메소드를 가짐\n",
    "\n",
    "일반 변수처럼 함수의 인자로 함수에서 반환 값으로 튜플이나 딕셔너리의 요소로 사용됨"
   ]
  },
  {
   "cell_type": "markdown",
   "id": "0d4cc26d",
   "metadata": {},
   "source": [
    "#### 클래스 정의"
   ]
  },
  {
   "cell_type": "markdown",
   "id": "453fc712",
   "metadata": {},
   "source": [
    "##### 기본 형식\n",
    "Python\n",
    "\n",
    "class 클래스이름(부모클래스):\n",
    "    클래스 몸체\n",
    "\n",
    "##### 핵심 요소\n",
    "class 키워드: 클래스를 정의할 때 반드시 사용\n",
    "\n",
    "클래스이름: 정의하려는 클래스의 이름\n",
    "\n",
    "부모클래스: 상속받을 클래스 이름. 부모클래스가 없으면 생략 가능.\n",
    "\n",
    "클래스 몸체: 변수와 함수로 구성됨."
   ]
  },
  {
   "cell_type": "markdown",
   "id": "9dd4c039",
   "metadata": {},
   "source": [
    "##### 인스턴스 변수 (self.variable)\n",
    "\n",
    "self.를 붙여 정의한 변수\n",
    "\n",
    "클래스 전체에서 유효\n",
    "\n",
    "클래스 속성은 인스턴스 변수로 정의함\n",
    "\n",
    "##### 지역 변수 (variable)\n",
    "\n",
    "self.가 없는 변수\n",
    "\n",
    "해당 메소드 내에서만 유효"
   ]
  },
  {
   "cell_type": "code",
   "execution_count": null,
   "id": "604e2af0",
   "metadata": {},
   "outputs": [],
   "source": [
    "class Car : # 클래스 정의\n",
    "    def __init__(self, color, speed): # 초기화 메소드 정의 생성 시 자동 호출됨\n",
    "        # self는 생성되는 객체 자신을 가리킴\n",
    "        self.color = color   # 인스턴스 변수 정의 \n",
    "        self.speed = speed   \n",
    "        \n",
    "    def speedUp(self, v): # 속도를 올리는 동작을 정의하는 메소드\n",
    "        # 메소드의 첫 번째 매개변수는 항상 self\n",
    "        self.speed = self.speed + v # 인스턴스 변수의 값을 변경\n",
    "        return self.speed\n",
    "        \n",
    "    def speedDown(self, v): # 속도를 내리는 동작을 정의하는 메소드\n",
    "        self.speed = self.speed - v # 다른 메소드에서 정의된 변수에 접근\n",
    "        return self.speed"
   ]
  },
  {
   "cell_type": "markdown",
   "id": "acff3464",
   "metadata": {},
   "source": [
    "#### 자동 실행 메소드\n",
    "객체를 생성할 때(인스턴스화 시) 자동으로 실행됨\n",
    "\n",
    "주로 인스턴스 변수를 초기화할 때 사용\n",
    "\n",
    "첫 번째 매개변수로 self를 가짐\n",
    "\n",
    "self는 생성되는 클래스 객체 자신을 나타냄\n",
    "\n",
    "초기화된 인스턴스 변수는 클래스 내부의 모든 메소드에서 사용 가능\n",
    "\n"
   ]
  },
  {
   "cell_type": "code",
   "execution_count": null,
   "id": "374c5b8b",
   "metadata": {},
   "outputs": [],
   "source": [
    "class Car :\n",
    "    def __init__(self, color, speed):\n",
    "        self.color = color # 인스턴스 변수 초기화\n",
    "        self.speed = speed # 인스턴스 변수 초기화"
   ]
  },
  {
   "cell_type": "code",
   "execution_count": null,
   "id": "0b6dfcc1",
   "metadata": {},
   "outputs": [],
   "source": [
    "class Car:\n",
    "    def __init__(self, color, speed):\n",
    "        # 인스턴스 변수 초기화\n",
    "        self.color = color\n",
    "        self.speed = speed\n",
    "\n",
    "    def speedup(self, v):\n",
    "        # 속도를 v 만큼 증가\n",
    "        self.speed += v\n",
    "        return self.speed\n",
    "\n",
    "    def speeddown(self, v):\n",
    "        # 속도를 v 만큼 감소\n",
    "        self.speed -= v\n",
    "        return self.speed\n",
    "\n",
    "\n",
    "# Car 객체 생성\n",
    "mycar = Car('Black', 60)  # 초기 색상=Black, 속도=60\n",
    "print('색상:', mycar.color, '속도:', mycar.speed)  \n",
    "\n",
    "# 속성 변경\n",
    "mycar.color = \"Red\"       # 색상 변경\n",
    "print('색상:', mycar.color)\n",
    "\n",
    "# 메소드 호출\n",
    "mycar.speedup(10)         # 속도 10 증가\n",
    "print('속도:', mycar.speed)\n",
    "\n",
    "mycar.speeddown(20)       # 속도 20 감소\n",
    "print('속도:', mycar.speed)"
   ]
  },
  {
   "cell_type": "markdown",
   "id": "696ea650",
   "metadata": {},
   "source": [
    "mycar = Car('Black', 60)   \n",
    "print('색상:', mycar.color, '속도:', mycar.speed)   \n",
    "> 색상: Black 속도: 60\n",
    "\n",
    "mycar.color = \"Red\"   \n",
    "print('색상:', mycar.color)   \n",
    "> 색상: Red\n",
    " \n",
    "mycar.speedup(10)   \n",
    "print('속도:', mycar.speed)   \n",
    "> 속도: 70\n",
    "\n",
    "mycar.speeddown(20)   \n",
    "print('속도:', mycar.speed)\n",
    "> 속도: 50\n"
   ]
  },
  {
   "cell_type": "code",
   "execution_count": null,
   "id": "80b66415",
   "metadata": {},
   "outputs": [],
   "source": [
    "class Calc:\n",
    "    count = 0  # 클래스 변수 클래스 전체에서 공유됨\n",
    "\n",
    "    def add(self, a=0, b=0):\n",
    "        # 인스턴스 변수에 값 저장\n",
    "        self.a = a\n",
    "        self.b = b\n",
    "        \n",
    "        self.count += 1\n",
    "        return self.a + self.b\n",
    "\n",
    "    def minus(self, a, b):\n",
    "        if a == 0 or b == 0:\n",
    "            # a 또는 b가 0이면 count 반환\n",
    "            return a - b, self.count\n",
    "        else:\n",
    "            # 뺄셈 \n",
    "            return a - b\n",
    "\n",
    "\n",
    "# 객체 생성\n",
    "obj = Calc()\n",
    "\n",
    "# minus 호출 \n",
    "print(obj.minus(3, 0))  # (3, 0)\n",
    "\n",
    "# minus 호출 \n",
    "print(obj.minus(3, 1))  # 2\n",
    "\n",
    "# add 호출 \n",
    "print(obj.add(1, 2))    # 3\n",
    "\n",
    "# 인스턴스 변수와 클래스 변수 비교\n",
    "print(obj.count, Calc.count)  \n"
   ]
  },
  {
   "cell_type": "markdown",
   "id": "0a2e0c18",
   "metadata": {},
   "source": [
    "obj = Calc()\n",
    "obj.minus(3, 0)\n",
    ">(3, 0)\n",
    "\n",
    "obj.minus(3, 1)\n",
    ">2\n",
    "\n",
    "obj.add(1, 2)\n",
    ">3\n",
    "\n",
    "obj.count, Calc.count\n",
    ">(1, 0)"
   ]
  },
  {
   "cell_type": "markdown",
   "id": "ea447e8b",
   "metadata": {},
   "source": [
    "##### 상속\n",
    "기존에 만든 클래스의 속성과 메소드를 물려받아 새로운 클래스를 만들고 여기에 필요한 기능을 추가하는 기법\n",
    "\n",
    "상위 클래스: 부모 클래스 또는 super class\n",
    "\n",
    "하위 클래스: 자식 클래스 또는 sub class"
   ]
  },
  {
   "cell_type": "code",
   "execution_count": null,
   "id": "d8b889ca",
   "metadata": {},
   "outputs": [],
   "source": [
    "# 부모 클래스 정의\n",
    "class People:\n",
    "    def __init__(self, age=0, name=None):\n",
    "        # 비공개 변수로 선언 \n",
    "        self.__age = age\n",
    "        self.__name = name\n",
    "\n",
    "    def introMe(self):\n",
    "        # 자신의 정보를 출력하는 메서드\n",
    "        print(\"Name:\", self.__name, \"Age:\", str(self.__age))\n",
    "\n",
    "\n",
    "# 자식 클래스 정의 \n",
    "class Teacher(People):\n",
    "    def __init__(self, age=0, name=None, school=None):\n",
    "        # 부모 클래스의 생성자 호출 \n",
    "        super().__init__(age, name)  \n",
    "        # Teacher 고유의 속성\n",
    "        self.school = school\n",
    "\n",
    "    def showSchool(self):\n",
    "        # 소속 학교 출력\n",
    "        print(\"My School is\", self.school)\n",
    "\n",
    "\n",
    "# 객체 생성 및 사용\n",
    "p = People(20, \"홍길동\")\n",
    "p.introMe()\n",
    "\n",
    "t = Teacher(35, \"이순신\", \"서울고등학교\")\n",
    "t.introMe()       # 부모 클래스 메서드 사용 가능\n",
    "t.showSchool()    # 자식 클래스 메서드 사용\n"
   ]
  },
  {
   "cell_type": "markdown",
   "id": "b38134af",
   "metadata": {},
   "source": [
    "#### 다형성"
   ]
  },
  {
   "cell_type": "markdown",
   "id": "b0e38f09",
   "metadata": {},
   "source": [
    "다형성   \n",
    "전달된 인자나 데이터 타입에 따라 함수나 연산의 동작이 달라지는 기능.\n",
    "\n",
    "함수/메소드 다형성   \n",
    "동일한 함수를 호출해도 전달된 객체의 종류에 따라 내부 동작이 달라지는 현상."
   ]
  },
  {
   "cell_type": "code",
   "execution_count": null,
   "id": "e1a50925",
   "metadata": {},
   "outputs": [],
   "source": [
    "# Korean 클래스 정의\n",
    "class Korean(object): \n",
    "    def greeting(self): \n",
    "        print(\"안녕하세요\")  \n",
    "        \n",
    "# American 클래스 정의\n",
    "class American(object): \n",
    "    def greeting(self): \n",
    "        print(\"Hello\")  \n",
    "\n",
    "# 다형성을 이용한 함수\n",
    "def sayhello(people): \n",
    "    #greeting() 메소드만 있으면 호출 가능\n",
    "    people.greeting()\n",
    "    \n",
    "# 객체 생성\n",
    "Kim = Korean()    # Korean 객체\n",
    "John = American() # American 객체\n",
    "\n",
    "# 함수 호출\n",
    "sayhello(Kim)    # Korean의 greeting 실행\n",
    "sayhello(John)   # American의 greeting 실행\n"
   ]
  },
  {
   "cell_type": "markdown",
   "id": "51500048",
   "metadata": {},
   "source": [
    "sayhello(Kim)\n",
    ">안녕하세요\n",
    "\n",
    "sayhello(John)\n",
    ">Hello\n"
   ]
  },
  {
   "cell_type": "markdown",
   "id": "03352d23",
   "metadata": {},
   "source": [
    "#### 가시성"
   ]
  },
  {
   "cell_type": "markdown",
   "id": "b1684e94",
   "metadata": {},
   "source": [
    "파이썬은 C++나 Java와 달리 public, protected, private 같은 접근 제어자를 엄격하게 적용하지 않고 이름 앞의 (_) 개수를 통해 접근 권한을 표현\n",
    "\n",
    "가시성 표현\n",
    "Public (공개) 이름 앞에 밑줄 없음 어디서든 접근 가능\n",
    "\n",
    "Protected (보호) 이름 앞에 밑줄 1개 하위 클래스에서 접근    권장외부에서 직접 접근은 권장하지 않음\n",
    "\n",
    "Private (비공개) 이름 앞에 밑줄 2개 클래스 내부에서만 접근\n",
    "\n"
   ]
  },
  {
   "cell_type": "code",
   "execution_count": null,
   "id": "b1acdd56",
   "metadata": {},
   "outputs": [],
   "source": [
    "# 부모 클래스\n",
    "class Base:\n",
    "    def __init__(self):\n",
    "        self.public_value = 1       # public 변수\n",
    "        self._protected_value = 2   # 접근 가능은 하지만 내부용\n",
    "        self.__private_value = 3    # 외부 접근 불가\n",
    "\n",
    "\n",
    "# 자식 클래스 \n",
    "class Child(Base):\n",
    "    def show(self):\n",
    "        # public, protected는 접근 가능\n",
    "        print(self.public_value)     \n",
    "        print(self._protected_value) \n",
    "        #private은 접근 불가 \n",
    "\n",
    "\n",
    "# 다른 클래스\n",
    "class Other:\n",
    "    def show(self, obj: Base):\n",
    "        # public, protected 접근 가능\n",
    "        print(obj.public_value)     \n",
    "        print(obj._protected_value)  # 가능하지만 권장 X\n",
    "        #private은 접근 불가 "
   ]
  },
  {
   "cell_type": "markdown",
   "id": "405e52c3",
   "metadata": {},
   "source": [
    "child = Child()     \n",
    "child.show()   \n",
    ">1   \n",
    ">2\n",
    "\n",
    "other = Other()   \n",
    "other.show(child)   \n",
    ">1   \n",
    ">2\n"
   ]
  },
  {
   "cell_type": "markdown",
   "id": "aa7bd3d5",
   "metadata": {},
   "source": [
    "#### 추상 함수"
   ]
  },
  {
   "cell_type": "markdown",
   "id": "1de0aaa5",
   "metadata": {},
   "source": [
    "파이썬은 abc 모듈의 ABC (Abstract Base Class)와 @abstractmethod 데코레이터를 사용해 추상 메소드를 정의\n",
    "\n",
    "추상 메소드는 해당 클래스를 상속받는 하위 클래스에서 반드시 구현해야 함\n",
    "\n",
    "추상 메소드를 포함하는 클래스는 직접 객체로 만들 수 없음 \n",
    "\n",
    "객체를 만들려면 먼저 하위 클래스에서 모든 추상 메소드를 구현해야 함"
   ]
  },
  {
   "cell_type": "code",
   "execution_count": null,
   "id": "f1e2a068",
   "metadata": {},
   "outputs": [],
   "source": [
    "from abc import ABC, abstractmethod\n",
    "\n",
    "# 추상 클래스 정의\n",
    "class Animal(ABC):\n",
    "    @abstractmethod\n",
    "    def sound(self):   # 추상 메소드 (자식 클래스에서 반드시 구현해야 함)\n",
    "        pass\n",
    "\n",
    "\n",
    "# 추상 클래스를 상속받는 구체 클래스\n",
    "class Dog(Animal):\n",
    "    def sound(self):   # 추상 메소드 구현\n",
    "        return \"멍멍\"\n",
    "\n",
    "\n",
    "# a = Animal()  #에러 발생 (추상 클래스는 직접 인스턴스화 불가)\n",
    "\n",
    "# 구체 클래스 인스턴스 생성\n",
    "d = Dog()\n",
    "print(d.sound())  "
   ]
  },
  {
   "cell_type": "markdown",
   "id": "11e9f5a4",
   "metadata": {},
   "source": [
    "d = Dog()   \n",
    "print(d.sound())\n",
    ">멍멍"
   ]
  },
  {
   "cell_type": "markdown",
   "id": "a6b68871",
   "metadata": {},
   "source": [
    "#### 정적 변수"
   ]
  },
  {
   "cell_type": "markdown",
   "id": "fcae361c",
   "metadata": {},
   "source": [
    "클래스 전체에서 공유되는 변수\n",
    "\n",
    "클래스의 모든 객체(인스턴스)가 같은 값을 사용\n",
    "\n",
    "클래스 안에 self 없이 일반 변수로 선언\n",
    "\n",
    "클래스이름.변수이름 형태로 접근\n",
    "\n",
    "#### 정적 메소드 \n",
    "@staticmethod 데코레이터를 사용해 정의\n",
    "\n",
    "객체의 상태(인스턴스 변수)에 접근할 필요가 없을 때 사용\n",
    "\n",
    "일반 메소드와 달리 self를 받지 않음\n",
    "\n",
    "객체를 생성하지 않고도 클래스이름.메소드이름() 형태로 호출 가능"
   ]
  },
  {
   "cell_type": "code",
   "execution_count": null,
   "id": "8a4b855c",
   "metadata": {},
   "outputs": [],
   "source": [
    "class Counter:\n",
    "    count = 0   # 클래스 변수 (정적 멤버)\n",
    "\n",
    "    def __init__(self):\n",
    "        # 인스턴스 변수 (private: 이름 앞에 __)\n",
    "        self.__object_counter = 1\n",
    "\n",
    "    @staticmethod\n",
    "    def increment_class():   # 정적 메소드\n",
    "        Counter.count += 1\n",
    "\n",
    "    def increment_object(self):  # 인스턴스 메소드\n",
    "        self.__object_counter += 1\n",
    "\n",
    "    def get_object_counter(self):  # private 변수 읽기용 메소드\n",
    "        return self.__object_counter\n",
    "\n",
    "\n",
    "if __name__ == \"__main__\":\n",
    "    # 클래스 메소드 사용\n",
    "    Counter.increment_class()\n",
    "    print(Counter.count)  \n",
    "\n",
    "    # 인스턴스 생성\n",
    "    c = Counter()\n",
    "    # print(c.__object_counter)   # 직접 접근 불가\n",
    "    print(c.get_object_counter()) # getter 메소드로 접근 가능\n",
    "\n",
    "    # 인스턴스 변수 증가\n",
    "    c.increment_object()\n",
    "    print(c.get_object_counter()) \n"
   ]
  },
  {
   "cell_type": "markdown",
   "id": "090c57ee",
   "metadata": {},
   "source": [
    "Counter.increment_class()    \n",
    "print(Counter.count)  \n",
    ">1\n",
    "\n",
    "c = Counter()    \n",
    "print(c.get_object_counter()) \n",
    ">1\n",
    "  \n",
    "c.increment_object()   \n",
    "print(c.get_object_counter())\n",
    ">1 "
   ]
  },
  {
   "cell_type": "markdown",
   "id": "f0f16b0c",
   "metadata": {},
   "source": [
    "#### Dunder\n",
    "\n",
    "이름 앞뒤에 두 개의 밑줄(__XXX__)이 붙은 메소드를 의미\n",
    "\n",
    "파이썬에서 특별한 의미를 가지며 자동으로 호출되는 경우가 많음\n",
    "\n",
    "재정의 (Override): 이 메소드들을 재정의(오버라이드)하여 특정 상황(객체 생성, 문자열 변환, 연산 등)에서 사용자 정의 코드가 수행되도록 할 수 있음\n",
    "\n",
    "Dunder Methods 예시   \n",
    "__init__(self, ...): 객체가 만들어질 때 자동 실행되는 클래스 생성(초기화) 함수\n",
    "\n",
    "__str__(self): 클래스 객체를 문자열로 형 변환(str(), print())할 때 자동 실행\n",
    "\n",
    "__eq__(self, other): 두 객체가 같은지 여부(== 연산자)를 비교할 때 사용\n",
    "\n",
    "__gt__(self, other): 이 객체가 다른 객체보다 큰지 여부(>  연산자)를 비교할 때 사용\n",
    "\n",
    "dir(object)\n",
    "파이썬의 모든 객체(object)가 기본적으로 가지고 있는 Dunder Methods 목록을 보여줌   \n",
    "['__class__', '__delattr__', '__dir__', '__doc__', '__eq__', '__format__', '__ge__', '__getattribute__', \n",
    "'__getstate__', '__gt__', '__hash__', '__init__', '__init_subclass__', '__le__', '__lt__', '__ne__', '__new__', \n",
    "'__reduce__', '__reduce_ex__', '__repr__', '__setattr__', '__sizeof__', '__str__', '__subclasshook__']\n"
   ]
  },
  {
   "cell_type": "code",
   "execution_count": null,
   "id": "9d131d14",
   "metadata": {},
   "outputs": [],
   "source": [
    "class Student:\n",
    "    def __init__(self, name, age):\n",
    "        self.name = name\n",
    "        self.age = age\n",
    "\n",
    "    def __str__(self):\n",
    "        # print(student) 시 자동 호출됨\n",
    "        return f\"Student(name={self.name}, age={self.age})\"\n",
    "\n",
    "    def __eq__(self, other):\n",
    "        # == 연산자 사용 시 자동 호출됨\n",
    "        if isinstance(other, Student):\n",
    "            return self.name == other.name and self.age == other.age\n",
    "        return False\n",
    "\n",
    "    def __del__(self):\n",
    "        # 객체가 삭제될 때 자동 호출됨\n",
    "        print(f\"Student {self.name} is being deleted\")\n",
    "\n",
    "\n",
    "if __name__ == \"__main__\":\n",
    "    student1 = Student(\"Alice\", 20)\n",
    "    student2 = Student(\"Bob\", 22)\n",
    "    student3 = Student(\"Alice\", 20)\n",
    "\n",
    "    print(student1)   # __str__ 호출\n",
    "    print(student2)   # __str__ 호출\n",
    "    print(student1 == student2)  # __eq__ 호출 \n",
    "    print(student1 == student3)  # __eq__ 호출 \n",
    "    del student1     # __del__ 호출"
   ]
  },
  {
   "cell_type": "markdown",
   "id": "76673d8a",
   "metadata": {},
   "source": [
    "print(student1)   \n",
    ">Student(name=Alice, age=20)\n",
    "\n",
    "print(student2)  \n",
    ">Student(name=Bob, age=22)\n",
    "\n",
    "print(student1 == student2)  \n",
    ">False\n",
    "\n",
    "print(student1 == student3) \n",
    ">True\n",
    "\n",
    "del student1\n",
    ">Student Alice is being deleted     "
   ]
  },
  {
   "cell_type": "markdown",
   "id": "df56b8ff",
   "metadata": {},
   "source": [
    "#### 데코레이터\n",
    "함수나 클래스의 동작을 수정하거나 확장할 때 사용하는 문법\n",
    "\n",
    "함수(또는 메서드) 정의 바로 위에 @데코레이터이름 형태로 사용\n",
    "\n",
    "데코레이터가 적용된 함수가 호출되면 데코레이터 함수 내부에서 해당 함수가 실행됨\n",
    "\n",
    "이는 기존 함수 코드를 수정하지 않고 추가적인 기능(로깅, 권한 확인 등)을 덧씌우는 효과를 줌"
   ]
  }
 ],
 "metadata": {
  "language_info": {
   "name": "python"
  }
 },
 "nbformat": 4,
 "nbformat_minor": 5
}
