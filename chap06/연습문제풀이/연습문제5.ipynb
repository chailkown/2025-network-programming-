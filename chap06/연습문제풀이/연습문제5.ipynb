{
 "cells": [
  {
   "cell_type": "markdown",
   "id": "8e4c0c9f",
   "metadata": {},
   "source": [
    "## 6장 연습문제5\n",
    "\n",
    "이 파일은 6장 연습문제5를 풀이한 내용입니다.\n",
    "\n",
    "날짜 : 2025 - 09 - 24\n",
    "\n",
    "저자 : 차일권\n",
    "\n",
    "학번 : 202111467\n"
   ]
  },
  {
   "cell_type": "markdown",
   "id": "aab2394a",
   "metadata": {},
   "source": [
    "5번 문제: 이 클래스를 이용하여 단가 1000원인 \"mask\"를 10,000장으로 설정하고, 40장 구매가격과 구매후 재고를 출력하라\n"
   ]
  },
  {
   "cell_type": "code",
   "execution_count": null,
   "id": "6f007457",
   "metadata": {},
   "outputs": [],
   "source": [
    "# Articles 클래스 정의 (4번 문제에서 정의한 클래스 사용)\n",
    "class Articles:\n",
    "    def __init__(self, name: str, stock: int, price: int):\n",
    "        # 제품 정보 초기화\n",
    "        self.name = name      # 제품명\n",
    "        self.stock = stock    # 재고수량\n",
    "        self.price = price    # 단가\n",
    "        print(f\"제품 '{name}'이 등록되었습니다. (재고: {stock}개, 단가: {price}원)\")\n",
    "    \n",
    "    def offer_price(self, quantity: int) -> float:\n",
    "        # 구매 수량에 따른 할인가격 계산\n",
    "        if quantity <= 0:\n",
    "            print(\"구매 수량은 1개 이상이어야 합니다.\")\n",
    "            return 0\n",
    "        \n",
    "        total_price = self.price * quantity\n",
    "        \n",
    "        if 1 <= quantity <= 10:\n",
    "            # 1~10개: 정상가격\n",
    "            discount_rate = 0\n",
    "            print(f\"정상가격 적용: {quantity}개 × {self.price}원 = {total_price}원\")\n",
    "        elif 11 <= quantity <= 50:\n",
    "            # 11~50개: 5% 할인\n",
    "            discount_rate = 0.05\n",
    "            total_price = total_price * (1 - discount_rate)\n",
    "            print(f\"5% 할인 적용: {quantity}개 × {self.price}원 × 0.95 = {total_price:.0f}원\")\n",
    "        else:\n",
    "            # 51개 이상: 10% 할인\n",
    "            discount_rate = 0.10\n",
    "            total_price = total_price * (1 - discount_rate)\n",
    "            print(f\"10% 할인 적용: {quantity}개 × {self.price}원 × 0.90 = {total_price:.0f}원\")\n",
    "        \n",
    "        return total_price\n",
    "    \n",
    "    def purchase(self, quantity: int) -> bool:\n",
    "        # 구매 처리 (재고 감소)\n",
    "        if quantity <= 0:\n",
    "            print(\"구매 수량은 1개 이상이어야 합니다.\")\n",
    "            return False\n",
    "        \n",
    "        if self.stock < quantity:\n",
    "            print(f\"재고 부족: 현재 재고 {self.stock}개, 요청 수량 {quantity}개\")\n",
    "            return False\n",
    "        \n",
    "        self.stock -= quantity\n",
    "        print(f\"구매 완료: {quantity}개 구매, 남은 재고: {self.stock}개\")\n",
    "        return True\n",
    "    \n",
    "    def get_info(self) -> str:\n",
    "        # 제품 정보 반환\n",
    "        return f\"제품명: {self.name}, 재고: {self.stock}개, 단가: {self.price}원\"\n",
    "\n",
    "\n",
    "print(\"--- 5번 문제 실행 ---\")\n",
    "# 단가 1000원인 \"mask\"를 10,000장으로 설정\n",
    "mask = Articles(\"mask\", 10000, 1000)\n",
    "\n",
    "print(\"\\n--- 40장 구매가격 계산 ---\")\n",
    "# 40장 구매가격 계산 (11~50개 범위이므로 5% 할인 적용)\n",
    "total_price = mask.offer_price(40)\n",
    "\n",
    "print(f\"\\n--- 40장 구매 처리 ---\")\n",
    "# 40장 구매 처리\n",
    "mask.purchase(40)\n",
    "\n",
    "print(f\"\\n--- 구매 후 재고 현황 ---\")\n",
    "print(mask.get_info())\n"
   ]
  },
  {
   "cell_type": "code",
   "execution_count": null,
   "id": "b76a34ce",
   "metadata": {},
   "outputs": [],
   "source": [
    "# 실행 결과\n",
    "mask = Articles(\"mask\", 10000, 1000)\n",
    "total_price = mask.offer_price(40)\n",
    "mask.purchase(40)\n",
    "print(mask.get_info())\n"
   ]
  }
 ],
 "metadata": {
  "language_info": {
   "name": "python"
  }
 },
 "nbformat": 4,
 "nbformat_minor": 5
}
