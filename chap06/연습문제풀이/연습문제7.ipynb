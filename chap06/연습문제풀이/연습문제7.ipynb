{
 "cells": [
  {
   "cell_type": "markdown",
   "id": "a0e7acb6",
   "metadata": {},
   "source": [
    "## 6장 연습문제7\n",
    "\n",
    "이 파일은 6장 연습문제7을 풀이한 내용입니다.\n",
    "\n",
    "날짜 : 2025 - 09 - 24\n",
    "\n",
    "저자 : 차일권\n",
    "\n",
    "학번 : 202111467\n"
   ]
  },
  {
   "cell_type": "markdown",
   "id": "79b54c44",
   "metadata": {},
   "source": [
    "7번 문제: 다음 Person 클래스를 상속받는 Employee 클래스를 정의하라. Employee 클래스에 employeeID 속성을 추가하고 getID() 메소드를 정의하라. getID() 메소드는 employeeID를 반환하는 메소드이다.\n",
    "\n",
    "Employee 클래스를 이용하여 Employee(\"동양\", 65, 2019)로 생성된 객체의 이름, 나이, ID를 출력하라.\n",
    "\n",
    "```python\n",
    "class Person:\n",
    "    def __init__(self, name, age): \n",
    "        self.name = name \n",
    "        self.age = age \n",
    "    def getName(self): \n",
    "        print(self.name) \n",
    "    def getAge(self): \n",
    "        print(self.age)\n",
    "```\n"
   ]
  },
  {
   "cell_type": "code",
   "execution_count": null,
   "id": "1aa756de",
   "metadata": {},
   "outputs": [],
   "source": [
    "# 부모 클래스 Person 정의\n",
    "class Person:\n",
    "    def __init__(self, name: str, age: int): \n",
    "        self.name = name \n",
    "        self.age = age \n",
    "    \n",
    "    def getName(self): \n",
    "        print(self.name) \n",
    "    \n",
    "    def getAge(self): \n",
    "        print(self.age)\n",
    "\n",
    "\n",
    "# Person 클래스를 상속받는 Employee 클래스 정의\n",
    "class Employee(Person):\n",
    "    def __init__(self, name: str, age: int, employeeID: int):\n",
    "        # 부모 클래스의 생성자 호출\n",
    "        super().__init__(name, age)\n",
    "        # Employee 고유의 속성 추가\n",
    "        self.employeeID = employeeID\n",
    "        print(f\"직원 '{name}'이 등록되었습니다. (나이: {age}, ID: {employeeID})\")\n",
    "    \n",
    "    def getID(self) -> int:\n",
    "        # employeeID 반환\n",
    "        return self.employeeID\n",
    "    \n",
    "    def get_info(self) -> str:\n",
    "        # 직원 정보 반환\n",
    "        return f\"이름: {self.name}, 나이: {self.age}, ID: {self.employeeID}\"\n",
    "\n",
    "\n",
    "print(\"--- 7번 문제 실행 ---\")\n",
    "# Employee 객체 생성 및 테스트\n",
    "emp = Employee(\"동양\", 65, 2019)\n",
    "\n",
    "print(\"\\n--- 이름, 나이, ID 출력 ---\")\n",
    "print(f\"이름: {emp.name}\")\n",
    "print(f\"나이: {emp.age}\")\n",
    "print(f\"ID: {emp.getID()}\")\n",
    "\n",
    "print(f\"\\n--- 전체 정보 ---\")\n",
    "print(emp.get_info())\n",
    "\n",
    "print(\"\\n--- 부모 클래스 메소드 사용 ---\")\n",
    "emp.getName()  # 부모 클래스 메소드 사용\n",
    "emp.getAge()   # 부모 클래스 메소드 사용\n"
   ]
  },
  {
   "cell_type": "code",
   "execution_count": null,
   "id": "26c6fa4d",
   "metadata": {},
   "outputs": [],
   "source": [
    "# 실행 결과\n",
    "emp = Employee(\"동양\", 65, 2019)\n",
    "print(f\"이름: {emp.name}\")\n",
    "print(f\"나이: {emp.age}\")\n",
    "print(f\"ID: {emp.getID()}\")\n",
    "emp.getName()\n",
    "emp.getAge()\n"
   ]
  }
 ],
 "metadata": {
  "language_info": {
   "name": "python"
  }
 },
 "nbformat": 4,
 "nbformat_minor": 5
}
