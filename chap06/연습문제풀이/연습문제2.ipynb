{
 "cells": [
  {
   "cell_type": "markdown",
   "id": "f59647f9",
   "metadata": {},
   "source": [
    "## 6장 노트정리\n",
    "\n",
    "이 파일은 6장을 학습한 내용을 정리한 내용입니다.\n",
    "\n",
    "날짜 : 2025 - 09 - 24\n",
    "\n",
    "저자 : 차일권\n",
    "\n",
    "학번 : 202111467"
   ]
  },
  {
   "cell_type": "markdown",
   "id": "215c740c",
   "metadata": {},
   "source": [
    "2번 문제: my_money = Moneybox() 객체를 생성하고 1000원을 저축하고, 200원을 인출한다음, 총액을 출력하라.\n"
   ]
  },
  {
   "cell_type": "code",
   "execution_count": null,
   "id": "eac9d94d",
   "metadata": {},
   "outputs": [],
   "source": [
    "# Moneybox 클래스 정의 (1번 문제에서 정의한 클래스 사용)\n",
    "class Moneybox:\n",
    "    def __init__(self):\n",
    "        # 비공개 속성으로 총액 초기화\n",
    "        self.__total = 0\n",
    "        print(\"금고 생성.\")\n",
    "\n",
    "    # 입금 메서드\n",
    "    def deposit(self, money: int):\n",
    "        if money > 0:\n",
    "            # 금액이 0보다 클 경우만 입금\n",
    "            self.__total += money\n",
    "            print(f\"{money}원 입금 완료.\")\n",
    "        else:\n",
    "            # 0 이하 금액은 오류 처리\n",
    "            print(\"입력 오류: 0 초과 금액 필요.\")\n",
    "        \n",
    "        # 현재 총액 출력\n",
    "        print(f\"총액: {self.__total}원\")\n",
    "\n",
    "    # 인출 메서드\n",
    "    def extract(self, money: int):\n",
    "        if money > 0 and self.__total >= money:\n",
    "            # 잔액이 충분할 경우 인출\n",
    "            self.__total -= money\n",
    "            print(f\"{money}원 인출 완료.\")\n",
    "        elif self.__total < money:\n",
    "            # 잔액이 부족한 경우\n",
    "            print(\"잔액 부족.\")\n",
    "        else:\n",
    "            # 0 이하 금액은 오류 처리\n",
    "            print(\"입력 오류: 0 초과 금액 필요.\")\n",
    "            \n",
    "        # 현재 총액 출력\n",
    "        print(f\"총액: {self.__total}원\")\n",
    "\n",
    "    # 총액 반환 메서드\n",
    "    def get_total(self) -> int:\n",
    "        return self.__total\n",
    "\n",
    "\n",
    "print(\"--- 2번 문제 실행 ---\")\n",
    "my_money = Moneybox()          # 금고 객체 생성\n",
    "my_money.deposit(1000)         # 1000원 입금\n",
    "my_money.extract(200)          # 200원 인출\n",
    "\n",
    "print(\"\\n--- 최종 총액 ---\")\n",
    "print(f\"최종 총액: {my_money.get_total()}원\")  # 최종 금액 출력\n"
   ]
  },
  {
   "cell_type": "code",
   "execution_count": null,
   "id": "af17a37d",
   "metadata": {},
   "outputs": [],
   "source": [
    "# 실행 결과\n",
    "my_money = Moneybox()\n",
    "my_money.deposit(1000)\n",
    "my_money.extract(200)\n",
    "print(f\"최종 총액: {my_money.get_total()}원\")\n"
   ]
  }
 ],
 "metadata": {
  "language_info": {
   "name": "python"
  }
 },
 "nbformat": 4,
 "nbformat_minor": 5
}
