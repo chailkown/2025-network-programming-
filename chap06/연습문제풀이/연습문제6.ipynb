{
 "cells": [
  {
   "cell_type": "markdown",
   "id": "b72151e2",
   "metadata": {},
   "source": [
    "## 6장 연습문제6\n",
    "\n",
    "이 파일은 6장 연습문제6을 풀이한 내용입니다.\n",
    "\n",
    "날짜 : 2025 - 09 - 24\n",
    "\n",
    "저자 : 차일권\n",
    "\n",
    "학번 : 202111467\n"
   ]
  },
  {
   "cell_type": "markdown",
   "id": "923052e2",
   "metadata": {},
   "source": [
    "6번 문제: 다음 프로그램을 실행했을 때 아래 내용이 출력되도록 클래스를 정의하라. 학번(id) 앞 4자리가 2018보다 작으면 grade() 메소드에 의해 \"3학년입니다\"가 출력되고 아니면 \"3학년이 아닙니다\"가 출력된다.\n",
    "\n",
    "```python\n",
    "man = Student(name = \"홍길동\", id = 20150001, dept = \"로봇공학과\")\n",
    "print(\"이름: {}, 학번: {}, 학과: {}\".format(man.name, man.id, man.dept))\n",
    "man.grade()\n",
    "```\n",
    "\n",
    "[출력 내용]\n",
    "이름: 홍길동, 학번: 20150001, 학과: 로봇공학과\n",
    "3학년입니다\n"
   ]
  },
  {
   "cell_type": "code",
   "execution_count": null,
   "id": "33e018ac",
   "metadata": {},
   "outputs": [],
   "source": [
    "class Student:\n",
    "    def __init__(self, name: str, id: int, dept: str):\n",
    "        # 학생 정보 초기화\n",
    "        self.name = name    # 이름\n",
    "        self.id = id        # 학번\n",
    "        self.dept = dept    # 학과\n",
    "        print(f\"학생 '{name}'이 등록되었습니다.\")\n",
    "    \n",
    "    def grade(self):\n",
    "        # 학번 앞 4자리를 추출하여 학년 판단\n",
    "        year = self.id // 10000  # 학번에서 입학년도 추출 (예: 20150001 -> 2015)\n",
    "        \n",
    "        if year < 2018:\n",
    "            print(\"3학년입니다\")\n",
    "        else:\n",
    "            print(\"3학년이 아닙니다\")\n",
    "    \n",
    "    def get_info(self) -> str:\n",
    "        # 학생 정보 반환\n",
    "        return f\"이름: {self.name}, 학번: {self.id}, 학과: {self.dept}\"\n",
    "\n",
    "\n",
    "print(\"--- 6번 문제 실행 ---\")\n",
    "# Student 객체 생성 및 테스트\n",
    "man = Student(name=\"홍길동\", id=20150001, dept=\"로봇공학과\")\n",
    "print(\"이름: {}, 학번: {}, 학과: {}\".format(man.name, man.id, man.dept))\n",
    "man.grade()\n",
    "\n",
    "print(\"\\n--- 추가 테스트 ---\")\n",
    "# 2018년 이후 입학 학생 테스트\n",
    "student2 = Student(name=\"김철수\", id=20190001, dept=\"컴퓨터공학과\")\n",
    "print(\"이름: {}, 학번: {}, 학과: {}\".format(student2.name, student2.id, student2.dept))\n",
    "student2.grade()\n"
   ]
  },
  {
   "cell_type": "code",
   "execution_count": null,
   "id": "0fd23a05",
   "metadata": {},
   "outputs": [],
   "source": [
    "# 실행 결과\n",
    "man = Student(name=\"홍길동\", id=20150001, dept=\"로봇공학과\")\n",
    "print(\"이름: {}, 학번: {}, 학과: {}\".format(man.name, man.id, man.dept))\n",
    "man.grade()\n",
    "\n",
    "student2 = Student(name=\"김철수\", id=20190001, dept=\"컴퓨터공학과\")\n",
    "print(\"이름: {}, 학번: {}, 학과: {}\".format(student2.name, student2.id, student2.dept))\n",
    "student2.grade()\n"
   ]
  }
 ],
 "metadata": {
  "language_info": {
   "name": "python"
  }
 },
 "nbformat": 4,
 "nbformat_minor": 5
}
