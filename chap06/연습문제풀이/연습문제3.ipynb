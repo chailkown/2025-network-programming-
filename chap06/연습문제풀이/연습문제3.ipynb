{
 "cells": [
  {
   "cell_type": "markdown",
   "id": "fd040cbe",
   "metadata": {},
   "source": [
    "## 6장 연습문제3\n",
    "\n",
    "이 파일은 6장 연습문제3을 풀이한 내용입니다.\n",
    "\n",
    "날짜 : 2025 - 09 - 24\n",
    "\n",
    "저자 : 차일권\n",
    "\n",
    "학번 : 202111467\n"
   ]
  },
  {
   "cell_type": "markdown",
   "id": "81277905",
   "metadata": {},
   "source": [
    "3번 문제: Password_manager 클래스를 작성하라. 이 클래스는 사용자의 모든 과거 패스워드를 저장하는 old_passwords 리스트 변수를 갖는다. 리스트의 마지막 요소는 현재 패스워드이다. 현재 패스워드를 알려주는 get_password와 새로운 패스워드를 설정하는 set_password 메소드를 정의하라. set_password는 과거에 사용하지 않은 새로운 패스워드를 설정할 때만 유효하다. 문자열을 입력받아 현재 패스워드와 같은지 True 또는 False를 반환하는 is_correct 메소드를 정의하라.\n"
   ]
  },
  {
   "cell_type": "code",
   "execution_count": null,
   "id": "bcefeab9",
   "metadata": {},
   "outputs": [],
   "source": [
    "class Password_manager:\n",
    "    def __init__(self):\n",
    "        # 과거 패스워드를 저장하는 리스트 (마지막 요소가 현재 패스워드)\n",
    "        self.old_passwords = []\n",
    "        print(\"패스워드 매니저가 생성되었습니다.\")\n",
    "    \n",
    "    def get_password(self) -> str:\n",
    "        # 현재 패스워드 반환 (리스트의 마지막 요소)\n",
    "        if self.old_passwords:\n",
    "            return self.old_passwords[-1]\n",
    "        else:\n",
    "            return \"패스워드가 설정되지 않았습니다.\"\n",
    "    \n",
    "    def set_password(self, new_password: str) -> bool:\n",
    "        # 새로운 패스워드 설정 (과거에 사용하지 않은 경우만)\n",
    "        if new_password in self.old_passwords:\n",
    "            print(f\"오류: '{new_password}'는 과거에 사용된 패스워드입니다.\")\n",
    "            return False\n",
    "        else:\n",
    "            self.old_passwords.append(new_password)\n",
    "            print(f\"패스워드가 '{new_password}'로 설정되었습니다.\")\n",
    "            return True\n",
    "    \n",
    "    def is_correct(self, input_password: str) -> bool:\n",
    "        # 입력된 패스워드가 현재 패스워드와 같은지 확인\n",
    "        if not self.old_passwords:\n",
    "            print(\"설정된 패스워드가 없습니다.\")\n",
    "            return False\n",
    "        \n",
    "        current_password = self.old_passwords[-1]\n",
    "        if input_password == current_password:\n",
    "            print(\"패스워드가 일치합니다.\")\n",
    "            return True\n",
    "        else:\n",
    "            print(\"패스워드가 일치하지 않습니다.\")\n",
    "            return False\n",
    "\n",
    "\n",
    "# 테스트 코드\n",
    "print(\"--- Password_manager 클래스 테스트 ---\")\n",
    "pm = Password_manager()\n",
    "\n",
    "# 패스워드 설정\n",
    "pm.set_password(\"password123\")\n",
    "pm.set_password(\"mypassword\")\n",
    "\n",
    "# 중복 패스워드 시도\n",
    "pm.set_password(\"password123\")  # 이미 사용된 패스워드\n",
    "\n",
    "# 현재 패스워드 확인\n",
    "print(f\"현재 패스워드: {pm.get_password()}\")\n",
    "\n",
    "# 패스워드 확인\n",
    "pm.is_correct(\"mypassword\")  # 올바른 패스워드\n",
    "pm.is_correct(\"wrongpass\")   # 잘못된 패스워드\n",
    "\n",
    "# 과거 패스워드 목록 확인\n",
    "print(f\"과거 패스워드 목록: {pm.old_passwords}\")\n"
   ]
  },
  {
   "cell_type": "code",
   "execution_count": null,
   "id": "0f96d2cd",
   "metadata": {},
   "outputs": [],
   "source": [
    "# 실행 결과\n",
    "pm = Password_manager()\n",
    "pm.set_password(\"password123\")\n",
    "pm.set_password(\"mypassword\")\n",
    "pm.set_password(\"password123\")  # 중복 시도\n",
    "print(f\"현재 패스워드: {pm.get_password()}\")\n",
    "pm.is_correct(\"mypassword\")\n",
    "pm.is_correct(\"wrongpass\")\n",
    "print(f\"과거 패스워드 목록: {pm.old_passwords}\")\n"
   ]
  },
  {
   "cell_type": "markdown",
   "id": "a5e9ab55",
   "metadata": {},
   "source": []
  }
 ],
 "metadata": {
  "language_info": {
   "name": "python"
  }
 },
 "nbformat": 4,
 "nbformat_minor": 5
}
