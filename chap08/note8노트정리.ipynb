{
  "cells": [
    {
      "cell_type": "markdown",
      "metadata": {},
      "source": [
        "# 8장 노트정리\n",
        "\n",
        "날짜 : 2025 - 10 - 08\n",
        "저자 : 차일권\n",
        "학번 : 202111467\n"
      ]
    },
    {
      "cell_type": "markdown",
      "metadata": {},
      "source": [
        "# 예외처리\n",
        "\n",
        "예외는 프로그램 실행 중에 오류가 발생하면 생성되는 특별한 객체다.\n",
        "\n",
        "## 주요 예외 종류\n",
        "- `ZeroDivisionError`: 0으로 나눌 때\n",
        "- `IndexError`: 인덱스가 범위를 벗어날 때\n",
        "- `FileNotFoundError`: 존재하지 않는 파일을 열려고 할 때\n",
        "- `ValueError`: 원하는 값을 입력받지 못할 때\n",
        "- `NameError`: 정의되지 않은 변수를 사용할 때\n",
        "- `TypeError`: 데이터형이 맞지 않는 연산을 할 때\n"
      ]
    },
    {
      "cell_type": "code",
      "execution_count": null,
      "metadata": {},
      "outputs": [],
      "source": [
        "# 예외 발생 예제\n",
        "print(5/0)  # ZeroDivisionError\n",
        "a = [0, 1, 2]\n",
        "print(a[3])  # IndexError\n",
        "int('abc')  # ValueError\n"
      ]
    },
    {
      "cell_type": "markdown",
      "metadata": {},
      "source": [
        "## try-except 문\n",
        "\n",
        "```python\n",
        "try:\n",
        "    # 실행할 코드\n",
        "    result = 10 / 0\n",
        "except ZeroDivisionError:\n",
        "    print(\"0으로 나눌 수 없습니다\")\n",
        "except Exception as e:\n",
        "    print(f\"예외 발생: {e}\")\n",
        "else:\n",
        "    print(\"예외가 발생하지 않았습니다\")\n",
        "finally:\n",
        "    print(\"항상 실행됩니다\")\n",
        "```\n"
      ]
    },
    {
      "cell_type": "code",
      "execution_count": null,
      "metadata": {},
      "outputs": [],
      "source": [
        "# 예외처리 예제\n",
        "try:\n",
        "    num = int(input(\"숫자를 입력하세요: \"))\n",
        "    result = 10 / num\n",
        "    print(f\"결과: {result}\")\n",
        "except ValueError:\n",
        "    print(\"숫자가 아닙니다\")\n",
        "except ZeroDivisionError:\n",
        "    print(\"0으로 나눌 수 없습니다\")\n",
        "except Exception as e:\n",
        "    print(f\"예외 발생: {e}\")\n",
        "finally:\n",
        "    print(\"프로그램 종료\")\n"
      ]
    },
    {
      "cell_type": "markdown",
      "metadata": {},
      "source": [
        "## 사용자 정의 예외\n",
        "\n",
        "```python\n",
        "class NegativeNumberError(Exception):\n",
        "    def __init__(self, value):\n",
        "        self.value = value\n",
        "        self.message = f\"음수는 허용되지 않습니다: {value}\"\n",
        "        super().__init__(self.message)\n",
        "\n",
        "def process_number(n):\n",
        "    if n < 0:\n",
        "        raise NegativeNumberError(n)\n",
        "    return n * 2\n",
        "```\n"
      ]
    },
    {
      "cell_type": "code",
      "execution_count": null,
      "metadata": {},
      "outputs": [],
      "source": [
        "# 사용자 정의 예외 예제\n",
        "class NegativeNumberError(Exception):\n",
        "    def __init__(self, value):\n",
        "        self.value = value\n",
        "        self.message = f\"음수는 허용되지 않습니다: {value}\"\n",
        "        super().__init__(self.message)\n",
        "\n",
        "def process_number(n):\n",
        "    if n < 0:\n",
        "        raise NegativeNumberError(n)\n",
        "    return n * 2\n",
        "\n",
        "try:\n",
        "    num = int(input(\"양의 정수를 입력하세요: \"))\n",
        "    result = process_number(num)\n",
        "    print(f\"처리 결과: {result}\")\n",
        "except ValueError:\n",
        "    print(\"숫자가 아닙니다\")\n",
        "except NegativeNumberError as e:\n",
        "    print(f\"사용자 정의 예외: {e}\")\n"
      ]
    },
    {
      "cell_type": "markdown",
      "metadata": {},
      "source": [
        "# 파일 처리\n",
        "\n",
        "## 파일 열기 모드\n",
        "- `'r'`: 읽기 전용\n",
        "- `'w'`: 쓰기 전용 (덮어쓰기)\n",
        "- `'a'`: 추가 모드\n",
        "- `'x'`: 배타적 생성 모드\n",
        "- `'r+'`: 읽기/쓰기 모드\n",
        "- `'w+'`: 읽기/쓰기 모드 (덮어쓰기)\n",
        "- `'a+'`: 읽기/쓰기 모드 (추가)\n"
      ]
    },
    {
      "cell_type": "code",
      "execution_count": null,
      "metadata": {},
      "outputs": [],
      "source": [
        "# 텍스트 파일 쓰기\n",
        "with open(\"phonebook.txt\", \"w\", encoding=\"utf-8\") as f:\n",
        "    f.write(\"홍길동, 010-1234-5678\\n\")\n",
        "    f.write(\"김철수, 010-2345-6789\\n\")\n",
        "    f.write(\"이영희, 010-3456-7890\\n\")\n",
        "print(\"파일 쓰기 완료\")\n"
      ]
    },
    {
      "cell_type": "code",
      "execution_count": null,
      "metadata": {},
      "outputs": [],
      "source": [
        "# 텍스트 파일 읽기\n",
        "try:\n",
        "    with open(\"phonebook.txt\", \"r\", encoding=\"utf-8\") as f:\n",
        "        for line in f:\n",
        "            print(line.strip())\n",
        "except FileNotFoundError:\n",
        "    print(\"파일을 찾을 수 없습니다\")\n"
      ]
    },
    {
      "cell_type": "code",
      "execution_count": null,
      "metadata": {},
      "outputs": [],
      "source": [
        "# 딕셔너리를 파일에 저장하고 읽기\n",
        "contacts = {\n",
        "    '홍길동': '010-1234-5678',\n",
        "    '김철수': '010-2345-6789',\n",
        "    '이영희': '010-3456-7890'\n",
        "}\n",
        "\n",
        "# 쓰기\n",
        "with open(\"contacts.txt\", \"w\", encoding=\"utf-8\") as f:\n",
        "    for name, phone in contacts.items():\n",
        "        f.write(f\"{name}, {phone}\\n\")\n",
        "\n",
        "# 읽기\n",
        "with open(\"contacts.txt\", \"r\", encoding=\"utf-8\") as f:\n",
        "    for line in f:\n",
        "        name, phone = line.strip().split(\", \")\n",
        "        print(f\"이름: {name}, 전화번호: {phone}\")\n"
      ]
    },
    {
      "cell_type": "markdown",
      "metadata": {},
      "source": [
        "## 이진 파일 처리\n",
        "\n",
        "이진 파일은 이미지, 음악, 영상 등 텍스트가 아닌 데이터를 저장한다.\n"
      ]
    },
    {
      "cell_type": "code",
      "execution_count": null,
      "metadata": {},
      "outputs": [],
      "source": [
        "import struct\n",
        "\n",
        "# 연락처 클래스\n",
        "class ContactRecord:\n",
        "    def __init__(self, phone: str, name: str, age: int = 0):\n",
        "        self.phone = phone\n",
        "        self.name = name\n",
        "        self.age = age\n",
        "    \n",
        "    def __str__(self):\n",
        "        return f\"전화번호: {self.phone}, 이름: {self.name}, 나이: {self.age}\"\n",
        "\n",
        "# 레코드 패킹/언패킹 함수\n",
        "def pack_contact_record(contact: ContactRecord) -> bytes:\n",
        "    phone_bytes = contact.phone.encode('utf-8')[:16].ljust(16, b'\\x00')\n",
        "    name_bytes = contact.name.encode('utf-8')[:16].ljust(16, b'\\x00')\n",
        "    return struct.pack(\"16s16si\", phone_bytes, name_bytes, contact.age)\n",
        "\n",
        "def unpack_contact_record(record: bytes) -> ContactRecord:\n",
        "    phone_bytes, name_bytes, age = struct.unpack(\"16s16si\", record)\n",
        "    phone = phone_bytes.rstrip(b'\\x00').decode('utf-8')\n",
        "    name = name_bytes.rstrip(b'\\x00').decode('utf-8')\n",
        "    return ContactRecord(phone, name, age)\n",
        "\n",
        "# 테스트 데이터\n",
        "contacts = [\n",
        "    ContactRecord(\"010-1234-5678\", \"홍길동\", 25),\n",
        "    ContactRecord(\"010-2345-6789\", \"김철수\", 30),\n",
        "    ContactRecord(\"010-3456-7890\", \"이영희\", 28)\n",
        "]\n",
        "\n",
        "# 이진 파일에 쓰기\n",
        "with open(\"contacts.bin\", \"wb\") as f:\n",
        "    for contact in contacts:\n",
        "        record = pack_contact_record(contact)\n",
        "        f.write(record)\n",
        "        print(f\"저장: {contact}\")\n",
        "\n",
        "print(\"\\n이진 파일 읽기:\")\n",
        "with open(\"contacts.bin\", \"rb\") as f:\n",
        "    record_num = 1\n",
        "    while True:\n",
        "        record = f.read(36)  # 16+16+4 = 36바이트\n",
        "        if not record or len(record) < 36:\n",
        "            break\n",
        "        contact = unpack_contact_record(record)\n",
        "        print(f\"레코드 {record_num}: {contact}\")\n",
        "        record_num += 1\n"
      ]
    },
    {
      "cell_type": "markdown",
      "metadata": {},
      "source": [
        "## 파일의 임의 접근\n",
        "\n",
        "`f.seek(offset, from)` 함수로 특정 위치로 이동할 수 있다.\n",
        "- `from`: 0(파일 처음), 1(현재 위치), 2(파일 끝)\n",
        "- `f.tell()`: 현재 위치 반환\n"
      ]
    },
    {
      "cell_type": "code",
      "execution_count": null,
      "metadata": {},
      "outputs": [],
      "source": [
        "# 파일 임의 접근 예제\n",
        "with open(\"test.txt\", \"w+\") as f:\n",
        "    f.write(\"Hello World!\")\n",
        "    f.seek(0)  # 파일 처음으로 이동\n",
        "    content = f.read()\n",
        "    print(f\"읽은 내용: {content}\")\n",
        "    \n",
        "    f.seek(6)  # 6번째 위치로 이동\n",
        "    f.write(\"Python\")  # \"World\"를 \"Python\"으로 변경\n",
        "    \n",
        "    f.seek(0)\n",
        "    content = f.read()\n",
        "    print(f\"수정된 내용: {content}\")\n"
      ]
    },
    {
      "cell_type": "markdown",
      "metadata": {},
      "source": [
        "# F-string\n",
        "\n",
        "F-string은 변수나 표현식을 문자열에 삽입할 수 있는 포맷 문자열이다.\n",
        "\n",
        "## 기본 사용법\n",
        "```python\n",
        "name = \"홍길동\"\n",
        "age = 25\n",
        "print(f\"이름: {name}, 나이: {age}\")\n",
        "```\n"
      ]
    },
    {
      "cell_type": "code",
      "execution_count": null,
      "metadata": {},
      "outputs": [],
      "source": [
        "# F-string 기본 예제\n",
        "name = \"홍길동\"\n",
        "age = 25\n",
        "score = 85.5\n",
        "\n",
        "print(f\"이름: {name}, 나이: {age}, 점수: {score}\")\n",
        "print(f\"나이 + 10 = {age + 10}\")\n",
        "print(f\"점수는 {'합격' if score >= 80 else '불합격'}\")\n"
      ]
    },
    {
      "cell_type": "markdown",
      "metadata": {},
      "source": [
        "## 숫자 포맷팅\n",
        "\n",
        "- `{값:포맷}` 형태로 사용\n",
        "- 소수점 자릿수: `.2f`\n",
        "- 천 단위 구분: `,`\n",
        "- 정렬: `<`(왼쪽), `>`(오른쪽), `^`(가운데)\n",
        "- 패딩: `0`으로 채우기\n"
      ]
    },
    {
      "cell_type": "code",
      "execution_count": null,
      "metadata": {},
      "outputs": [],
      "source": [
        "# 숫자 포맷팅 예제\n",
        "number = 1234567.89\n",
        "\n",
        "print(f\"소수점 2자리: {number:.2f}\")\n",
        "print(f\"천 단위 구분: {number:,}\")\n",
        "print(f\"천 단위 구분 + 소수점: {number:,.2f}\")\n",
        "print(f\"왼쪽 정렬: {number:<15,.2f}\")\n",
        "print(f\"오른쪽 정렬: {number:>15,.2f}\")\n",
        "print(f\"가운데 정렬: {number:^15,.2f}\")\n",
        "print(f\"0으로 패딩: {number:015.2f}\")\n",
        "\n",
        "# 진법 변환\n",
        "num = 255\n",
        "print(f\"10진수: {num}\")\n",
        "print(f\"2진수: {num:b}\")\n",
        "print(f\"8진수: {num:o}\")\n",
        "print(f\"16진수: {num:x}\")\n",
        "print(f\"16진수(대문자): {num:X}\")\n"
      ]
    },
    {
      "cell_type": "markdown",
      "metadata": {},
      "source": [
        "## 날짜와 시간 포맷팅\n",
        "\n",
        "`datetime` 객체를 F-string으로 포맷팅할 수 있다.\n"
      ]
    },
    {
      "cell_type": "code",
      "execution_count": null,
      "metadata": {},
      "outputs": [],
      "source": [
        "from datetime import datetime\n",
        "\n",
        "now = datetime.now()\n",
        "birthday = datetime(1995, 5, 15, 14, 30, 0)\n",
        "\n",
        "print(f\"현재 시간: {now}\")\n",
        "print(f\"기본 포맷: {now:%Y-%m-%d %H:%M:%S}\")\n",
        "print(f\"한국 날짜 형식: {now:%Y년%m월%d일}\")\n",
        "print(f\"시간만: {now:%H:%M:%S}\")\n",
        "print(f\"AM/PM 형식: {now:%Y-%m-%d %I:%M:%S %p}\")\n",
        "print(f\"요일: {now:%A}\")\n",
        "print(f\"월 이름: {now:%B}\")\n",
        "print(f\"\\n생일: {birthday:%Y년%m월%d일%H시%M분}\")\n"
      ]
    },
    {
      "cell_type": "markdown",
      "metadata": {},
      "source": [
        "## 문자열 정렬과 패딩\n",
        "\n",
        "문자열을 정렬하고 특정 문자로 패딩할 수 있다.\n"
      ]
    },
    {
      "cell_type": "code",
      "execution_count": null,
      "metadata": {},
      "outputs": [],
      "source": [
        "# 문자열 정렬과 패딩\n",
        "text = \"Python\"\n",
        "width = 20\n",
        "\n",
        "print(\"기본 정렬:\")\n",
        "print(f\"'{text:<{width}}'\")\n",
        "print(f\"'{text:>{width}}'\")\n",
        "print(f\"'{text:^{width}}'\")\n",
        "\n",
        "print(\"\\n특수 문자로 패딩:\")\n",
        "print(f\"'{text:-<{width}}'\")\n",
        "print(f\"'{text:*>{width}}'\")\n",
        "print(f\"'{text:=^{width}}'\")\n",
        "\n",
        "# 테이블 형태 출력\n",
        "print(\"\\n테이블 형태:\")\n",
        "data = [\n",
        "    (\"이름\", \"나이\", \"점수\"),\n",
        "    (\"김철수\", 25, 85),\n",
        "    (\"이영희\", 30, 92),\n",
        "    (\"박민수\", 22, 78)\n",
        "]\n",
        "\n",
        "for row in data:\n",
        "    print(f\"{row[0]:<8} {row[1]:>3} {row[2]:>4}\")\n"
      ]
    },
    {
      "cell_type": "markdown",
      "metadata": {},
      "source": [
        "## 실용 예제\n",
        "\n",
        "진행률 표시와 로그 메시지 포맷팅\n"
      ]
    },
    {
      "cell_type": "code",
      "execution_count": null,
      "metadata": {},
      "outputs": [],
      "source": [
        "# 진행률 표시\n",
        "def show_progress(current, total):\n",
        "    percentage = (current / total) * 100\n",
        "    bar_length = 20\n",
        "    filled_length = int(bar_length * current / total)\n",
        "    bar = '█' * filled_length + '-' * (bar_length - filled_length)\n",
        "    return f\"\\r진행률: |{bar}| {percentage:.1f}% ({current}/{total})\"\n",
        "\n",
        "# 로그 메시지 포맷팅\n",
        "def log_message(level, message):\n",
        "    timestamp = datetime.now()\n",
        "    return f\"[{timestamp:%Y-%m-%d %H:%M:%S}] {level:>5}| {message}\"\n",
        "\n",
        "# 진행률 표시 예제\n",
        "for i in range(0, 101, 20):\n",
        "    print(show_progress(i, 100))\n",
        "\n",
        "print(\"\\n\" + \"=\"*50)\n",
        "\n",
        "# 로그 메시지 예제\n",
        "print(log_message(\"INFO\", \"프로그램이 시작되었습니다\"))\n",
        "print(log_message(\"ERROR\", \"파일을 찾을 수 없습니다\"))\n",
        "print(log_message(\"DEBUG\", \"변수 x의 값: 42\"))\n"
      ]
    }
  ],
  "metadata": {
    "language_info": {
      "name": "python"
    }
  },
  "nbformat": 4,
  "nbformat_minor": 2
}
